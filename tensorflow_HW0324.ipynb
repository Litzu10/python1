{
  "nbformat": 4,
  "nbformat_minor": 0,
  "metadata": {
    "colab": {
      "name": "tensorflow_HW0324.ipynb",
      "provenance": [],
      "collapsed_sections": [],
      "authorship_tag": "ABX9TyOgDK3Zktuh0JCoLEYcfXEn",
      "include_colab_link": true
    },
    "kernelspec": {
      "name": "python3",
      "display_name": "Python 3"
    }
  },
  "cells": [
    {
      "cell_type": "markdown",
      "metadata": {
        "id": "view-in-github",
        "colab_type": "text"
      },
      "source": [
        "<a href=\"https://colab.research.google.com/github/Litzu10/python1/blob/master/tensorflow_HW0324.ipynb\" target=\"_parent\"><img src=\"https://colab.research.google.com/assets/colab-badge.svg\" alt=\"Open In Colab\"/></a>"
      ]
    },
    {
      "cell_type": "code",
      "metadata": {
        "id": "BNAWdFRJ77QK",
        "colab_type": "code",
        "colab": {}
      },
      "source": [
        "%matplotlib inline\n",
        "\n",
        "import numpy as np \n",
        "import matplotlib.pyplot as plt"
      ],
      "execution_count": 0,
      "outputs": []
    },
    {
      "cell_type": "code",
      "metadata": {
        "id": "43rFXni478bb",
        "colab_type": "code",
        "colab": {}
      },
      "source": [
        "from tensorflow.keras.datasets import fashion_mnist"
      ],
      "execution_count": 0,
      "outputs": []
    },
    {
      "cell_type": "code",
      "metadata": {
        "id": "57neGq1278e9",
        "colab_type": "code",
        "colab": {}
      },
      "source": [
        "(x_train, y_train), (x_test, y_test) = fashion_mnist.load_data()"
      ],
      "execution_count": 0,
      "outputs": []
    },
    {
      "cell_type": "code",
      "metadata": {
        "id": "ae4RM2Ro78Y7",
        "colab_type": "code",
        "colab": {}
      },
      "source": [
        "class_names = ['T-shirt/top', 'Trouser', 'Pullover', 'Dress', 'Coat',\n",
        "               'Sandal', 'Shirt', 'Sneaker', 'Bag', 'Ankle boot']"
      ],
      "execution_count": 0,
      "outputs": []
    },
    {
      "cell_type": "code",
      "metadata": {
        "id": "wYJEsLyF78W9",
        "colab_type": "code",
        "outputId": "48ce9a01-1361-4d38-a54c-de473199706e",
        "colab": {
          "base_uri": "https://localhost:8080/",
          "height": 283
        }
      },
      "source": [
        "n = 1234\n",
        "print('這是', class_names[y_train[n]])\n",
        "plt.imshow(x_train[n], cmap='Greys');"
      ],
      "execution_count": 32,
      "outputs": [
        {
          "output_type": "stream",
          "text": [
            "這是 Bag\n"
          ],
          "name": "stdout"
        },
        {
          "output_type": "display_data",
          "data": {
            "image/png": "[encoded data removed]",
            "text/plain": [
              "<Figure size 432x288 with 1 Axes>"
            ]
          },
          "metadata": {
            "tags": []
          }
        }
      ]
    },
    {
      "cell_type": "code",
      "metadata": {
        "id": "1tcr8d8c78U_",
        "colab_type": "code",
        "outputId": "fd92def7-5f74-4cf2-ee9d-014a47899805",
        "colab": {
          "base_uri": "https://localhost:8080/",
          "height": 106
        }
      },
      "source": [
        "pick = np.random.choice(60000, 5, replace=False)\n",
        "\n",
        "for i in range(5):\n",
        "    n = pick[i]\n",
        "    ax = plt.subplot(151+i)\n",
        "    ax.set_xticks([])\n",
        "    ax.set_yticks([])\n",
        "    ax.set_title(class_names[y_train[n]], fontsize=10)\n",
        "    plt.imshow(x_train[n], cmap='Greys')  "
      ],
      "execution_count": 33,
      "outputs": [
        {
          "output_type": "display_data",
          "data": {
            "image/png": "[encoded data removed]",
            "text/plain": [
              "<Figure size 432x288 with 5 Axes>"
            ]
          },
          "metadata": {
            "tags": []
          }
        }
      ]
    },
    {
      "cell_type": "code",
      "metadata": {
        "id": "WJ6PLqLr78Sd",
        "colab_type": "code",
        "colab": {}
      },
      "source": [
        "x_train = x_train/255\n",
        "x_test = x_test/255"
      ],
      "execution_count": 0,
      "outputs": []
    },
    {
      "cell_type": "code",
      "metadata": {
        "id": "V_Jm-RkI78Pi",
        "colab_type": "code",
        "colab": {
          "base_uri": "https://localhost:8080/",
          "height": 35
        },
        "outputId": "c02c302a-69d3-422b-995b-dcdf1b4abdf6"
      },
      "source": [
        "x_train.shape"
      ],
      "execution_count": 35,
      "outputs": [
        {
          "output_type": "execute_result",
          "data": {
            "text/plain": [
              "(60000, 28, 28)"
            ]
          },
          "metadata": {
            "tags": []
          },
          "execution_count": 35
        }
      ]
    },
    {
      "cell_type": "code",
      "metadata": {
        "id": "-4x2scljv3-Q",
        "colab_type": "code",
        "colab": {
          "base_uri": "https://localhost:8080/",
          "height": 35
        },
        "outputId": "49c3b3cc-9a29-4e11-e713-77d96d5fc344"
      },
      "source": [
        "x_test.shape"
      ],
      "execution_count": 36,
      "outputs": [
        {
          "output_type": "execute_result",
          "data": {
            "text/plain": [
              "(10000, 28, 28)"
            ]
          },
          "metadata": {
            "tags": []
          },
          "execution_count": 36
        }
      ]
    },
    {
      "cell_type": "code",
      "metadata": {
        "id": "YZ9N47OQv4Aj",
        "colab_type": "code",
        "colab": {}
      },
      "source": [
        "x_train = x_train.reshape(60000,784)/255"
      ],
      "execution_count": 0,
      "outputs": []
    },
    {
      "cell_type": "code",
      "metadata": {
        "id": "BEWsYdaJv38F",
        "colab_type": "code",
        "colab": {}
      },
      "source": [
        "x_test = x_test.reshape(10000,784)/255"
      ],
      "execution_count": 0,
      "outputs": []
    },
    {
      "cell_type": "code",
      "metadata": {
        "id": "h9vGrrW2v331",
        "colab_type": "code",
        "colab": {}
      },
      "source": [
        "from tensorflow.keras.utils import to_categorical "
      ],
      "execution_count": 0,
      "outputs": []
    },
    {
      "cell_type": "code",
      "metadata": {
        "id": "Xpr0-Lq1wDxU",
        "colab_type": "code",
        "colab": {}
      },
      "source": [
        "y_train = to_categorical(y_train, 10)"
      ],
      "execution_count": 0,
      "outputs": []
    },
    {
      "cell_type": "code",
      "metadata": {
        "id": "23P47hZgwEAF",
        "colab_type": "code",
        "colab": {}
      },
      "source": [
        "y_test = to_categorical(y_test, 10)"
      ],
      "execution_count": 0,
      "outputs": []
    },
    {
      "cell_type": "code",
      "metadata": {
        "id": "ZCbOn30cwEOP",
        "colab_type": "code",
        "colab": {}
      },
      "source": [
        "#打造神經網路"
      ],
      "execution_count": 0,
      "outputs": []
    },
    {
      "cell_type": "code",
      "metadata": {
        "id": "YbafZvpzwLwa",
        "colab_type": "code",
        "colab": {}
      },
      "source": [
        "from tensorflow.keras.models import Sequential\n",
        "from tensorflow.keras.layers import Dense\n",
        "from tensorflow.keras.optimizers import SGD"
      ],
      "execution_count": 0,
      "outputs": []
    },
    {
      "cell_type": "code",
      "metadata": {
        "id": "uXNctH8wwL8m",
        "colab_type": "code",
        "colab": {}
      },
      "source": [
        "model = Sequential()\n",
        "model.add(Dense(25, input_dim=784, activation='relu'))\n",
        "model.add(Dense(25, activation='relu'))\n",
        "model.add(Dense(10, activation='softmax'))"
      ],
      "execution_count": 0,
      "outputs": []
    },
    {
      "cell_type": "code",
      "metadata": {
        "id": "lp1ifJoOwMDb",
        "colab_type": "code",
        "colab": {}
      },
      "source": [
        "model.compile(loss='mse', optimizer=SGD(lr=0.05), metrics=['accuracy'])"
      ],
      "execution_count": 0,
      "outputs": []
    },
    {
      "cell_type": "code",
      "metadata": {
        "id": "ANU1p4xwwMLD",
        "colab_type": "code",
        "colab": {
          "base_uri": "https://localhost:8080/",
          "height": 260
        },
        "outputId": "061ff9ab-3d74-4226-f04a-4f2ee49bd55e"
      },
      "source": [
        "model.summary()"
      ],
      "execution_count": 46,
      "outputs": [
        {
          "output_type": "stream",
          "text": [
            "Model: \"sequential_1\"\n",
            "_________________________________________________________________\n",
            "Layer (type)                 Output Shape              Param #   \n",
            "=================================================================\n",
            "dense_3 (Dense)              (None, 25)                19625     \n",
            "_________________________________________________________________\n",
            "dense_4 (Dense)              (None, 25)                650       \n",
            "_________________________________________________________________\n",
            "dense_5 (Dense)              (None, 10)                260       \n",
            "=================================================================\n",
            "Total params: 20,535\n",
            "Trainable params: 20,535\n",
            "Non-trainable params: 0\n",
            "_________________________________________________________________\n"
          ],
          "name": "stdout"
        }
      ]
    },
    {
      "cell_type": "code",
      "metadata": {
        "id": "baba0bD9wZSS",
        "colab_type": "code",
        "colab": {
          "base_uri": "https://localhost:8080/",
          "height": 745
        },
        "outputId": "2f0e1054-5a0d-4a37-f113-401fa75c02d2"
      },
      "source": [
        "model.fit(x_train, y_train, batch_size=100, epochs=20)"
      ],
      "execution_count": 47,
      "outputs": [
        {
          "output_type": "stream",
          "text": [
            "Train on 60000 samples\n",
            "Epoch 1/20\n",
            "60000/60000 [==============================] - 2s 26us/sample - loss: 0.0900 - acc: 0.1745\n",
            "Epoch 2/20\n",
            "60000/60000 [==============================] - 1s 25us/sample - loss: 0.0900 - acc: 0.2302\n",
            "Epoch 3/20\n",
            "60000/60000 [==============================] - 1s 24us/sample - loss: 0.0900 - acc: 0.1525\n",
            "Epoch 4/20\n",
            "60000/60000 [==============================] - 2s 26us/sample - loss: 0.0900 - acc: 0.1947\n",
            "Epoch 5/20\n",
            "60000/60000 [==============================] - 2s 26us/sample - loss: 0.0900 - acc: 0.2514\n",
            "Epoch 6/20\n",
            "60000/60000 [==============================] - 1s 24us/sample - loss: 0.0900 - acc: 0.2441\n",
            "Epoch 7/20\n",
            "60000/60000 [==============================] - 1s 23us/sample - loss: 0.0900 - acc: 0.2432\n",
            "Epoch 8/20\n",
            "60000/60000 [==============================] - 1s 23us/sample - loss: 0.0900 - acc: 0.2611\n",
            "Epoch 9/20\n",
            "60000/60000 [==============================] - 1s 24us/sample - loss: 0.0900 - acc: 0.2495\n",
            "Epoch 10/20\n",
            "60000/60000 [==============================] - 1s 23us/sample - loss: 0.0900 - acc: 0.2504\n",
            "Epoch 11/20\n",
            "60000/60000 [==============================] - 1s 23us/sample - loss: 0.0900 - acc: 0.2701\n",
            "Epoch 12/20\n",
            "60000/60000 [==============================] - 1s 23us/sample - loss: 0.0900 - acc: 0.2547\n",
            "Epoch 13/20\n",
            "60000/60000 [==============================] - 1s 23us/sample - loss: 0.0900 - acc: 0.2434\n",
            "Epoch 14/20\n",
            "60000/60000 [==============================] - 1s 23us/sample - loss: 0.0900 - acc: 0.2441\n",
            "Epoch 15/20\n",
            "60000/60000 [==============================] - 1s 23us/sample - loss: 0.0900 - acc: 0.2795\n",
            "Epoch 16/20\n",
            "60000/60000 [==============================] - 1s 22us/sample - loss: 0.0900 - acc: 0.2365\n",
            "Epoch 17/20\n",
            "60000/60000 [==============================] - 1s 22us/sample - loss: 0.0900 - acc: 0.2526\n",
            "Epoch 18/20\n",
            "60000/60000 [==============================] - 1s 22us/sample - loss: 0.0900 - acc: 0.2672\n",
            "Epoch 19/20\n",
            "60000/60000 [==============================] - 1s 22us/sample - loss: 0.0900 - acc: 0.2772\n",
            "Epoch 20/20\n",
            "60000/60000 [==============================] - 1s 23us/sample - loss: 0.0900 - acc: 0.2559\n"
          ],
          "name": "stdout"
        },
        {
          "output_type": "execute_result",
          "data": {
            "text/plain": [
              "<tensorflow.python.keras.callbacks.History at 0x7fda72e78128>"
            ]
          },
          "metadata": {
            "tags": []
          },
          "execution_count": 47
        }
      ]
    },
    {
      "cell_type": "code",
      "metadata": {
        "id": "juePO4hvwZYZ",
        "colab_type": "code",
        "colab": {}
      },
      "source": [
        "#訓練結果"
      ],
      "execution_count": 0,
      "outputs": []
    },
    {
      "cell_type": "code",
      "metadata": {
        "id": "YIioulMawZeE",
        "colab_type": "code",
        "colab": {}
      },
      "source": [
        "result = model.predict_classes(x_test)"
      ],
      "execution_count": 0,
      "outputs": []
    },
    {
      "cell_type": "code",
      "metadata": {
        "id": "rWAi-KsnxrAj",
        "colab_type": "code",
        "colab": {
          "base_uri": "https://localhost:8080/",
          "height": 300
        },
        "outputId": "754226af-1c66-4cbc-d3df-e3be88c6d6f1"
      },
      "source": [
        "n = 3256\n",
        "\n",
        "print('神經網路預測是:', class_names[result[n]])\n",
        "plt.imshow(x_test[n].reshape(28,28), cmap='Greys')"
      ],
      "execution_count": 53,
      "outputs": [
        {
          "output_type": "stream",
          "text": [
            "神經網路預測是: Sneaker\n"
          ],
          "name": "stdout"
        },
        {
          "output_type": "execute_result",
          "data": {
            "text/plain": [
              "<matplotlib.image.AxesImage at 0x7fda72c81e10>"
            ]
          },
          "metadata": {
            "tags": []
          },
          "execution_count": 53
        },
        {
          "output_type": "display_data",
          "data": {
            "image/png": "[encoded data removed]",
            "text/plain": [
              "<Figure size 432x288 with 1 Axes>"
            ]
          },
          "metadata": {
            "tags": []
          }
        }
      ]
    },
    {
      "cell_type": "code",
      "metadata": {
        "id": "RMOW8e_yy6kA",
        "colab_type": "code",
        "colab": {
          "base_uri": "https://localhost:8080/",
          "height": 52
        },
        "outputId": "bd5df145-e43b-4eb7-d582-756aa491b1eb"
      },
      "source": [
        "model.evaluate(x_test,y_test)"
      ],
      "execution_count": 52,
      "outputs": [
        {
          "output_type": "stream",
          "text": [
            "10000/10000 [==============================] - 0s 27us/sample - loss: 0.0900 - acc: 0.2651\n"
          ],
          "name": "stdout"
        },
        {
          "output_type": "execute_result",
          "data": {
            "text/plain": [
              "[0.08997765698432922, 0.2651]"
            ]
          },
          "metadata": {
            "tags": []
          },
          "execution_count": 52
        }
      ]
    },
    {
      "cell_type": "code",
      "metadata": {
        "id": "YXDdf3mly8B3",
        "colab_type": "code",
        "colab": {}
      },
      "source": [
        ""
      ],
      "execution_count": 0,
      "outputs": []
    }
  ]
}