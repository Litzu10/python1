{
 "cells": [
  {
   "cell_type": "code",
   "execution_count": 3,
   "metadata": {},
   "outputs": [],
   "source": [
    "import requests\n",
    "from bs4 import BeautifulSoup"
   ]
  },
  {
   "cell_type": "code",
   "execution_count": 8,
   "metadata": {},
   "outputs": [],
   "source": [
    "r = requests.get('https://tw.yahoo.com/')  "
   ]
  },
  {
   "cell_type": "code",
   "execution_count": 9,
   "metadata": {},
   "outputs": [],
   "source": [
    "if r.status_code == requests.codes.ok:\n",
    "  soup = BeautifulSoup(r.text, 'html.parser')"
   ]
  },
  {
   "cell_type": "code",
   "execution_count": 10,
   "metadata": {},
   "outputs": [
    {
     "name": "stdout",
     "output_type": "stream",
     "text": [
      "news title：沒訂單！大廠一口氣走405員工\n",
      "news title：揭案430足跡 國外旅遊2個多月\n",
      "news title：老闆8天賺4800萬 全分給員工\n",
      "news title：老公悄悄結紮 震驚妻說懷孕了\n",
      "news title：必買！打造懶人系零失敗廚房\n",
      "news title：誰做終結者？王躍霖盼陳禹勳\n",
      "news title：當年6連敗甜瓜害的？豪哥否認\n",
      "news title：曾總認證最速男 陳晨威拚盜壘\n",
      "news title：大聯盟效仿中職？建仔：難複製\n",
      "news title：高齡教練不復賽？馬刺麻煩了\n",
      "news title：Sandy為電動不睡覺 母開罵了\n",
      "news title：江俊翰染毒失業 闖直播又被酸\n",
      "news title：黃美珍升格新手媽 曝育女趣事\n",
      "news title：節目公布導師名單 小豬不見了\n",
      "news title：金牌製作人改駐唱 觀眾剩2人\n",
      "news title：拆口罩見「神花色」嚇歪不敢戴\n",
      "news title：開冰櫃見小護士 四年級生笑了\n",
      "news title：下次等41天 星國瘋搶台灣1杯\n",
      "news title：妹「瞇眼」盯 男搭訕誤會大了\n",
      "news title：日本人盼誰來觀光？第1名震驚\n",
      "news title：她月省5千存出3間房 理財公開\n",
      "news title：年薪60萬住哪CP值高？網熱議\n",
      "news title：消滅脂肪肝 名醫30分鐘走路法\n",
      "news title：口臭原因找到！從舌苔看出體質\n",
      "news title：超市必買排行：神祕鹹酥雞奪冠\n",
      "news title：巫毒娃娃揭詛咒 張貴妃怒下令\n",
      "news title：聶小倩回來了！33年經典重現\n",
      "news title：留情敵電話「小美滿」學霸吃醋\n",
      "news title：陰間使者出包 韓劇火化錯人了\n",
      "news title：韓國人愛泡麵 台女開箱2包搖頭\n"
     ]
    }
   ],
   "source": [
    "stories = soup.find_all('a', class_='story-title')\n",
    "for s in stories:\n",
    "    print(\"news title：\" + s.text)"
   ]
  },
  {
   "cell_type": "code",
   "execution_count": 23,
   "metadata": {},
   "outputs": [],
   "source": [
    "from bs4 import BeautifulSoup\n",
    "import requests\n",
    "import re \n",
    "import urllib.request"
   ]
  },
  {
   "cell_type": "code",
   "execution_count": 34,
   "metadata": {},
   "outputs": [
    {
     "name": "stdout",
     "output_type": "stream",
     "text": [
      "全部抓取完成\n"
     ]
    }
   ],
   "source": [
    "#爬取網頁html \n",
    "def getHtml(url): \n",
    "    page = urllib.request.urlopen(url) \n",
    "    html = page.read() \n",
    "    return html \n",
    "html = getHtml(\"\") \n",
    "html = html.decode('UTF-8')\n",
    "# 利用正則表達式匹配網頁里的圖片地址 \n",
    "def getImg(html): \n",
    "    reg = r'src=\"([.*\\S]*\\.jpg)\" pic_ext=\"jpeg\"' \n",
    "    imgre=re.compile(reg) \n",
    "    imglist=re.findall(imgre,html) \n",
    "    return imglist \n",
    "imgList=getImg(html) \n",
    "imgCount=0\n",
    "\n",
    "for imgPath in imgList: \n",
    "    f=open(\"../python/\"+str(imgCount)+\".jpg\",'wb') \n",
    "    f.write((urllib.request.urlopen(imgPath)).read()) \n",
    "    f.close() \n",
    "    imgCount+=1 \n",
    "print(\"全部抓取完成\")"
   ]
  },
  {
   "cell_type": "markdown",
   "metadata": {},
   "source": [
    "抓不到圖片\n",
    "存取路徑"
   ]
  },
  {
   "cell_type": "code",
   "execution_count": null,
   "metadata": {},
   "outputs": [],
   "source": []
  }
 ],
 "metadata": {
  "kernelspec": {
   "display_name": "Python 3",
   "language": "python",
   "name": "python3"
  },
  "language_info": {
   "codemirror_mode": {
    "name": "ipython",
    "version": 3
   },
   "file_extension": ".py",
   "mimetype": "text/x-python",
   "name": "python",
   "nbconvert_exporter": "python",
   "pygments_lexer": "ipython3",
   "version": "3.7.3"
  }
 },
 "nbformat": 4,
 "nbformat_minor": 2
}
