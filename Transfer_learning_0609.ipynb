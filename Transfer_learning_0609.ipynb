{
  "nbformat": 4,
  "nbformat_minor": 0,
  "metadata": {
    "colab": {
      "name": "Transfer_learning_0609.ipynb",
      "provenance": [],
      "authorship_tag": "ABX9TyP/oQYFIiYFEK+4BGWIGPxC",
      "include_colab_link": true
    },
    "kernelspec": {
      "name": "python3",
      "display_name": "Python 3"
    },
    "accelerator": "GPU"
  },
  "cells": [
    {
      "cell_type": "markdown",
      "metadata": {
        "id": "view-in-github",
        "colab_type": "text"
      },
      "source": [
        "<a href=\"https://colab.research.google.com/github/Litzu10/python1/blob/master/Transfer_learning_0609.ipynb\" target=\"_parent\"><img src=\"https://colab.research.google.com/assets/colab-badge.svg\" alt=\"Open In Colab\"/></a>"
      ]
    },
    {
      "cell_type": "markdown",
      "metadata": {
        "id": "m10G0o7sAarc",
        "colab_type": "text"
      },
      "source": [
        "## Transfer Learning"
      ]
    },
    {
      "cell_type": "code",
      "metadata": {
        "id": "cTq2BBUZYOvI",
        "colab_type": "code",
        "colab": {}
      },
      "source": [
        "%tensorflow_version 2.x"
      ],
      "execution_count": 0,
      "outputs": []
    },
    {
      "cell_type": "code",
      "metadata": {
        "id": "hpEt-y2lYP_8",
        "colab_type": "code",
        "colab": {}
      },
      "source": [
        "%matplotlib inline\n",
        "\n",
        "import numpy as np\n",
        "import matplotlib.pyplot as plt\n",
        "import pandas as pd"
      ],
      "execution_count": 0,
      "outputs": []
    },
    {
      "cell_type": "code",
      "metadata": {
        "id": "lljmpEtLYROY",
        "colab_type": "code",
        "colab": {}
      },
      "source": [
        "from tensorflow.keras import datasets\n",
        "from tensorflow.keras.utils import to_categorical\n",
        "from tensorflow.keras.applications.vgg16 import VGG16\n",
        "from tensorflow.keras.models import Sequential\n",
        "from tensorflow.keras.layers import Input, Dense, Flatten, Dropout, Conv2D, MaxPool2D, GlobalAveragePooling2D\n",
        "from tensorflow.keras.optimizers import SGD, Adam"
      ],
      "execution_count": 0,
      "outputs": []
    },
    {
      "cell_type": "markdown",
      "metadata": {
        "id": "M3tCzXMKLGtg",
        "colab_type": "text"
      },
      "source": [
        "### Cifar10"
      ]
    },
    {
      "cell_type": "markdown",
      "metadata": {
        "id": "C-9co_lcAvIL",
        "colab_type": "text"
      },
      "source": [
        "讀入cifar10資料"
      ]
    },
    {
      "cell_type": "code",
      "metadata": {
        "id": "AFBMuAhYYRnv",
        "colab_type": "code",
        "colab": {}
      },
      "source": [
        "name_list = ['airplane', 'automobile', 'bird', 'cat', 'deer', 'dog', 'frog', 'horse', 'ship', 'truck']"
      ],
      "execution_count": 0,
      "outputs": []
    },
    {
      "cell_type": "code",
      "metadata": {
        "id": "prt_FJnnhuih",
        "colab_type": "code",
        "colab": {}
      },
      "source": [
        "(x_train, y_train0), (x_test, y_test0) = datasets.cifar10.load_data()\n",
        "\n",
        "x_train = x_train / x_train.max()\n",
        "x_test = x_test / x_test.max()\n",
        "\n",
        "y_train = to_categorical(y_train0, 10)\n",
        "y_test = to_categorical(y_test0, 10)"
      ],
      "execution_count": 0,
      "outputs": []
    },
    {
      "cell_type": "markdown",
      "metadata": {
        "id": "JBvfioPEAsOe",
        "colab_type": "text"
      },
      "source": [
        "查看資料"
      ]
    },
    {
      "cell_type": "code",
      "metadata": {
        "id": "SZD1O48bhunc",
        "colab_type": "code",
        "outputId": "552433b9-d10b-4b4b-b8d2-da4fd20e6528",
        "colab": {
          "base_uri": "https://localhost:8080/",
          "height": 299
        }
      },
      "source": [
        "pic = np.random.randint(x_train.shape[0])\n",
        "x_sample = x_train[pic]\n",
        "y_sample = y_train0[pic].squeeze()\n",
        "\n",
        "plt.imshow(x_sample)\n",
        "plt.title(name_list[y_sample])"
      ],
      "execution_count": 11,
      "outputs": [
        {
          "output_type": "execute_result",
          "data": {
            "text/plain": [
              "Text(0.5, 1.0, 'horse')"
            ]
          },
          "metadata": {
            "tags": []
          },
          "execution_count": 11
        },
        {
          "output_type": "display_data",
          "data": {
            "image/png": "[encoded data removed]",
            "text/plain": [
              "<Figure size 432x288 with 1 Axes>"
            ]
          },
          "metadata": {
            "tags": [],
            "needs_background": "light"
          }
        }
      ]
    },
    {
      "cell_type": "code",
      "metadata": {
        "id": "0b_Q8QrNkzSD",
        "colab_type": "code",
        "outputId": "80af40f9-1dd4-4035-bdda-7827fc93e222",
        "colab": {
          "base_uri": "https://localhost:8080/",
          "height": 52
        }
      },
      "source": [
        "print('Train Size:', x_train.shape)\n",
        "print('Test Size:', x_test.shape)"
      ],
      "execution_count": 12,
      "outputs": [
        {
          "output_type": "stream",
          "text": [
            "Train Size: (50000, 32, 32, 3)\n",
            "Test Size: (10000, 32, 32, 3)\n"
          ],
          "name": "stdout"
        }
      ]
    },
    {
      "cell_type": "markdown",
      "metadata": {
        "id": "0VOCFID5hgIE",
        "colab_type": "text"
      },
      "source": [
        "### Model"
      ]
    },
    {
      "cell_type": "code",
      "metadata": {
        "id": "BpCMAqwwhuqt",
        "colab_type": "code",
        "colab": {}
      },
      "source": [
        "CNN_layers = [Conv2D(64, (3, 3), input_shape=(32, 32, 3), padding='same', activation='relu'),\n",
        "           MaxPool2D(),\n",
        "           Conv2D(128, (3, 3), padding='same', activation='relu'),\n",
        "           MaxPool2D(),\n",
        "           Conv2D(256, (3, 3), padding='same', activation='relu'),\n",
        "           MaxPool2D(),\n",
        "           Conv2D(512, (3, 3), padding='same', activation='relu'),\n",
        "           GlobalAveragePooling2D()]"
      ],
      "execution_count": 0,
      "outputs": []
    },
    {
      "cell_type": "code",
      "metadata": {
        "id": "1dCQXIOmjxPA",
        "colab_type": "code",
        "colab": {}
      },
      "source": [
        "FC_layers1 = [Dense(512, activation='relu'),\n",
        "              Dense(10, activation='softmax')]"
      ],
      "execution_count": 0,
      "outputs": []
    },
    {
      "cell_type": "code",
      "metadata": {
        "id": "C9ovFStxjxSs",
        "colab_type": "code",
        "outputId": "c1382f24-8c43-445a-b585-36de356d3ac1",
        "colab": {
          "base_uri": "https://localhost:8080/",
          "height": 503
        }
      },
      "source": [
        "model = Sequential(CNN_layers+FC_layers1)\n",
        "model.summary()"
      ],
      "execution_count": 15,
      "outputs": [
        {
          "output_type": "stream",
          "text": [
            "Model: \"sequential\"\n",
            "_________________________________________________________________\n",
            "Layer (type)                 Output Shape              Param #   \n",
            "=================================================================\n",
            "conv2d (Conv2D)              (None, 32, 32, 64)        1792      \n",
            "_________________________________________________________________\n",
            "max_pooling2d (MaxPooling2D) (None, 16, 16, 64)        0         \n",
            "_________________________________________________________________\n",
            "conv2d_1 (Conv2D)            (None, 16, 16, 128)       73856     \n",
            "_________________________________________________________________\n",
            "max_pooling2d_1 (MaxPooling2 (None, 8, 8, 128)         0         \n",
            "_________________________________________________________________\n",
            "conv2d_2 (Conv2D)            (None, 8, 8, 256)         295168    \n",
            "_________________________________________________________________\n",
            "max_pooling2d_2 (MaxPooling2 (None, 4, 4, 256)         0         \n",
            "_________________________________________________________________\n",
            "conv2d_3 (Conv2D)            (None, 4, 4, 512)         1180160   \n",
            "_________________________________________________________________\n",
            "global_average_pooling2d (Gl (None, 512)               0         \n",
            "_________________________________________________________________\n",
            "dense (Dense)                (None, 512)               262656    \n",
            "_________________________________________________________________\n",
            "dense_1 (Dense)              (None, 10)                5130      \n",
            "=================================================================\n",
            "Total params: 1,818,762\n",
            "Trainable params: 1,818,762\n",
            "Non-trainable params: 0\n",
            "_________________________________________________________________\n"
          ],
          "name": "stdout"
        }
      ]
    },
    {
      "cell_type": "code",
      "metadata": {
        "id": "M0QGZP0P2R5Q",
        "colab_type": "code",
        "colab": {}
      },
      "source": [
        "model.compile(loss='categorical_crossentropy', optimizer=\"adam\",metrics=['accuracy'])"
      ],
      "execution_count": 0,
      "outputs": []
    },
    {
      "cell_type": "markdown",
      "metadata": {
        "id": "wKfi6qEIA63M",
        "colab_type": "text"
      },
      "source": [
        "訓練model"
      ]
    },
    {
      "cell_type": "code",
      "metadata": {
        "id": "-lkJIhxt2R-W",
        "colab_type": "code",
        "outputId": "cb9e310c-9e3d-48f5-8143-1d409bc1acaa",
        "colab": {
          "base_uri": "https://localhost:8080/",
          "height": 364
        }
      },
      "source": [
        "history = model.fit( x_train, y_train, batch_size=200, epochs=10, validation_data=(x_test, y_test) )"
      ],
      "execution_count": 17,
      "outputs": [
        {
          "output_type": "stream",
          "text": [
            "Epoch 1/10\n",
            "250/250 [==============================] - 11s 46ms/step - loss: 1.7286 - accuracy: 0.3480 - val_loss: 1.4935 - val_accuracy: 0.4433\n",
            "Epoch 2/10\n",
            "250/250 [==============================] - 11s 45ms/step - loss: 1.3013 - accuracy: 0.5197 - val_loss: 1.2258 - val_accuracy: 0.5596\n",
            "Epoch 3/10\n",
            "250/250 [==============================] - 11s 45ms/step - loss: 1.0809 - accuracy: 0.6115 - val_loss: 1.0216 - val_accuracy: 0.6377\n",
            "Epoch 4/10\n",
            "250/250 [==============================] - 11s 45ms/step - loss: 0.9386 - accuracy: 0.6667 - val_loss: 0.8786 - val_accuracy: 0.6874\n",
            "Epoch 5/10\n",
            "250/250 [==============================] - 11s 46ms/step - loss: 0.8213 - accuracy: 0.7076 - val_loss: 0.8621 - val_accuracy: 0.6954\n",
            "Epoch 6/10\n",
            "250/250 [==============================] - 11s 45ms/step - loss: 0.7320 - accuracy: 0.7398 - val_loss: 0.7840 - val_accuracy: 0.7282\n",
            "Epoch 7/10\n",
            "250/250 [==============================] - 11s 45ms/step - loss: 0.6583 - accuracy: 0.7680 - val_loss: 0.7271 - val_accuracy: 0.7408\n",
            "Epoch 8/10\n",
            "250/250 [==============================] - 11s 46ms/step - loss: 0.5786 - accuracy: 0.7983 - val_loss: 0.7045 - val_accuracy: 0.7584\n",
            "Epoch 9/10\n",
            "250/250 [==============================] - 11s 45ms/step - loss: 0.5224 - accuracy: 0.8178 - val_loss: 0.7176 - val_accuracy: 0.7530\n",
            "Epoch 10/10\n",
            "250/250 [==============================] - 11s 45ms/step - loss: 0.4548 - accuracy: 0.8401 - val_loss: 0.6687 - val_accuracy: 0.7721\n"
          ],
          "name": "stdout"
        }
      ]
    },
    {
      "cell_type": "markdown",
      "metadata": {
        "id": "VEZRbr0_hiut",
        "colab_type": "text"
      },
      "source": [
        "準確率"
      ]
    },
    {
      "cell_type": "code",
      "metadata": {
        "id": "04wtrVkDo8sC",
        "colab_type": "code",
        "outputId": "f342d415-a854-4117-d176-ade673aa4155",
        "colab": {
          "base_uri": "https://localhost:8080/",
          "height": 87
        }
      },
      "source": [
        "score_train = model.evaluate(x_train, y_train)\n",
        "score_test = model.evaluate(x_test, y_test)\n",
        "\n",
        "print(f'Train Accuracy: {score_train[1]*100}')\n",
        "print(f'Test Accuracy: {score_test[1]*100}')"
      ],
      "execution_count": 18,
      "outputs": [
        {
          "output_type": "stream",
          "text": [
            "1563/1563 [==============================] - 12s 8ms/step - loss: 0.3817 - accuracy: 0.8706\n",
            "313/313 [==============================] - 2s 7ms/step - loss: 0.6687 - accuracy: 0.7721\n",
            "Train Accuracy: 87.06200122833252\n",
            "Test Accuracy: 77.20999717712402\n"
          ],
          "name": "stdout"
        }
      ]
    },
    {
      "cell_type": "markdown",
      "metadata": {
        "id": "O2YIeDvUhkTz",
        "colab_type": "text"
      },
      "source": [
        "Accuracy、Loss圖形"
      ]
    },
    {
      "cell_type": "code",
      "metadata": {
        "id": "DYqj9MM72R7-",
        "colab_type": "code",
        "outputId": "df8169af-2b3a-4ad8-8c45-c28920d68f66",
        "colab": {
          "base_uri": "https://localhost:8080/",
          "height": 295
        }
      },
      "source": [
        "plt.plot(history.history['accuracy'])\n",
        "plt.plot(history.history['val_accuracy'])\n",
        "plt.title('model accuracy')\n",
        "plt.ylabel('accuracy')\n",
        "plt.xlabel('epoch')\n",
        "plt.legend(['train', 'test'], loc='upper right')\n",
        "plt.show()"
      ],
      "execution_count": 19,
      "outputs": [
        {
          "output_type": "display_data",
          "data": {
            "image/png": "[encoded data removed]",
            "text/plain": [
              "<Figure size 432x288 with 1 Axes>"
            ]
          },
          "metadata": {
            "tags": [],
            "needs_background": "light"
          }
        }
      ]
    },
    {
      "cell_type": "code",
      "metadata": {
        "id": "ArsfbaFlpcEU",
        "colab_type": "code",
        "colab": {
          "base_uri": "https://localhost:8080/",
          "height": 295
        },
        "outputId": "6bb72868-b93c-476d-81ad-6c390748a6d6"
      },
      "source": [
        "plt.plot(history.history['loss'])\n",
        "plt.plot(history.history['val_loss'])\n",
        "plt.title('model loss')\n",
        "plt.ylabel('loss')\n",
        "plt.xlabel('epoch')\n",
        "plt.legend(['train', 'test'], loc='upper right')\n",
        "plt.show()"
      ],
      "execution_count": 20,
      "outputs": [
        {
          "output_type": "display_data",
          "data": {
            "image/png": "[encoded data removed]",
            "text/plain": [
              "<Figure size 432x288 with 1 Axes>"
            ]
          },
          "metadata": {
            "tags": [],
            "needs_background": "light"
          }
        }
      ]
    },
    {
      "cell_type": "markdown",
      "metadata": {
        "id": "qKQoBp8yhlzQ",
        "colab_type": "text"
      },
      "source": [
        ""
      ]
    },
    {
      "cell_type": "markdown",
      "metadata": {
        "id": "zAk1Ab9ypdLQ",
        "colab_type": "text"
      },
      "source": [
        "## Cifar100\n"
      ]
    },
    {
      "cell_type": "markdown",
      "metadata": {
        "id": "EHOrB3NaHSqb",
        "colab_type": "text"
      },
      "source": [
        "讀入cifar100資料"
      ]
    },
    {
      "cell_type": "code",
      "metadata": {
        "id": "spwuhhwCpb-C",
        "colab_type": "code",
        "colab": {}
      },
      "source": [
        "(X_train, Y_train0), (X_test, Y_test0) = datasets.cifar100.load_data()\n",
        "\n",
        "X_train = X_train / X_train.max()\n",
        "X_test = X_test / X_test.max()\n",
        "\n",
        "Y_train = to_categorical(Y_train0, 100)\n",
        "Y_test = to_categorical(Y_test0, 100)"
      ],
      "execution_count": 0,
      "outputs": []
    },
    {
      "cell_type": "markdown",
      "metadata": {
        "id": "XQ2l0oUSHUak",
        "colab_type": "text"
      },
      "source": [
        "查看資料"
      ]
    },
    {
      "cell_type": "code",
      "metadata": {
        "id": "_euTD_agpb1E",
        "colab_type": "code",
        "outputId": "64008e24-6165-41bc-8a7e-388e6a1d4914",
        "colab": {
          "base_uri": "https://localhost:8080/",
          "height": 283
        }
      },
      "source": [
        "pic1 = np.random.randint(X_train.shape[0])\n",
        "X_sample = X_train[pic1]\n",
        "Y_sample = Y_train0[pic1].squeeze()\n",
        "\n",
        "plt.imshow(X_sample)"
      ],
      "execution_count": 77,
      "outputs": [
        {
          "output_type": "execute_result",
          "data": {
            "text/plain": [
              "<matplotlib.image.AxesImage at 0x7f3e9b47e908>"
            ]
          },
          "metadata": {
            "tags": []
          },
          "execution_count": 77
        },
        {
          "output_type": "display_data",
          "data": {
            "image/png": "[encoded data removed]",
            "text/plain": [
              "<Figure size 432x288 with 1 Axes>"
            ]
          },
          "metadata": {
            "tags": [],
            "needs_background": "light"
          }
        }
      ]
    },
    {
      "cell_type": "code",
      "metadata": {
        "id": "HZQmBgwMQdVz",
        "colab_type": "code",
        "colab": {
          "base_uri": "https://localhost:8080/",
          "height": 52
        },
        "outputId": "47e11c29-3390-404a-bce6-0ce1c89151ba"
      },
      "source": [
        "print('Train Size:', X_train.shape)\n",
        "print('Test Size:', X_test.shape)"
      ],
      "execution_count": 60,
      "outputs": [
        {
          "output_type": "stream",
          "text": [
            "Train Size: (50000, 32, 32, 3)\n",
            "Test Size: (10000, 32, 32, 3)\n"
          ],
          "name": "stdout"
        }
      ]
    },
    {
      "cell_type": "markdown",
      "metadata": {
        "id": "xHELTFvUhpPc",
        "colab_type": "text"
      },
      "source": [
        "和model借CNN_layers並凍結"
      ]
    },
    {
      "cell_type": "code",
      "metadata": {
        "id": "LvdK1nj2QdhB",
        "colab_type": "code",
        "colab": {}
      },
      "source": [
        "for layer in CNN_layers:\n",
        "    layer.trainable = False"
      ],
      "execution_count": 0,
      "outputs": []
    },
    {
      "cell_type": "markdown",
      "metadata": {
        "id": "6ooe1UO_HE-8",
        "colab_type": "text"
      },
      "source": [
        "建一個屬於model_trans的FC_layers"
      ]
    },
    {
      "cell_type": "code",
      "metadata": {
        "id": "Xyx1j7riZNYp",
        "colab_type": "code",
        "colab": {}
      },
      "source": [
        "FC_layers2 = [Dense(512, activation='relu'),\n",
        "              Dense(256, activation='relu'),\n",
        "              Dense(100, activation='softmax')]"
      ],
      "execution_count": 0,
      "outputs": []
    },
    {
      "cell_type": "markdown",
      "metadata": {
        "id": "ggupV--FHX0E",
        "colab_type": "text"
      },
      "source": [
        "### Model_trans"
      ]
    },
    {
      "cell_type": "code",
      "metadata": {
        "id": "TvXXHt_MZNio",
        "colab_type": "code",
        "colab": {
          "base_uri": "https://localhost:8080/",
          "height": 537
        },
        "outputId": "62cf2c6d-21c5-49d6-9198-f92c8d9fb7d1"
      },
      "source": [
        "model_trans = Sequential(CNN_layers+FC_layers2)\n",
        "model_trans.summary()"
      ],
      "execution_count": 66,
      "outputs": [
        {
          "output_type": "stream",
          "text": [
            "Model: \"sequential_3\"\n",
            "_________________________________________________________________\n",
            "Layer (type)                 Output Shape              Param #   \n",
            "=================================================================\n",
            "conv2d (Conv2D)              (None, 32, 32, 64)        1792      \n",
            "_________________________________________________________________\n",
            "max_pooling2d (MaxPooling2D) (None, 16, 16, 64)        0         \n",
            "_________________________________________________________________\n",
            "conv2d_1 (Conv2D)            (None, 16, 16, 128)       73856     \n",
            "_________________________________________________________________\n",
            "max_pooling2d_1 (MaxPooling2 (None, 8, 8, 128)         0         \n",
            "_________________________________________________________________\n",
            "conv2d_2 (Conv2D)            (None, 8, 8, 256)         295168    \n",
            "_________________________________________________________________\n",
            "max_pooling2d_2 (MaxPooling2 (None, 4, 4, 256)         0         \n",
            "_________________________________________________________________\n",
            "conv2d_3 (Conv2D)            (None, 4, 4, 512)         1180160   \n",
            "_________________________________________________________________\n",
            "global_average_pooling2d (Gl (None, 512)               0         \n",
            "_________________________________________________________________\n",
            "dense_11 (Dense)             (None, 512)               262656    \n",
            "_________________________________________________________________\n",
            "dense_12 (Dense)             (None, 256)               131328    \n",
            "_________________________________________________________________\n",
            "dense_13 (Dense)             (None, 100)               25700     \n",
            "=================================================================\n",
            "Total params: 1,970,660\n",
            "Trainable params: 419,684\n",
            "Non-trainable params: 1,550,976\n",
            "_________________________________________________________________\n"
          ],
          "name": "stdout"
        }
      ]
    },
    {
      "cell_type": "code",
      "metadata": {
        "id": "qKmXEt1bZNsS",
        "colab_type": "code",
        "colab": {}
      },
      "source": [
        "model_trans.compile(loss='categorical_crossentropy', optimizer=\"adam\",metrics=['accuracy'])"
      ],
      "execution_count": 0,
      "outputs": []
    },
    {
      "cell_type": "markdown",
      "metadata": {
        "id": "4sK3liaRHcgN",
        "colab_type": "text"
      },
      "source": [
        "訓練model_trans"
      ]
    },
    {
      "cell_type": "code",
      "metadata": {
        "id": "IP0vvaIpQdsh",
        "colab_type": "code",
        "colab": {
          "base_uri": "https://localhost:8080/",
          "height": 364
        },
        "outputId": "3ae77ae3-193a-42dd-d2db-fd5b6d3c6d7f"
      },
      "source": [
        "history_trans = model_trans.fit( X_train, Y_train, batch_size=200, epochs=10, validation_data=(X_test, Y_test) )"
      ],
      "execution_count": 68,
      "outputs": [
        {
          "output_type": "stream",
          "text": [
            "Epoch 1/10\n",
            "250/250 [==============================] - 6s 22ms/step - loss: 3.3550 - accuracy: 0.1961 - val_loss: 2.9282 - val_accuracy: 0.2648\n",
            "Epoch 2/10\n",
            "250/250 [==============================] - 5s 21ms/step - loss: 2.7869 - accuracy: 0.2948 - val_loss: 2.7164 - val_accuracy: 0.3145\n",
            "Epoch 3/10\n",
            "250/250 [==============================] - 5s 21ms/step - loss: 2.6180 - accuracy: 0.3302 - val_loss: 2.6057 - val_accuracy: 0.3315\n",
            "Epoch 4/10\n",
            "250/250 [==============================] - 5s 21ms/step - loss: 2.4996 - accuracy: 0.3549 - val_loss: 2.5404 - val_accuracy: 0.3483\n",
            "Epoch 5/10\n",
            "250/250 [==============================] - 5s 21ms/step - loss: 2.4104 - accuracy: 0.3724 - val_loss: 2.4978 - val_accuracy: 0.3591\n",
            "Epoch 6/10\n",
            "250/250 [==============================] - 5s 22ms/step - loss: 2.3317 - accuracy: 0.3905 - val_loss: 2.4482 - val_accuracy: 0.3699\n",
            "Epoch 7/10\n",
            "250/250 [==============================] - 6s 22ms/step - loss: 2.2667 - accuracy: 0.4027 - val_loss: 2.4281 - val_accuracy: 0.3738\n",
            "Epoch 8/10\n",
            "250/250 [==============================] - 5s 22ms/step - loss: 2.2063 - accuracy: 0.4163 - val_loss: 2.3977 - val_accuracy: 0.3832\n",
            "Epoch 9/10\n",
            "250/250 [==============================] - 6s 22ms/step - loss: 2.1517 - accuracy: 0.4291 - val_loss: 2.3816 - val_accuracy: 0.3863\n",
            "Epoch 10/10\n",
            "250/250 [==============================] - 5s 22ms/step - loss: 2.0988 - accuracy: 0.4424 - val_loss: 2.3680 - val_accuracy: 0.3922\n"
          ],
          "name": "stdout"
        }
      ]
    },
    {
      "cell_type": "markdown",
      "metadata": {
        "id": "Wf4UztjPhrwI",
        "colab_type": "text"
      },
      "source": [
        "準確率"
      ]
    },
    {
      "cell_type": "code",
      "metadata": {
        "id": "HHpu3fRnQd3z",
        "colab_type": "code",
        "colab": {
          "base_uri": "https://localhost:8080/",
          "height": 87
        },
        "outputId": "193caf99-3f27-4ea6-8201-9256bf61bdf5"
      },
      "source": [
        "trans_score_train = model_trans.evaluate(X_train, Y_train)\n",
        "trans_score_test = model_trans.evaluate(X_test, Y_test)\n",
        "\n",
        "print(f'Train Accuracy: {trans_score_train[1]*100}')\n",
        "print(f'Test Accuracy: {trans_score_test[1]*100}')"
      ],
      "execution_count": 70,
      "outputs": [
        {
          "output_type": "stream",
          "text": [
            "1563/1563 [==============================] - 13s 8ms/step - loss: 2.0135 - accuracy: 0.4613\n",
            "313/313 [==============================] - 3s 8ms/step - loss: 2.3680 - accuracy: 0.3922\n",
            "Train Accuracy: 46.12799882888794\n",
            "Test Accuracy: 39.21999931335449\n"
          ],
          "name": "stdout"
        }
      ]
    },
    {
      "cell_type": "markdown",
      "metadata": {
        "id": "CQjw68vBhsVu",
        "colab_type": "text"
      },
      "source": [
        "Accuracy、Loss圖形"
      ]
    },
    {
      "cell_type": "code",
      "metadata": {
        "id": "Qx5kzNR2bDud",
        "colab_type": "code",
        "colab": {
          "base_uri": "https://localhost:8080/",
          "height": 295
        },
        "outputId": "92dd7260-9e2b-4624-ae64-166bc25bbad6"
      },
      "source": [
        "plt.plot(history_trans.history['accuracy'])\n",
        "plt.plot(history_trans.history['val_accuracy'])\n",
        "plt.title('model accuracy')\n",
        "plt.ylabel('accuracy')\n",
        "plt.xlabel('epoch')\n",
        "plt.legend(['train', 'test'], loc='upper right')\n",
        "plt.show()"
      ],
      "execution_count": 71,
      "outputs": [
        {
          "output_type": "display_data",
          "data": {
            "image/png": "[encoded data removed]",
            "text/plain": [
              "<Figure size 432x288 with 1 Axes>"
            ]
          },
          "metadata": {
            "tags": [],
            "needs_background": "light"
          }
        }
      ]
    },
    {
      "cell_type": "code",
      "metadata": {
        "id": "Y8d5mzazbDy8",
        "colab_type": "code",
        "colab": {
          "base_uri": "https://localhost:8080/",
          "height": 295
        },
        "outputId": "8da71776-8f57-4da5-bcf3-ff157c0957c3"
      },
      "source": [
        "plt.plot(history_trans.history['loss'])\n",
        "plt.plot(history_trans.history['val_loss'])\n",
        "plt.title('model loss')\n",
        "plt.ylabel('loss')\n",
        "plt.xlabel('epoch')\n",
        "plt.legend(['train', 'test'], loc='upper right')\n",
        "plt.show()"
      ],
      "execution_count": 72,
      "outputs": [
        {
          "output_type": "display_data",
          "data": {
            "image/png": "[encoded data removed]",
            "text/plain": [
              "<Figure size 432x288 with 1 Axes>"
            ]
          },
          "metadata": {
            "tags": [],
            "needs_background": "light"
          }
        }
      ]
    }
  ]
}