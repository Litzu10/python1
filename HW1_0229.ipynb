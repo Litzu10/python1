{
 "cells": [
  {
   "cell_type": "code",
   "execution_count": 1,
   "metadata": {},
   "outputs": [],
   "source": [
    "import random"
   ]
  },
  {
   "cell_type": "code",
   "execution_count": 2,
   "metadata": {},
   "outputs": [],
   "source": [
    "target = random.randint(1,50)"
   ]
  },
  {
   "cell_type": "code",
   "execution_count": 3,
   "metadata": {
    "scrolled": true
   },
   "outputs": [
    {
     "name": "stdout",
     "output_type": "stream",
     "text": [
      "請輸入1到50的數字？30\n",
      "再大一點\n",
      "請輸入1到50的數字？40\n",
      "再小一點\n",
      "請輸入1到50的數字？35\n",
      "再大一點\n",
      "請輸入1到50的數字？37\n",
      "再大一點\n",
      "請輸入1到50的數字？39\n",
      "猜中了\n"
     ]
    }
   ],
   "source": [
    "guess = 0\n",
    "while target != guess:\n",
    "    guess = int(input('請輸入1到50的數字？'))\n",
    "    if target < guess:\n",
    "        print('再小一點')\n",
    "    elif target > guess:\n",
    "        print('再大一點')\n",
    "    else:\n",
    "        print('猜中了')"
   ]
  },
  {
   "cell_type": "code",
   "execution_count": null,
   "metadata": {},
   "outputs": [],
   "source": []
  }
 ],
 "metadata": {
  "kernelspec": {
   "display_name": "Python 3",
   "language": "python",
   "name": "python3"
  },
  "language_info": {
   "codemirror_mode": {
    "name": "ipython",
    "version": 3
   },
   "file_extension": ".py",
   "mimetype": "text/x-python",
   "name": "python",
   "nbconvert_exporter": "python",
   "pygments_lexer": "ipython3",
   "version": "3.7.3"
  }
 },
 "nbformat": 4,
 "nbformat_minor": 2
}
