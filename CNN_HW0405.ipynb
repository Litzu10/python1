{
  "nbformat": 4,
  "nbformat_minor": 0,
  "metadata": {
    "colab": {
      "name": "CNN_HW0405",
      "provenance": [],
      "authorship_tag": "ABX9TyP/7OQEYB9Cwol46UiTpxUQ",
      "include_colab_link": true
    },
    "kernelspec": {
      "name": "python3",
      "display_name": "Python 3"
    },
    "widgets": {
      "application/vnd.jupyter.widget-state+json": {
        "9101742508ce49e89f674d57db6a449f": {
          "model_module": "@jupyter-widgets/controls",
          "model_name": "VBoxModel",
          "state": {
            "_view_name": "VBoxView",
            "_dom_classes": [
              "widget-interact"
            ],
            "_model_name": "VBoxModel",
            "_view_module": "@jupyter-widgets/controls",
            "_model_module_version": "1.5.0",
            "_view_count": null,
            "_view_module_version": "1.5.0",
            "box_style": "",
            "layout": "IPY_MODEL_54ae3596896b417295f80bb4bf3224e9",
            "_model_module": "@jupyter-widgets/controls",
            "children": [
              "IPY_MODEL_b68f8f7b124c4a49bc4ac9290a257e5d",
              "IPY_MODEL_f50a3732e34440eea054efde236a593d",
              "IPY_MODEL_f1c466d4fc4649babe3825020572c5b3"
            ]
          }
        },
        "54ae3596896b417295f80bb4bf3224e9": {
          "model_module": "@jupyter-widgets/base",
          "model_name": "LayoutModel",
          "state": {
            "_view_name": "LayoutView",
            "grid_template_rows": null,
            "right": null,
            "justify_content": null,
            "_view_module": "@jupyter-widgets/base",
            "overflow": null,
            "_model_module_version": "1.2.0",
            "_view_count": null,
            "flex_flow": null,
            "width": null,
            "min_width": null,
            "border": null,
            "align_items": null,
            "bottom": null,
            "_model_module": "@jupyter-widgets/base",
            "top": null,
            "grid_column": null,
            "overflow_y": null,
            "overflow_x": null,
            "grid_auto_flow": null,
            "grid_area": null,
            "grid_template_columns": null,
            "flex": null,
            "_model_name": "LayoutModel",
            "justify_items": null,
            "grid_row": null,
            "max_height": null,
            "align_content": null,
            "visibility": null,
            "align_self": null,
            "height": null,
            "min_height": null,
            "padding": null,
            "grid_auto_rows": null,
            "grid_gap": null,
            "max_width": null,
            "order": null,
            "_view_module_version": "1.2.0",
            "grid_template_areas": null,
            "object_position": null,
            "object_fit": null,
            "grid_auto_columns": null,
            "margin": null,
            "display": null,
            "left": null
          }
        },
        "b68f8f7b124c4a49bc4ac9290a257e5d": {
          "model_module": "@jupyter-widgets/controls",
          "model_name": "IntSliderModel",
          "state": {
            "_view_name": "IntSliderView",
            "style": "IPY_MODEL_66e5685dd5824911b63d3c51bb35fd11",
            "_dom_classes": [],
            "description": "n",
            "step": 1,
            "_model_name": "IntSliderModel",
            "orientation": "horizontal",
            "max": 9999,
            "_view_module": "@jupyter-widgets/controls",
            "_model_module_version": "1.5.0",
            "value": 3790,
            "_view_count": null,
            "disabled": false,
            "_view_module_version": "1.5.0",
            "min": 0,
            "continuous_update": true,
            "readout_format": "d",
            "description_tooltip": null,
            "readout": true,
            "_model_module": "@jupyter-widgets/controls",
            "layout": "IPY_MODEL_3c1ed33c88e34d808f5ef2f28aaace16"
          }
        },
        "f50a3732e34440eea054efde236a593d": {
          "model_module": "@jupyter-widgets/controls",
          "model_name": "ButtonModel",
          "state": {
            "_view_name": "ButtonView",
            "style": "IPY_MODEL_7301b0eeab4348959394e7562c16c42b",
            "_dom_classes": [],
            "description": "Run Interact",
            "_model_name": "ButtonModel",
            "button_style": "",
            "_view_module": "@jupyter-widgets/controls",
            "_model_module_version": "1.5.0",
            "tooltip": "",
            "_view_count": null,
            "disabled": false,
            "_view_module_version": "1.5.0",
            "layout": "IPY_MODEL_d33436e615074f0e80de4cad8f80a119",
            "_model_module": "@jupyter-widgets/controls",
            "icon": ""
          }
        },
        "f1c466d4fc4649babe3825020572c5b3": {
          "model_module": "@jupyter-widgets/output",
          "model_name": "OutputModel",
          "state": {
            "_view_name": "OutputView",
            "msg_id": "",
            "_dom_classes": [],
            "_model_name": "OutputModel",
            "outputs": [
              {
                "output_type": "stream",
                "metadata": {
                  "tags": []
                },
                "text": "My prediction is Ankle boot\n",
                "stream": "stdout"
              },
              {
                "output_type": "display_data",
                "metadata": {
                  "tags": []
                },
                "image/png": "iVBORw0KGgoAAAANSUhEUgAAAPsAAAD4CAYAAAAq5pAIAAAABHNCSVQICAgIfAhkiAAAAAlwSFlz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\nkAnCDmSCsAOZIOxAJv4f2sTGduAIi9IAAAAASUVORK5CYII=\n",
                "text/plain": "<Figure size 432x288 with 1 Axes>"
              }
            ],
            "_view_module": "@jupyter-widgets/output",
            "_model_module_version": "1.0.0",
            "_view_count": null,
            "_view_module_version": "1.0.0",
            "layout": "IPY_MODEL_11278e1117774e79a369b60bcd7547e7",
            "_model_module": "@jupyter-widgets/output"
          }
        },
        "66e5685dd5824911b63d3c51bb35fd11": {
          "model_module": "@jupyter-widgets/controls",
          "model_name": "SliderStyleModel",
          "state": {
            "_view_name": "StyleView",
            "handle_color": null,
            "_model_name": "SliderStyleModel",
            "description_width": "",
            "_view_module": "@jupyter-widgets/base",
            "_model_module_version": "1.5.0",
            "_view_count": null,
            "_view_module_version": "1.2.0",
            "_model_module": "@jupyter-widgets/controls"
          }
        },
        "3c1ed33c88e34d808f5ef2f28aaace16": {
          "model_module": "@jupyter-widgets/base",
          "model_name": "LayoutModel",
          "state": {
            "_view_name": "LayoutView",
            "grid_template_rows": null,
            "right": null,
            "justify_content": null,
            "_view_module": "@jupyter-widgets/base",
            "overflow": null,
            "_model_module_version": "1.2.0",
            "_view_count": null,
            "flex_flow": null,
            "width": null,
            "min_width": null,
            "border": null,
            "align_items": null,
            "bottom": null,
            "_model_module": "@jupyter-widgets/base",
            "top": null,
            "grid_column": null,
            "overflow_y": null,
            "overflow_x": null,
            "grid_auto_flow": null,
            "grid_area": null,
            "grid_template_columns": null,
            "flex": null,
            "_model_name": "LayoutModel",
            "justify_items": null,
            "grid_row": null,
            "max_height": null,
            "align_content": null,
            "visibility": null,
            "align_self": null,
            "height": null,
            "min_height": null,
            "padding": null,
            "grid_auto_rows": null,
            "grid_gap": null,
            "max_width": null,
            "order": null,
            "_view_module_version": "1.2.0",
            "grid_template_areas": null,
            "object_position": null,
            "object_fit": null,
            "grid_auto_columns": null,
            "margin": null,
            "display": null,
            "left": null
          }
        },
        "7301b0eeab4348959394e7562c16c42b": {
          "model_module": "@jupyter-widgets/controls",
          "model_name": "ButtonStyleModel",
          "state": {
            "_view_name": "StyleView",
            "_model_name": "ButtonStyleModel",
            "_view_module": "@jupyter-widgets/base",
            "_model_module_version": "1.5.0",
            "_view_count": null,
            "button_color": null,
            "font_weight": "",
            "_view_module_version": "1.2.0",
            "_model_module": "@jupyter-widgets/controls"
          }
        },
        "d33436e615074f0e80de4cad8f80a119": {
          "model_module": "@jupyter-widgets/base",
          "model_name": "LayoutModel",
          "state": {
            "_view_name": "LayoutView",
            "grid_template_rows": null,
            "right": null,
            "justify_content": null,
            "_view_module": "@jupyter-widgets/base",
            "overflow": null,
            "_model_module_version": "1.2.0",
            "_view_count": null,
            "flex_flow": null,
            "width": null,
            "min_width": null,
            "border": null,
            "align_items": null,
            "bottom": null,
            "_model_module": "@jupyter-widgets/base",
            "top": null,
            "grid_column": null,
            "overflow_y": null,
            "overflow_x": null,
            "grid_auto_flow": null,
            "grid_area": null,
            "grid_template_columns": null,
            "flex": null,
            "_model_name": "LayoutModel",
            "justify_items": null,
            "grid_row": null,
            "max_height": null,
            "align_content": null,
            "visibility": null,
            "align_self": null,
            "height": null,
            "min_height": null,
            "padding": null,
            "grid_auto_rows": null,
            "grid_gap": null,
            "max_width": null,
            "order": null,
            "_view_module_version": "1.2.0",
            "grid_template_areas": null,
            "object_position": null,
            "object_fit": null,
            "grid_auto_columns": null,
            "margin": null,
            "display": null,
            "left": null
          }
        },
        "11278e1117774e79a369b60bcd7547e7": {
          "model_module": "@jupyter-widgets/base",
          "model_name": "LayoutModel",
          "state": {
            "_view_name": "LayoutView",
            "grid_template_rows": null,
            "right": null,
            "justify_content": null,
            "_view_module": "@jupyter-widgets/base",
            "overflow": null,
            "_model_module_version": "1.2.0",
            "_view_count": null,
            "flex_flow": null,
            "width": null,
            "min_width": null,
            "border": null,
            "align_items": null,
            "bottom": null,
            "_model_module": "@jupyter-widgets/base",
            "top": null,
            "grid_column": null,
            "overflow_y": null,
            "overflow_x": null,
            "grid_auto_flow": null,
            "grid_area": null,
            "grid_template_columns": null,
            "flex": null,
            "_model_name": "LayoutModel",
            "justify_items": null,
            "grid_row": null,
            "max_height": null,
            "align_content": null,
            "visibility": null,
            "align_self": null,
            "height": null,
            "min_height": null,
            "padding": null,
            "grid_auto_rows": null,
            "grid_gap": null,
            "max_width": null,
            "order": null,
            "_view_module_version": "1.2.0",
            "grid_template_areas": null,
            "object_position": null,
            "object_fit": null,
            "grid_auto_columns": null,
            "margin": null,
            "display": null,
            "left": null
          }
        }
      }
    },
    "accelerator": "TPU"
  },
  "cells": [
    {
      "cell_type": "markdown",
      "metadata": {
        "id": "view-in-github",
        "colab_type": "text"
      },
      "source": [
        "<a href=\"https://colab.research.google.com/github/Litzu10/python1/blob/master/CNN_HW0405.ipynb\" target=\"_parent\"><img src=\"https://colab.research.google.com/assets/colab-badge.svg\" alt=\"Open In Colab\"/></a>"
      ]
    },
    {
      "cell_type": "code",
      "metadata": {
        "id": "qJR70v4CmHu0",
        "colab_type": "code",
        "colab": {}
      },
      "source": [
        "%tensorflow_version 2.x"
      ],
      "execution_count": 0,
      "outputs": []
    },
    {
      "cell_type": "code",
      "metadata": {
        "id": "F7ifwLyiihnn",
        "colab_type": "code",
        "colab": {}
      },
      "source": [
        "%matplotlib inline\n",
        "\n",
        "import numpy as np\n",
        "import matplotlib.pyplot as plt\n",
        "import pandas as pd"
      ],
      "execution_count": 0,
      "outputs": []
    },
    {
      "cell_type": "markdown",
      "metadata": {
        "id": "IyiVBWKzioND",
        "colab_type": "text"
      },
      "source": [
        "# **1. 讀入 Fashion MNSIT 數據集**"
      ]
    },
    {
      "cell_type": "code",
      "metadata": {
        "id": "-E6kDXdPihqw",
        "colab_type": "code",
        "colab": {}
      },
      "source": [
        "from tensorflow.keras.datasets import fashion_mnist"
      ],
      "execution_count": 0,
      "outputs": []
    },
    {
      "cell_type": "code",
      "metadata": {
        "id": "rqB2o99XihuT",
        "colab_type": "code",
        "outputId": "5ec04a42-1802-4189-d878-e5ba7f2ff014",
        "colab": {
          "base_uri": "https://localhost:8080/",
          "height": 156
        }
      },
      "source": [
        "(x_train, y_train), (x_test, y_test) = fashion_mnist.load_data()"
      ],
      "execution_count": 4,
      "outputs": [
        {
          "output_type": "stream",
          "text": [
            "Downloading data from https://storage.googleapis.com/tensorflow/tf-keras-datasets/train-labels-idx1-ubyte.gz\n",
            "32768/29515 [=================================] - 0s 0us/step\n",
            "Downloading data from https://storage.googleapis.com/tensorflow/tf-keras-datasets/train-images-idx3-ubyte.gz\n",
            "26427392/26421880 [==============================] - 0s 0us/step\n",
            "Downloading data from https://storage.googleapis.com/tensorflow/tf-keras-datasets/t10k-labels-idx1-ubyte.gz\n",
            "8192/5148 [===============================================] - 0s 0us/step\n",
            "Downloading data from https://storage.googleapis.com/tensorflow/tf-keras-datasets/t10k-images-idx3-ubyte.gz\n",
            "4423680/4422102 [==============================] - 0s 0us/step\n"
          ],
          "name": "stdout"
        }
      ]
    },
    {
      "cell_type": "code",
      "metadata": {
        "id": "0D06rEOekVF0",
        "colab_type": "code",
        "colab": {}
      },
      "source": [
        "class_names = ['T-shirt/top', 'Trouser', 'Pullover', 'Dress', 'Coat',\n",
        "               'Sandal', 'Shirt', 'Sneaker', 'Bag', 'Ankle boot']"
      ],
      "execution_count": 0,
      "outputs": []
    },
    {
      "cell_type": "markdown",
      "metadata": {
        "id": "l3ShdmJYDeR6",
        "colab_type": "text"
      },
      "source": [
        "# **2.欣賞數據及內容**"
      ]
    },
    {
      "cell_type": "code",
      "metadata": {
        "id": "e39jk09HkVB4",
        "colab_type": "code",
        "outputId": "a2833512-c684-4fd6-c22c-43c7441af96c",
        "colab": {
          "base_uri": "https://localhost:8080/",
          "height": 106
        }
      },
      "source": [
        "pick = np.random.choice(60000, 3, replace=False)\n",
        "\n",
        "for i in range(3):\n",
        "    n = pick[i]\n",
        "    ax = plt.subplot(151+i)\n",
        "    ax.set_xticks([])\n",
        "    ax.set_yticks([])\n",
        "    ax.set_title(class_names[y_train[n]], fontsize=10)\n",
        "    plt.imshow(x_train[n], cmap='Greys')  "
      ],
      "execution_count": 6,
      "outputs": [
        {
          "output_type": "display_data",
          "data": {
            "image/png": "[encoded data removed]",
            "text/plain": [
              "<Figure size 432x288 with 3 Axes>"
            ]
          },
          "metadata": {
            "tags": []
          }
        }
      ]
    },
    {
      "cell_type": "code",
      "metadata": {
        "id": "tnJVnpeNkU83",
        "colab_type": "code",
        "outputId": "4d94094f-a9bf-4076-df05-b453f3f53a90",
        "colab": {
          "base_uri": "https://localhost:8080/",
          "height": 35
        }
      },
      "source": [
        "x_train.shape"
      ],
      "execution_count": 7,
      "outputs": [
        {
          "output_type": "execute_result",
          "data": {
            "text/plain": [
              "(60000, 28, 28)"
            ]
          },
          "metadata": {
            "tags": []
          },
          "execution_count": 7
        }
      ]
    },
    {
      "cell_type": "code",
      "metadata": {
        "id": "tG3MX12Rih2_",
        "colab_type": "code",
        "colab": {}
      },
      "source": [
        "x_train = x_train.reshape(60000, 28,28,1)/255\n",
        "x_test = x_test.reshape(10000, 28,28,1)/255"
      ],
      "execution_count": 0,
      "outputs": []
    },
    {
      "cell_type": "code",
      "metadata": {
        "id": "TqxyFy7Iih8v",
        "colab_type": "code",
        "colab": {}
      },
      "source": [
        "from tensorflow.keras.utils import to_categorical"
      ],
      "execution_count": 0,
      "outputs": []
    },
    {
      "cell_type": "code",
      "metadata": {
        "id": "4__7yr1iiiCm",
        "colab_type": "code",
        "colab": {}
      },
      "source": [
        "y_train = to_categorical(y_train, 10)\n",
        "y_test = to_categorical(y_test, 10)"
      ],
      "execution_count": 0,
      "outputs": []
    },
    {
      "cell_type": "markdown",
      "metadata": {
        "id": "BiZA6y_-i5kk",
        "colab_type": "text"
      },
      "source": [
        "讀入必要的函式"
      ]
    },
    {
      "cell_type": "code",
      "metadata": {
        "id": "udMZH4dLiiFO",
        "colab_type": "code",
        "colab": {}
      },
      "source": [
        "from tensorflow.keras.models import Sequential \n",
        "from tensorflow.keras.layers import Conv2D, MaxPooling2D\n",
        "from tensorflow.keras.layers import Dense, Flatten\n",
        "from tensorflow.keras.optimizers import SGD"
      ],
      "execution_count": 0,
      "outputs": []
    },
    {
      "cell_type": "markdown",
      "metadata": {
        "id": "snIlSiQ0i-yb",
        "colab_type": "text"
      },
      "source": [
        "# **3.打造函數學習機(CNN)**"
      ]
    },
    {
      "cell_type": "code",
      "metadata": {
        "id": "EXRi5k7AiiId",
        "colab_type": "code",
        "colab": {}
      },
      "source": [
        "model = Sequential()"
      ],
      "execution_count": 0,
      "outputs": []
    },
    {
      "cell_type": "markdown",
      "metadata": {
        "id": "9h66WOC1AOXZ",
        "colab_type": "text"
      },
      "source": [
        "#### 調整Conv2D裡的數量"
      ]
    },
    {
      "cell_type": "code",
      "metadata": {
        "id": "17-bcvq1i_19",
        "colab_type": "code",
        "colab": {}
      },
      "source": [
        "model.add(Conv2D(8, (3,3), padding='same', \n",
        "                 input_shape=(28,28,1), \n",
        "                 activation='relu'))\n",
        "model.add(MaxPooling2D(pool_size=(2,2)))\n",
        "model.add(Conv2D(16,(3,3), padding='same', activation='relu'))\n",
        "model.add(MaxPooling2D(pool_size=(2,2)))\n",
        "model.add(Conv2D(32, (3,3), padding='same', activation='relu'))\n",
        "model.add(MaxPooling2D(pool_size=(2,2)))\n",
        "model.add(Conv2D(64, (3,3), padding='same', activation='relu'))\n",
        "model.add(MaxPooling2D(pool_size=(2,2)))"
      ],
      "execution_count": 0,
      "outputs": []
    },
    {
      "cell_type": "markdown",
      "metadata": {
        "id": "Y35Gnn8OEAUU",
        "colab_type": "text"
      },
      "source": [
        "#### 將神經元數量改為30"
      ]
    },
    {
      "cell_type": "code",
      "metadata": {
        "id": "pX6fCRt0ih7o",
        "colab_type": "code",
        "colab": {}
      },
      "source": [
        "model.add(Flatten())\n",
        "model.add(Dense(30,activation='relu'))\n",
        "model.add(Dense(10,activation='softmax'))"
      ],
      "execution_count": 0,
      "outputs": []
    },
    {
      "cell_type": "code",
      "metadata": {
        "id": "mKa_p1ZjjRQK",
        "colab_type": "code",
        "outputId": "d42b1260-29ca-4cb8-f5e3-8d7505150ac8",
        "colab": {
          "base_uri": "https://localhost:8080/",
          "height": 537
        }
      },
      "source": [
        "model.summary()"
      ],
      "execution_count": 15,
      "outputs": [
        {
          "output_type": "stream",
          "text": [
            "Model: \"sequential\"\n",
            "_________________________________________________________________\n",
            "Layer (type)                 Output Shape              Param #   \n",
            "=================================================================\n",
            "conv2d (Conv2D)              (None, 28, 28, 8)         80        \n",
            "_________________________________________________________________\n",
            "max_pooling2d (MaxPooling2D) (None, 14, 14, 8)         0         \n",
            "_________________________________________________________________\n",
            "conv2d_1 (Conv2D)            (None, 14, 14, 16)        1168      \n",
            "_________________________________________________________________\n",
            "max_pooling2d_1 (MaxPooling2 (None, 7, 7, 16)          0         \n",
            "_________________________________________________________________\n",
            "conv2d_2 (Conv2D)            (None, 7, 7, 32)          4640      \n",
            "_________________________________________________________________\n",
            "max_pooling2d_2 (MaxPooling2 (None, 3, 3, 32)          0         \n",
            "_________________________________________________________________\n",
            "conv2d_3 (Conv2D)            (None, 3, 3, 64)          18496     \n",
            "_________________________________________________________________\n",
            "max_pooling2d_3 (MaxPooling2 (None, 1, 1, 64)          0         \n",
            "_________________________________________________________________\n",
            "flatten (Flatten)            (None, 64)                0         \n",
            "_________________________________________________________________\n",
            "dense (Dense)                (None, 30)                1950      \n",
            "_________________________________________________________________\n",
            "dense_1 (Dense)              (None, 10)                310       \n",
            "=================================================================\n",
            "Total params: 26,644\n",
            "Trainable params: 26,644\n",
            "Non-trainable params: 0\n",
            "_________________________________________________________________\n"
          ],
          "name": "stdout"
        }
      ]
    },
    {
      "cell_type": "markdown",
      "metadata": {
        "id": "TQ1ryuTyDPMC",
        "colab_type": "text"
      },
      "source": [
        "#### 調整learning rate"
      ]
    },
    {
      "cell_type": "code",
      "metadata": {
        "id": "B1LPijTejRUZ",
        "colab_type": "code",
        "colab": {}
      },
      "source": [
        "model.compile(loss='mse', optimizer=SGD(lr=0.09), metrics=['accuracy'])"
      ],
      "execution_count": 0,
      "outputs": []
    },
    {
      "cell_type": "markdown",
      "metadata": {
        "id": "N1sk6gK3DSMn",
        "colab_type": "text"
      },
      "source": [
        "#### 調整batch_size和訓練次數，訓練多次一點，希望達到較高的準確率。"
      ]
    },
    {
      "cell_type": "code",
      "metadata": {
        "id": "TFNmblE8kJNb",
        "colab_type": "code",
        "outputId": "b8fdaad4-2a9a-4f12-8fa9-3eaabc8d08f6",
        "colab": {
          "base_uri": "https://localhost:8080/",
          "height": 1000
        }
      },
      "source": [
        "final = model.fit(x_train, y_train, batch_size=100, epochs=60)"
      ],
      "execution_count": 17,
      "outputs": [
        {
          "output_type": "stream",
          "text": [
            "Epoch 1/60\n",
            "600/600 [==============================] - 27s 45ms/step - loss: 0.0898 - accuracy: 0.1771\n",
            "Epoch 2/60\n",
            "600/600 [==============================] - 27s 46ms/step - loss: 0.0889 - accuracy: 0.2844\n",
            "Epoch 3/60\n",
            "600/600 [==============================] - 27s 45ms/step - loss: 0.0840 - accuracy: 0.3093\n",
            "Epoch 4/60\n",
            "600/600 [==============================] - 27s 45ms/step - loss: 0.0562 - accuracy: 0.5712\n",
            "Epoch 5/60\n",
            "600/600 [==============================] - 27s 45ms/step - loss: 0.0401 - accuracy: 0.7065\n",
            "Epoch 6/60\n",
            "600/600 [==============================] - 27s 45ms/step - loss: 0.0361 - accuracy: 0.7401\n",
            "Epoch 7/60\n",
            "600/600 [==============================] - 27s 46ms/step - loss: 0.0334 - accuracy: 0.7617\n",
            "Epoch 8/60\n",
            "600/600 [==============================] - 27s 45ms/step - loss: 0.0318 - accuracy: 0.7763\n",
            "Epoch 9/60\n",
            "600/600 [==============================] - 27s 45ms/step - loss: 0.0303 - accuracy: 0.7871\n",
            "Epoch 10/60\n",
            "600/600 [==============================] - 27s 45ms/step - loss: 0.0290 - accuracy: 0.7963\n",
            "Epoch 11/60\n",
            "600/600 [==============================] - 27s 45ms/step - loss: 0.0279 - accuracy: 0.8048\n",
            "Epoch 12/60\n",
            "600/600 [==============================] - 27s 45ms/step - loss: 0.0270 - accuracy: 0.8109\n",
            "Epoch 13/60\n",
            "600/600 [==============================] - 27s 45ms/step - loss: 0.0260 - accuracy: 0.8185\n",
            "Epoch 14/60\n",
            "600/600 [==============================] - 27s 45ms/step - loss: 0.0252 - accuracy: 0.8252\n",
            "Epoch 15/60\n",
            "600/600 [==============================] - 27s 45ms/step - loss: 0.0246 - accuracy: 0.8288\n",
            "Epoch 16/60\n",
            "600/600 [==============================] - 27s 45ms/step - loss: 0.0239 - accuracy: 0.8346\n",
            "Epoch 17/60\n",
            "600/600 [==============================] - 27s 45ms/step - loss: 0.0234 - accuracy: 0.8389\n",
            "Epoch 18/60\n",
            "600/600 [==============================] - 27s 46ms/step - loss: 0.0227 - accuracy: 0.8437\n",
            "Epoch 19/60\n",
            "600/600 [==============================] - 28s 46ms/step - loss: 0.0222 - accuracy: 0.8464\n",
            "Epoch 20/60\n",
            "600/600 [==============================] - 27s 45ms/step - loss: 0.0218 - accuracy: 0.8506\n",
            "Epoch 21/60\n",
            "600/600 [==============================] - 27s 45ms/step - loss: 0.0213 - accuracy: 0.8539\n",
            "Epoch 22/60\n",
            "600/600 [==============================] - 27s 46ms/step - loss: 0.0210 - accuracy: 0.8551\n",
            "Epoch 23/60\n",
            "600/600 [==============================] - 27s 46ms/step - loss: 0.0206 - accuracy: 0.8591\n",
            "Epoch 24/60\n",
            "600/600 [==============================] - 27s 46ms/step - loss: 0.0202 - accuracy: 0.8612\n",
            "Epoch 25/60\n",
            "600/600 [==============================] - 27s 46ms/step - loss: 0.0199 - accuracy: 0.8641\n",
            "Epoch 26/60\n",
            "600/600 [==============================] - 27s 46ms/step - loss: 0.0197 - accuracy: 0.8656\n",
            "Epoch 27/60\n",
            "600/600 [==============================] - 27s 45ms/step - loss: 0.0193 - accuracy: 0.8681\n",
            "Epoch 28/60\n",
            "600/600 [==============================] - 27s 46ms/step - loss: 0.0191 - accuracy: 0.8691\n",
            "Epoch 29/60\n",
            "600/600 [==============================] - 32s 53ms/step - loss: 0.0189 - accuracy: 0.8698\n",
            "Epoch 30/60\n",
            "600/600 [==============================] - 27s 46ms/step - loss: 0.0186 - accuracy: 0.8725\n",
            "Epoch 31/60\n",
            "600/600 [==============================] - 27s 46ms/step - loss: 0.0185 - accuracy: 0.8733\n",
            "Epoch 32/60\n",
            "600/600 [==============================] - 27s 46ms/step - loss: 0.0183 - accuracy: 0.8747\n",
            "Epoch 33/60\n",
            "600/600 [==============================] - 27s 46ms/step - loss: 0.0181 - accuracy: 0.8758\n",
            "Epoch 34/60\n",
            "600/600 [==============================] - 27s 46ms/step - loss: 0.0179 - accuracy: 0.8788\n",
            "Epoch 35/60\n",
            "600/600 [==============================] - 27s 46ms/step - loss: 0.0177 - accuracy: 0.8796\n",
            "Epoch 36/60\n",
            "600/600 [==============================] - 27s 45ms/step - loss: 0.0177 - accuracy: 0.8795\n",
            "Epoch 37/60\n",
            "600/600 [==============================] - 27s 46ms/step - loss: 0.0174 - accuracy: 0.8805\n",
            "Epoch 38/60\n",
            "600/600 [==============================] - 27s 46ms/step - loss: 0.0173 - accuracy: 0.8825\n",
            "Epoch 39/60\n",
            "600/600 [==============================] - 27s 46ms/step - loss: 0.0171 - accuracy: 0.8843\n",
            "Epoch 40/60\n",
            "600/600 [==============================] - 27s 46ms/step - loss: 0.0170 - accuracy: 0.8848\n",
            "Epoch 41/60\n",
            "600/600 [==============================] - 28s 46ms/step - loss: 0.0169 - accuracy: 0.8852\n",
            "Epoch 42/60\n",
            "600/600 [==============================] - 27s 46ms/step - loss: 0.0168 - accuracy: 0.8866\n",
            "Epoch 43/60\n",
            "600/600 [==============================] - 27s 45ms/step - loss: 0.0167 - accuracy: 0.8864\n",
            "Epoch 44/60\n",
            "600/600 [==============================] - 27s 45ms/step - loss: 0.0165 - accuracy: 0.8875\n",
            "Epoch 45/60\n",
            "600/600 [==============================] - 27s 45ms/step - loss: 0.0164 - accuracy: 0.8891\n",
            "Epoch 46/60\n",
            "600/600 [==============================] - 27s 45ms/step - loss: 0.0163 - accuracy: 0.8899\n",
            "Epoch 47/60\n",
            "600/600 [==============================] - 27s 45ms/step - loss: 0.0162 - accuracy: 0.8893\n",
            "Epoch 48/60\n",
            "600/600 [==============================] - 27s 45ms/step - loss: 0.0161 - accuracy: 0.8908\n",
            "Epoch 49/60\n",
            "600/600 [==============================] - 27s 45ms/step - loss: 0.0160 - accuracy: 0.8918\n",
            "Epoch 50/60\n",
            "600/600 [==============================] - 27s 45ms/step - loss: 0.0158 - accuracy: 0.8935\n",
            "Epoch 51/60\n",
            "600/600 [==============================] - 33s 54ms/step - loss: 0.0159 - accuracy: 0.8936\n",
            "Epoch 52/60\n",
            "600/600 [==============================] - 27s 45ms/step - loss: 0.0158 - accuracy: 0.8929\n",
            "Epoch 53/60\n",
            "600/600 [==============================] - 27s 45ms/step - loss: 0.0156 - accuracy: 0.8940\n",
            "Epoch 54/60\n",
            "600/600 [==============================] - 27s 45ms/step - loss: 0.0155 - accuracy: 0.8959\n",
            "Epoch 55/60\n",
            "600/600 [==============================] - 28s 46ms/step - loss: 0.0155 - accuracy: 0.8956\n",
            "Epoch 56/60\n",
            "600/600 [==============================] - 28s 46ms/step - loss: 0.0155 - accuracy: 0.8962\n",
            "Epoch 57/60\n",
            "600/600 [==============================] - 28s 46ms/step - loss: 0.0153 - accuracy: 0.8970\n",
            "Epoch 58/60\n",
            "600/600 [==============================] - 28s 46ms/step - loss: 0.0152 - accuracy: 0.8977\n",
            "Epoch 59/60\n",
            "600/600 [==============================] - 28s 46ms/step - loss: 0.0151 - accuracy: 0.8978\n",
            "Epoch 60/60\n",
            "600/600 [==============================] - 28s 46ms/step - loss: 0.0151 - accuracy: 0.8980\n"
          ],
          "name": "stdout"
        }
      ]
    },
    {
      "cell_type": "markdown",
      "metadata": {
        "id": "mpyXvzeJkKLv",
        "colab_type": "text"
      },
      "source": [
        "## **來看看結果！**"
      ]
    },
    {
      "cell_type": "code",
      "metadata": {
        "id": "85EN1PPBjRSl",
        "colab_type": "code",
        "colab": {
          "base_uri": "https://localhost:8080/",
          "height": 89
        },
        "outputId": "604fa9c9-2970-4c54-973c-64675b8ea586"
      },
      "source": [
        "result = model.predict_classes(x_test)"
      ],
      "execution_count": 18,
      "outputs": [
        {
          "output_type": "stream",
          "text": [
            "WARNING:tensorflow:From <ipython-input-18-63af5bb2f9b6>:1: Sequential.predict_classes (from tensorflow.python.keras.engine.sequential) is deprecated and will be removed after 2021-01-01.\n",
            "Instructions for updating:\n",
            "Please use instead:* `np.argmax(model.predict(x), axis=-1)`,   if your model does multi-class classification   (e.g. if it uses a `softmax` last-layer activation).* `(model.predict(x) > 0.5).astype(\"int32\")`,   if your model does binary classification   (e.g. if it uses a `sigmoid` last-layer activation).\n"
          ],
          "name": "stdout"
        }
      ]
    },
    {
      "cell_type": "code",
      "metadata": {
        "id": "6yENV37sih1X",
        "colab_type": "code",
        "colab": {}
      },
      "source": [
        "def my_predict(n):\n",
        "  print ('My prediction is', class_names[result[n]])\n",
        "  x = x_test[n].reshape(28,28)\n",
        "  plt.imshow(x, cmap='Greys')"
      ],
      "execution_count": 0,
      "outputs": []
    },
    {
      "cell_type": "code",
      "metadata": {
        "id": "oRQ3zgSi-VGM",
        "colab_type": "code",
        "outputId": "4b577b30-082a-4f74-afa4-9e4b1b824101",
        "colab": {
          "base_uri": "https://localhost:8080/",
          "height": 283
        }
      },
      "source": [
        "my_predict(9832)"
      ],
      "execution_count": 27,
      "outputs": [
        {
          "output_type": "stream",
          "text": [
            "My prediction is Trouser\n"
          ],
          "name": "stdout"
        },
        {
          "output_type": "display_data",
          "data": {
            "image/png": "[encoded data removed]",
            "text/plain": [
              "<Figure size 432x288 with 1 Axes>"
            ]
          },
          "metadata": {
            "tags": []
          }
        }
      ]
    },
    {
      "cell_type": "code",
      "metadata": {
        "id": "p7r9LFEhjjtB",
        "colab_type": "code",
        "outputId": "24bb10be-bd6b-4a13-c9d9-f82bac0e842a",
        "colab": {
          "base_uri": "https://localhost:8080/",
          "height": 364,
          "referenced_widgets": [
            "9101742508ce49e89f674d57db6a449f",
            "54ae3596896b417295f80bb4bf3224e9",
            "b68f8f7b124c4a49bc4ac9290a257e5d",
            "f50a3732e34440eea054efde236a593d",
            "f1c466d4fc4649babe3825020572c5b3",
            "66e5685dd5824911b63d3c51bb35fd11",
            "3c1ed33c88e34d808f5ef2f28aaace16",
            "7301b0eeab4348959394e7562c16c42b",
            "d33436e615074f0e80de4cad8f80a119",
            "11278e1117774e79a369b60bcd7547e7"
          ]
        }
      },
      "source": [
        "from ipywidgets import interact_manual\n",
        "interact_manual(my_predict, n=(0,9999))"
      ],
      "execution_count": 21,
      "outputs": [
        {
          "output_type": "display_data",
          "data": {
            "application/vnd.jupyter.widget-view+json": {
              "model_id": "9101742508ce49e89f674d57db6a449f",
              "version_minor": 0,
              "version_major": 2
            },
            "text/plain": [
              "interactive(children=(IntSlider(value=4999, description='n', max=9999), Button(description='Run Interact', sty…"
            ]
          },
          "metadata": {
            "tags": []
          }
        },
        {
          "output_type": "execute_result",
          "data": {
            "text/plain": [
              "<function __main__.my_predict>"
            ]
          },
          "metadata": {
            "tags": []
          },
          "execution_count": 21
        }
      ]
    },
    {
      "cell_type": "code",
      "metadata": {
        "id": "DjRbx48hjjxU",
        "colab_type": "code",
        "outputId": "431f6ffe-c1a7-4be9-b0ff-8b41de6eeedf",
        "colab": {
          "base_uri": "https://localhost:8080/",
          "height": 35
        }
      },
      "source": [
        "score = model.evaluate(x_test, y_test)"
      ],
      "execution_count": 22,
      "outputs": [
        {
          "output_type": "stream",
          "text": [
            "313/313 [==============================] - 3s 8ms/step - loss: 0.0178 - accuracy: 0.8777\n"
          ],
          "name": "stdout"
        }
      ]
    },
    {
      "cell_type": "code",
      "metadata": {
        "id": "S5HFE-wyjj32",
        "colab_type": "code",
        "colab": {}
      },
      "source": [
        "loss, acc = score"
      ],
      "execution_count": 0,
      "outputs": []
    },
    {
      "cell_type": "code",
      "metadata": {
        "id": "UGrQKX4Rjj2H",
        "colab_type": "code",
        "outputId": "c8cb5d1d-9307-4dfe-8535-f77686ca4d3b",
        "colab": {
          "base_uri": "https://localhost:8080/",
          "height": 35
        }
      },
      "source": [
        "print('Accurancy = ', '%.2f' % acc) #印出預測正確率"
      ],
      "execution_count": 0,
      "outputs": [
        {
          "output_type": "stream",
          "text": [
            "Accurancy =  0.87\n"
          ],
          "name": "stdout"
        }
      ]
    },
    {
      "cell_type": "markdown",
      "metadata": {
        "id": "cwMMac36kNhy",
        "colab_type": "text"
      },
      "source": [
        "### 畫出預測正確率的變化"
      ]
    },
    {
      "cell_type": "code",
      "metadata": {
        "id": "Qhf-lhqsaW1N",
        "colab_type": "code",
        "colab": {
          "base_uri": "https://localhost:8080/",
          "height": 301
        },
        "outputId": "44401779-5fb7-4ba6-8412-bff3fd99c12c"
      },
      "source": [
        "plt.plot(final.history['accuracy'], label='accuracy')\n",
        "plt.xlabel('Epochs')\n",
        "plt.ylabel('Accuracy')\n",
        "plt.ylim([0.5, 1])\n",
        "plt.legend(loc='lower right')"
      ],
      "execution_count": 25,
      "outputs": [
        {
          "output_type": "execute_result",
          "data": {
            "text/plain": [
              "<matplotlib.legend.Legend at 0x7f68ed827f98>"
            ]
          },
          "metadata": {
            "tags": []
          },
          "execution_count": 25
        },
        {
          "output_type": "display_data",
          "data": {
            "image/png": "[encoded data removed]",
            "text/plain": [
              "<Figure size 432x288 with 1 Axes>"
            ]
          },
          "metadata": {
            "tags": []
          }
        }
      ]
    }
  ]
}