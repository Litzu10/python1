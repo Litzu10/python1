{
  "nbformat": 4,
  "nbformat_minor": 0,
  "metadata": {
    "colab": {
      "name": "HW_RNN_0425.ipynb",
      "provenance": [],
      "authorship_tag": "ABX9TyNSwYx+KNTkaX8cjrlPB5Ze",
      "include_colab_link": true
    },
    "kernelspec": {
      "name": "python3",
      "display_name": "Python 3"
    },
    "accelerator": "TPU"
  },
  "cells": [
    {
      "cell_type": "markdown",
      "metadata": {
        "id": "view-in-github",
        "colab_type": "text"
      },
      "source": [
        "<a href=\"https://colab.research.google.com/github/Litzu10/python1/blob/master/HW_RNN_0425.ipynb\" target=\"_parent\"><img src=\"https://colab.research.google.com/assets/colab-badge.svg\" alt=\"Open In Colab\"/></a>"
      ]
    },
    {
      "cell_type": "code",
      "metadata": {
        "id": "yUXcqyCAtHiu",
        "colab_type": "code",
        "colab": {}
      },
      "source": [
        "%tensorflow_version 2.x"
      ],
      "execution_count": 0,
      "outputs": []
    },
    {
      "cell_type": "code",
      "metadata": {
        "id": "Nq0y1iBStPi5",
        "colab_type": "code",
        "colab": {}
      },
      "source": [
        "%matplotlib inline\n",
        "\n",
        "import numpy as np\n",
        "import matplotlib.pyplot as plt\n",
        "import pandas as pd"
      ],
      "execution_count": 0,
      "outputs": []
    },
    {
      "cell_type": "markdown",
      "metadata": {
        "id": "J4QO4vghJI3c",
        "colab_type": "text"
      },
      "source": [
        "### 調整部分：\n",
        "1. data num_words\n",
        "2. maxlen\n",
        "3. Embedding 維度\n",
        "4. LSTM 層數\n",
        "5. dropout rate、recurrent_dropout rate\n",
        "6. 新增model 2\n",
        "7. 畫出兩模型準確率比較圖\n",
        "\n",
        "\n",
        "\n"
      ]
    },
    {
      "cell_type": "markdown",
      "metadata": {
        "id": "HalEm5BNtRZp",
        "colab_type": "text"
      },
      "source": [
        "# 1.讀入深度學習套件"
      ]
    },
    {
      "cell_type": "code",
      "metadata": {
        "id": "zaqs5BYTtPmo",
        "colab_type": "code",
        "colab": {}
      },
      "source": [
        "from tensorflow.keras.preprocessing import sequence\n",
        "from tensorflow.keras.models import Sequential\n",
        "from tensorflow.keras.layers import Dense, Embedding\n",
        "from tensorflow.keras.layers import LSTM\n",
        "from tensorflow.keras.datasets import imdb"
      ],
      "execution_count": 0,
      "outputs": []
    },
    {
      "cell_type": "markdown",
      "metadata": {
        "id": "_AFNomuptVp8",
        "colab_type": "text"
      },
      "source": [
        "# 2. 讀入數據"
      ]
    },
    {
      "cell_type": "code",
      "metadata": {
        "id": "dA8qZbJatPpV",
        "colab_type": "code",
        "colab": {}
      },
      "source": [
        "(x_train, y_train), (x_test, y_test) = imdb.load_data(num_words=12000)"
      ],
      "execution_count": 0,
      "outputs": []
    },
    {
      "cell_type": "markdown",
      "metadata": {
        "id": "iAqk5kQ1tbcu",
        "colab_type": "text"
      },
      "source": [
        "# 3. 資料處理"
      ]
    },
    {
      "cell_type": "code",
      "metadata": {
        "id": "vKQfpVr9tXnq",
        "colab_type": "code",
        "colab": {}
      },
      "source": [
        "x_train = sequence.pad_sequences(x_train, maxlen=150)\n",
        "x_test = sequence.pad_sequences(x_test, maxlen=150)"
      ],
      "execution_count": 0,
      "outputs": []
    },
    {
      "cell_type": "markdown",
      "metadata": {
        "id": "p7YQun1NtfTc",
        "colab_type": "text"
      },
      "source": [
        "#4. step01:打造函數學習機"
      ]
    },
    {
      "cell_type": "code",
      "metadata": {
        "id": "J2FA0D1WtXq1",
        "colab_type": "code",
        "colab": {}
      },
      "source": [
        "model = Sequential()"
      ],
      "execution_count": 0,
      "outputs": []
    },
    {
      "cell_type": "code",
      "metadata": {
        "id": "5TKtw1bIIWlL",
        "colab_type": "code",
        "colab": {}
      },
      "source": [
        "model.add(Embedding(12000,128)) #壓縮到128維"
      ],
      "execution_count": 0,
      "outputs": []
    },
    {
      "cell_type": "code",
      "metadata": {
        "id": "F_x8RxNwIWfd",
        "colab_type": "code",
        "colab": {}
      },
      "source": [
        "model.add(LSTM(100, dropout=0.15, recurrent_dropout=0.15))"
      ],
      "execution_count": 0,
      "outputs": []
    },
    {
      "cell_type": "code",
      "metadata": {
        "id": "6825jg-gIWay",
        "colab_type": "code",
        "colab": {}
      },
      "source": [
        "model.add(Dense(1, activation='sigmoid'))"
      ],
      "execution_count": 0,
      "outputs": []
    },
    {
      "cell_type": "code",
      "metadata": {
        "id": "ZdPlbATfIWS1",
        "colab_type": "code",
        "colab": {}
      },
      "source": [
        "model.compile(loss='binary_crossentropy', optimizer='adam', metrics=['accuracy'])"
      ],
      "execution_count": 0,
      "outputs": []
    },
    {
      "cell_type": "code",
      "metadata": {
        "id": "CiCYp3eRtXt6",
        "colab_type": "code",
        "outputId": "58570a37-f9e5-4ef0-8e19-0542348f7060",
        "colab": {
          "base_uri": "https://localhost:8080/",
          "height": 260
        }
      },
      "source": [
        "model.summary()"
      ],
      "execution_count": 29,
      "outputs": [
        {
          "output_type": "stream",
          "text": [
            "Model: \"sequential_1\"\n",
            "_________________________________________________________________\n",
            "Layer (type)                 Output Shape              Param #   \n",
            "=================================================================\n",
            "embedding_1 (Embedding)      (None, None, 128)         1536000   \n",
            "_________________________________________________________________\n",
            "lstm_1 (LSTM)                (None, 100)               91600     \n",
            "_________________________________________________________________\n",
            "dense_1 (Dense)              (None, 1)                 101       \n",
            "=================================================================\n",
            "Total params: 1,627,701\n",
            "Trainable params: 1,627,701\n",
            "Non-trainable params: 0\n",
            "_________________________________________________________________\n"
          ],
          "name": "stdout"
        }
      ]
    },
    {
      "cell_type": "markdown",
      "metadata": {
        "id": "5jmDhGzrGueO",
        "colab_type": "text"
      },
      "source": [
        "計算需要調整的參數 : "
      ]
    },
    {
      "cell_type": "code",
      "metadata": {
        "id": "C8mLLEN-GZCp",
        "colab_type": "code",
        "outputId": "7f47fb94-0861-4f34-bbe1-b445e90dbae2",
        "colab": {
          "base_uri": "https://localhost:8080/",
          "height": 35
        }
      },
      "source": [
        "(128+100+1)*4*100"
      ],
      "execution_count": 30,
      "outputs": [
        {
          "output_type": "execute_result",
          "data": {
            "text/plain": [
              "91600"
            ]
          },
          "metadata": {
            "tags": []
          },
          "execution_count": 30
        }
      ]
    },
    {
      "cell_type": "markdown",
      "metadata": {
        "id": "z408Vctftyvw",
        "colab_type": "text"
      },
      "source": [
        "# 5.step02:訓練"
      ]
    },
    {
      "cell_type": "code",
      "metadata": {
        "id": "9elF0HWotPtS",
        "colab_type": "code",
        "outputId": "6ce59f20-0316-4bb3-87db-eb7ee815c90a",
        "colab": {
          "base_uri": "https://localhost:8080/",
          "height": 295
        }
      },
      "source": [
        "result = model.fit(x_train, y_train, batch_size=50, epochs=8,\n",
        "          validation_data=(x_test,y_test))"
      ],
      "execution_count": 31,
      "outputs": [
        {
          "output_type": "stream",
          "text": [
            "Epoch 1/8\n",
            "500/500 [==============================] - 203s 406ms/step - loss: 0.3919 - accuracy: 0.8241 - val_loss: 0.5160 - val_accuracy: 0.8146\n",
            "Epoch 2/8\n",
            "500/500 [==============================] - 204s 408ms/step - loss: 0.2370 - accuracy: 0.9092 - val_loss: 0.3405 - val_accuracy: 0.8580\n",
            "Epoch 3/8\n",
            "500/500 [==============================] - 202s 404ms/step - loss: 0.1744 - accuracy: 0.9354 - val_loss: 0.3785 - val_accuracy: 0.8564\n",
            "Epoch 4/8\n",
            "500/500 [==============================] - 205s 410ms/step - loss: 0.1291 - accuracy: 0.9527 - val_loss: 0.4102 - val_accuracy: 0.8520\n",
            "Epoch 5/8\n",
            "500/500 [==============================] - 199s 397ms/step - loss: 0.0966 - accuracy: 0.9662 - val_loss: 0.5170 - val_accuracy: 0.8478\n",
            "Epoch 6/8\n",
            "500/500 [==============================] - 197s 394ms/step - loss: 0.0843 - accuracy: 0.9708 - val_loss: 0.5482 - val_accuracy: 0.8474\n",
            "Epoch 7/8\n",
            "500/500 [==============================] - 202s 404ms/step - loss: 0.0629 - accuracy: 0.9794 - val_loss: 0.6794 - val_accuracy: 0.8375\n",
            "Epoch 8/8\n",
            "500/500 [==============================] - 196s 392ms/step - loss: 0.0541 - accuracy: 0.9819 - val_loss: 0.5658 - val_accuracy: 0.8420\n"
          ],
          "name": "stdout"
        }
      ]
    },
    {
      "cell_type": "markdown",
      "metadata": {
        "id": "dbBrbiQSo2LC",
        "colab_type": "text"
      },
      "source": [
        "#### Model 2\n"
      ]
    },
    {
      "cell_type": "markdown",
      "metadata": {
        "id": "xqlY-cXVKahK",
        "colab_type": "text"
      },
      "source": [
        "調整dropout rate 看是否對預測準確率造成影響"
      ]
    },
    {
      "cell_type": "code",
      "metadata": {
        "id": "zYCClxWFopUQ",
        "colab_type": "code",
        "colab": {}
      },
      "source": [
        "model2 = Sequential()"
      ],
      "execution_count": 0,
      "outputs": []
    },
    {
      "cell_type": "code",
      "metadata": {
        "id": "xfdbJaUMKnYO",
        "colab_type": "code",
        "colab": {}
      },
      "source": [
        "model2.add(Embedding(12000,128))"
      ],
      "execution_count": 0,
      "outputs": []
    },
    {
      "cell_type": "code",
      "metadata": {
        "id": "vBfFT5xWKnRv",
        "colab_type": "code",
        "colab": {}
      },
      "source": [
        "model2.add(LSTM(100, dropout=0.3, recurrent_dropout=0.3))"
      ],
      "execution_count": 0,
      "outputs": []
    },
    {
      "cell_type": "code",
      "metadata": {
        "id": "RKFV5yRzKnLL",
        "colab_type": "code",
        "colab": {}
      },
      "source": [
        "model2.add(Dense(1, activation='sigmoid'))"
      ],
      "execution_count": 0,
      "outputs": []
    },
    {
      "cell_type": "code",
      "metadata": {
        "id": "_OQgxk3OKnF2",
        "colab_type": "code",
        "colab": {}
      },
      "source": [
        "model2.compile(loss='binary_crossentropy', optimizer='adam', metrics=['accuracy'])"
      ],
      "execution_count": 0,
      "outputs": []
    },
    {
      "cell_type": "code",
      "metadata": {
        "id": "qg9H39cOopez",
        "colab_type": "code",
        "colab": {
          "base_uri": "https://localhost:8080/",
          "height": 260
        },
        "outputId": "55aeebbd-56d5-470d-81b7-a99465a4edf3"
      },
      "source": [
        "model2.summary()"
      ],
      "execution_count": 38,
      "outputs": [
        {
          "output_type": "stream",
          "text": [
            "Model: \"sequential_2\"\n",
            "_________________________________________________________________\n",
            "Layer (type)                 Output Shape              Param #   \n",
            "=================================================================\n",
            "embedding_2 (Embedding)      (None, None, 128)         1536000   \n",
            "_________________________________________________________________\n",
            "lstm_2 (LSTM)                (None, 100)               91600     \n",
            "_________________________________________________________________\n",
            "dense_2 (Dense)              (None, 1)                 101       \n",
            "=================================================================\n",
            "Total params: 1,627,701\n",
            "Trainable params: 1,627,701\n",
            "Non-trainable params: 0\n",
            "_________________________________________________________________\n"
          ],
          "name": "stdout"
        }
      ]
    },
    {
      "cell_type": "code",
      "metadata": {
        "id": "ND0RsnwgoplJ",
        "colab_type": "code",
        "colab": {
          "base_uri": "https://localhost:8080/",
          "height": 295
        },
        "outputId": "009a1a26-99ba-4ee6-8201-be942a4a6f8a"
      },
      "source": [
        "result2 = model2.fit(x_train, y_train, batch_size=50, epochs=8,\n",
        "                     validation_data=(x_test,y_test))"
      ],
      "execution_count": 39,
      "outputs": [
        {
          "output_type": "stream",
          "text": [
            "Epoch 1/8\n",
            "500/500 [==============================] - 203s 406ms/step - loss: 0.4230 - accuracy: 0.7982 - val_loss: 0.3266 - val_accuracy: 0.8625\n",
            "Epoch 2/8\n",
            "500/500 [==============================] - 208s 415ms/step - loss: 0.2514 - accuracy: 0.9006 - val_loss: 0.3351 - val_accuracy: 0.8632\n",
            "Epoch 3/8\n",
            "500/500 [==============================] - 207s 414ms/step - loss: 0.1817 - accuracy: 0.9322 - val_loss: 0.3396 - val_accuracy: 0.8622\n",
            "Epoch 4/8\n",
            "500/500 [==============================] - 210s 420ms/step - loss: 0.1372 - accuracy: 0.9498 - val_loss: 0.5104 - val_accuracy: 0.8499\n",
            "Epoch 5/8\n",
            "500/500 [==============================] - 208s 417ms/step - loss: 0.1012 - accuracy: 0.9640 - val_loss: 0.4896 - val_accuracy: 0.8569\n",
            "Epoch 6/8\n",
            "500/500 [==============================] - 208s 416ms/step - loss: 0.0832 - accuracy: 0.9706 - val_loss: 0.5168 - val_accuracy: 0.8504\n",
            "Epoch 7/8\n",
            "500/500 [==============================] - 205s 409ms/step - loss: 0.0722 - accuracy: 0.9751 - val_loss: 0.6318 - val_accuracy: 0.8524\n",
            "Epoch 8/8\n",
            "500/500 [==============================] - 204s 408ms/step - loss: 0.0495 - accuracy: 0.9830 - val_loss: 0.6389 - val_accuracy: 0.8464\n"
          ],
          "name": "stdout"
        }
      ]
    },
    {
      "cell_type": "markdown",
      "metadata": {
        "id": "HvZPtaTNLa9_",
        "colab_type": "text"
      },
      "source": [
        "#### 比較兩模型預測準確率"
      ]
    },
    {
      "cell_type": "code",
      "metadata": {
        "id": "2UN7iuLFt35_",
        "colab_type": "code",
        "colab": {
          "base_uri": "https://localhost:8080/",
          "height": 301
        },
        "outputId": "693cd991-ddd2-4f58-cb27-701fa0d1f67a"
      },
      "source": [
        "plt.plot(result.history['accuracy'], label='accuracy')\n",
        "plt.plot(result2.history['accuracy'], label='accuracy')\n",
        "plt.xlabel('Epochs')\n",
        "plt.ylabel('Accuracy')\n",
        "plt.ylim([0, 1])\n",
        "plt.legend(loc='lower right')"
      ],
      "execution_count": 40,
      "outputs": [
        {
          "output_type": "execute_result",
          "data": {
            "text/plain": [
              "<matplotlib.legend.Legend at 0x7fb84d410470>"
            ]
          },
          "metadata": {
            "tags": []
          },
          "execution_count": 40
        },
        {
          "output_type": "display_data",
          "data": {
            "image/png": "[encoded data removed]",
            "text/plain": [
              "<Figure size 432x288 with 1 Axes>"
            ]
          },
          "metadata": {
            "tags": [],
            "needs_background": "light"
          }
        }
      ]
    },
    {
      "cell_type": "markdown",
      "metadata": {
        "id": "q7W9yGskSSTY",
        "colab_type": "text"
      },
      "source": [
        "model和model2的差別在於dropout rate的不同"
      ]
    },
    {
      "cell_type": "markdown",
      "metadata": {
        "id": "15JXdq9B1Yxe",
        "colab_type": "text"
      },
      "source": [
        "一開始model2的準確率比model低一點點，但訓練多次後準確率幾乎相同且相當高。"
      ]
    }
  ]
}