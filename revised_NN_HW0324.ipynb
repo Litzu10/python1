{
  "nbformat": 4,
  "nbformat_minor": 0,
  "metadata": {
    "colab": {
      "name": "revised_NN_HW0324.ipynb",
      "provenance": [],
      "collapsed_sections": []
    },
    "kernelspec": {
      "name": "python3",
      "display_name": "Python 3"
    }
  },
  "cells": [
    {
      "cell_type": "code",
      "metadata": {
        "id": "z9hITebxKcRs",
        "colab_type": "code",
        "colab": {}
      },
      "source": [
        "%tensorflow_version 2.x"
      ],
      "execution_count": 0,
      "outputs": []
    },
    {
      "cell_type": "code",
      "metadata": {
        "id": "BNAWdFRJ77QK",
        "colab_type": "code",
        "colab": {}
      },
      "source": [
        "%matplotlib inline\n",
        "\n",
        "import numpy as np \n",
        "import matplotlib.pyplot as plt\n",
        "import tensorflow as tf"
      ],
      "execution_count": 0,
      "outputs": []
    },
    {
      "cell_type": "markdown",
      "metadata": {
        "id": "ptDNEBBJKl3O",
        "colab_type": "text"
      },
      "source": [
        "# **1. 讀入 Fashion MNSIT 數據集**"
      ]
    },
    {
      "cell_type": "code",
      "metadata": {
        "id": "43rFXni478bb",
        "colab_type": "code",
        "colab": {}
      },
      "source": [
        "from tensorflow.keras.datasets import fashion_mnist"
      ],
      "execution_count": 0,
      "outputs": []
    },
    {
      "cell_type": "code",
      "metadata": {
        "id": "57neGq1278e9",
        "colab_type": "code",
        "colab": {}
      },
      "source": [
        "(x_train, y_train), (x_test, y_test) = fashion_mnist.load_data()"
      ],
      "execution_count": 0,
      "outputs": []
    },
    {
      "cell_type": "markdown",
      "metadata": {
        "id": "01EcgPktKqlw",
        "colab_type": "text"
      },
      "source": [
        "#**2. 欣賞數據集內容**"
      ]
    },
    {
      "cell_type": "code",
      "metadata": {
        "id": "ae4RM2Ro78Y7",
        "colab_type": "code",
        "colab": {}
      },
      "source": [
        "class_names = ['T-shirt/top', 'Trouser', 'Pullover', 'Dress', 'Coat',\n",
        "               'Sandal', 'Shirt', 'Sneaker', 'Bag', 'Ankle boot']"
      ],
      "execution_count": 0,
      "outputs": []
    },
    {
      "cell_type": "code",
      "metadata": {
        "id": "wYJEsLyF78W9",
        "colab_type": "code",
        "outputId": "4ce3c8f1-3ab6-42e4-ee5e-101fe93e5d80",
        "colab": {
          "base_uri": "https://localhost:8080/",
          "height": 283
        }
      },
      "source": [
        "n = 1235\n",
        "print('這是', class_names[y_train[n]])\n",
        "plt.imshow(x_train[n], cmap='Greys');"
      ],
      "execution_count": 96,
      "outputs": [
        {
          "output_type": "stream",
          "text": [
            "這是 Sandal\n"
          ],
          "name": "stdout"
        },
        {
          "output_type": "display_data",
          "data": {
            "image/png": "[encoded data removed]",
            "text/plain": [
              "<Figure size 432x288 with 1 Axes>"
            ]
          },
          "metadata": {
            "tags": []
          }
        }
      ]
    },
    {
      "cell_type": "code",
      "metadata": {
        "id": "1tcr8d8c78U_",
        "colab_type": "code",
        "outputId": "d445957e-83c9-4e90-8709-c6f1e9613673",
        "colab": {
          "base_uri": "https://localhost:8080/",
          "height": 106
        }
      },
      "source": [
        "pick = np.random.choice(60000, 5, replace=False)\n",
        "\n",
        "for i in range(5):\n",
        "    n = pick[i]\n",
        "    ax = plt.subplot(151+i)\n",
        "    ax.set_xticks([])\n",
        "    ax.set_yticks([])\n",
        "    ax.set_title(class_names[y_train[n]], fontsize=10)\n",
        "    plt.imshow(x_train[n], cmap='Greys')  "
      ],
      "execution_count": 97,
      "outputs": [
        {
          "output_type": "display_data",
          "data": {
            "image/png": "[encoded data removed]",
            "text/plain": [
              "<Figure size 432x288 with 5 Axes>"
            ]
          },
          "metadata": {
            "tags": []
          }
        }
      ]
    },
    {
      "cell_type": "code",
      "metadata": {
        "id": "WJ6PLqLr78Sd",
        "colab_type": "code",
        "colab": {}
      },
      "source": [
        "x_train = x_train/255\n",
        "x_test = x_test/255"
      ],
      "execution_count": 0,
      "outputs": []
    },
    {
      "cell_type": "code",
      "metadata": {
        "id": "V_Jm-RkI78Pi",
        "colab_type": "code",
        "outputId": "f02156f5-2a65-4a67-db71-dd0e1b69a3a9",
        "colab": {
          "base_uri": "https://localhost:8080/",
          "height": 35
        }
      },
      "source": [
        "x_train.shape"
      ],
      "execution_count": 99,
      "outputs": [
        {
          "output_type": "execute_result",
          "data": {
            "text/plain": [
              "(60000, 28, 28)"
            ]
          },
          "metadata": {
            "tags": []
          },
          "execution_count": 99
        }
      ]
    },
    {
      "cell_type": "code",
      "metadata": {
        "id": "-4x2scljv3-Q",
        "colab_type": "code",
        "outputId": "7e3d7813-11da-44f0-fce3-8c9505cdb86d",
        "colab": {
          "base_uri": "https://localhost:8080/",
          "height": 35
        }
      },
      "source": [
        "x_test.shape"
      ],
      "execution_count": 100,
      "outputs": [
        {
          "output_type": "execute_result",
          "data": {
            "text/plain": [
              "(10000, 28, 28)"
            ]
          },
          "metadata": {
            "tags": []
          },
          "execution_count": 100
        }
      ]
    },
    {
      "cell_type": "code",
      "metadata": {
        "id": "YZ9N47OQv4Aj",
        "colab_type": "code",
        "colab": {}
      },
      "source": [
        "x_train = x_train.reshape(60000,784)/255"
      ],
      "execution_count": 0,
      "outputs": []
    },
    {
      "cell_type": "code",
      "metadata": {
        "id": "BEWsYdaJv38F",
        "colab_type": "code",
        "colab": {}
      },
      "source": [
        "x_test = x_test.reshape(10000,784)/255"
      ],
      "execution_count": 0,
      "outputs": []
    },
    {
      "cell_type": "code",
      "metadata": {
        "id": "h9vGrrW2v331",
        "colab_type": "code",
        "colab": {}
      },
      "source": [
        "from tensorflow.keras.utils import to_categorical "
      ],
      "execution_count": 0,
      "outputs": []
    },
    {
      "cell_type": "code",
      "metadata": {
        "id": "Xpr0-Lq1wDxU",
        "colab_type": "code",
        "colab": {}
      },
      "source": [
        "y_train = to_categorical(y_train, 10)"
      ],
      "execution_count": 0,
      "outputs": []
    },
    {
      "cell_type": "code",
      "metadata": {
        "id": "23P47hZgwEAF",
        "colab_type": "code",
        "colab": {}
      },
      "source": [
        "y_test = to_categorical(y_test, 10)"
      ],
      "execution_count": 0,
      "outputs": []
    },
    {
      "cell_type": "markdown",
      "metadata": {
        "id": "rZvJYK9lK-mF",
        "colab_type": "text"
      },
      "source": [
        "#**3. 打造神經網路**"
      ]
    },
    {
      "cell_type": "code",
      "metadata": {
        "id": "YbafZvpzwLwa",
        "colab_type": "code",
        "colab": {}
      },
      "source": [
        "from tensorflow.keras.models import Sequential\n",
        "from tensorflow.keras.layers import Dense\n",
        "from tensorflow.keras.optimizers import SGD"
      ],
      "execution_count": 0,
      "outputs": []
    },
    {
      "cell_type": "markdown",
      "metadata": {
        "id": "rA3ARaVaP3Wr",
        "colab_type": "text"
      },
      "source": [
        "####更改神經元數量及learning rate"
      ]
    },
    {
      "cell_type": "code",
      "metadata": {
        "id": "uXNctH8wwL8m",
        "colab_type": "code",
        "colab": {}
      },
      "source": [
        "model = Sequential()\n",
        "model.add(Dense(780, input_dim=784, activation='relu'))\n",
        "model.add(Dense(78, activation='relu'))\n",
        "model.add(Dense(10, activation='softmax'))"
      ],
      "execution_count": 0,
      "outputs": []
    },
    {
      "cell_type": "code",
      "metadata": {
        "id": "lp1ifJoOwMDb",
        "colab_type": "code",
        "colab": {}
      },
      "source": [
        "model.compile(loss='mse',optimizer=SGD(lr=0.009), metrics=['accuracy'])"
      ],
      "execution_count": 0,
      "outputs": []
    },
    {
      "cell_type": "code",
      "metadata": {
        "id": "ANU1p4xwwMLD",
        "colab_type": "code",
        "outputId": "b4aa29d1-1f26-4baf-d91d-ea80fdb607e6",
        "colab": {
          "base_uri": "https://localhost:8080/",
          "height": 260
        }
      },
      "source": [
        "model.summary()"
      ],
      "execution_count": 109,
      "outputs": [
        {
          "output_type": "stream",
          "text": [
            "Model: \"sequential_6\"\n",
            "_________________________________________________________________\n",
            "Layer (type)                 Output Shape              Param #   \n",
            "=================================================================\n",
            "dense_20 (Dense)             (None, 780)               612300    \n",
            "_________________________________________________________________\n",
            "dense_21 (Dense)             (None, 78)                60918     \n",
            "_________________________________________________________________\n",
            "dense_22 (Dense)             (None, 10)                790       \n",
            "=================================================================\n",
            "Total params: 674,008\n",
            "Trainable params: 674,008\n",
            "Non-trainable params: 0\n",
            "_________________________________________________________________\n"
          ],
          "name": "stdout"
        }
      ]
    },
    {
      "cell_type": "markdown",
      "metadata": {
        "id": "n0fkrlOrLZwd",
        "colab_type": "text"
      },
      "source": [
        "# **4. 訓練**"
      ]
    },
    {
      "cell_type": "code",
      "metadata": {
        "id": "baba0bD9wZSS",
        "colab_type": "code",
        "outputId": "38af7f3b-e3a2-4a17-de3a-2bef3fb36a6c",
        "colab": {
          "base_uri": "https://localhost:8080/",
          "height": 728
        }
      },
      "source": [
        "model.fit(x_train, y_train, batch_size=200, epochs=20)"
      ],
      "execution_count": 110,
      "outputs": [
        {
          "output_type": "stream",
          "text": [
            "Epoch 1/20\n",
            "300/300 [==============================] - 5s 15ms/step - loss: 0.0900 - accuracy: 0.1881\n",
            "Epoch 2/20\n",
            "300/300 [==============================] - 5s 15ms/step - loss: 0.0900 - accuracy: 0.2082\n",
            "Epoch 3/20\n",
            "300/300 [==============================] - 5s 15ms/step - loss: 0.0900 - accuracy: 0.1678\n",
            "Epoch 4/20\n",
            "300/300 [==============================] - 5s 15ms/step - loss: 0.0900 - accuracy: 0.1652\n",
            "Epoch 5/20\n",
            "300/300 [==============================] - 5s 15ms/step - loss: 0.0900 - accuracy: 0.1835\n",
            "Epoch 6/20\n",
            "300/300 [==============================] - 5s 15ms/step - loss: 0.0900 - accuracy: 0.2125\n",
            "Epoch 7/20\n",
            "300/300 [==============================] - 5s 15ms/step - loss: 0.0900 - accuracy: 0.2425\n",
            "Epoch 8/20\n",
            "300/300 [==============================] - 5s 15ms/step - loss: 0.0900 - accuracy: 0.2578\n",
            "Epoch 9/20\n",
            "300/300 [==============================] - 4s 15ms/step - loss: 0.0900 - accuracy: 0.2718\n",
            "Epoch 10/20\n",
            "300/300 [==============================] - 4s 15ms/step - loss: 0.0899 - accuracy: 0.2769\n",
            "Epoch 11/20\n",
            "300/300 [==============================] - 5s 15ms/step - loss: 0.0899 - accuracy: 0.2842\n",
            "Epoch 12/20\n",
            "300/300 [==============================] - 4s 15ms/step - loss: 0.0899 - accuracy: 0.2860\n",
            "Epoch 13/20\n",
            "300/300 [==============================] - 4s 15ms/step - loss: 0.0899 - accuracy: 0.2910\n",
            "Epoch 14/20\n",
            "300/300 [==============================] - 4s 15ms/step - loss: 0.0899 - accuracy: 0.2991\n",
            "Epoch 15/20\n",
            "300/300 [==============================] - 5s 15ms/step - loss: 0.0899 - accuracy: 0.3018\n",
            "Epoch 16/20\n",
            "300/300 [==============================] - 5s 16ms/step - loss: 0.0899 - accuracy: 0.3106\n",
            "Epoch 17/20\n",
            "300/300 [==============================] - 5s 15ms/step - loss: 0.0899 - accuracy: 0.3156\n",
            "Epoch 18/20\n",
            "300/300 [==============================] - 4s 15ms/step - loss: 0.0899 - accuracy: 0.3128\n",
            "Epoch 19/20\n",
            "300/300 [==============================] - 4s 15ms/step - loss: 0.0899 - accuracy: 0.3158\n",
            "Epoch 20/20\n",
            "300/300 [==============================] - 4s 15ms/step - loss: 0.0899 - accuracy: 0.3232\n"
          ],
          "name": "stdout"
        },
        {
          "output_type": "execute_result",
          "data": {
            "text/plain": [
              "<tensorflow.python.keras.callbacks.History at 0x7f3500b65240>"
            ]
          },
          "metadata": {
            "tags": []
          },
          "execution_count": 110
        }
      ]
    },
    {
      "cell_type": "code",
      "metadata": {
        "id": "Lw95VgvzMqJe",
        "colab_type": "code",
        "colab": {
          "base_uri": "https://localhost:8080/",
          "height": 728
        },
        "outputId": "35ae60d5-a2fe-4cba-c33c-3bd85cb4afb9"
      },
      "source": [
        "model.fit(x_train, y_train, batch_size=200, epochs=20)"
      ],
      "execution_count": 111,
      "outputs": [
        {
          "output_type": "stream",
          "text": [
            "Epoch 1/20\n",
            "300/300 [==============================] - 4s 15ms/step - loss: 0.0899 - accuracy: 0.3210\n",
            "Epoch 2/20\n",
            "300/300 [==============================] - 4s 15ms/step - loss: 0.0899 - accuracy: 0.3287\n",
            "Epoch 3/20\n",
            "300/300 [==============================] - 4s 15ms/step - loss: 0.0899 - accuracy: 0.3338\n",
            "Epoch 4/20\n",
            "300/300 [==============================] - 5s 15ms/step - loss: 0.0899 - accuracy: 0.3417\n",
            "Epoch 5/20\n",
            "300/300 [==============================] - 5s 15ms/step - loss: 0.0899 - accuracy: 0.3347\n",
            "Epoch 6/20\n",
            "300/300 [==============================] - 5s 15ms/step - loss: 0.0899 - accuracy: 0.3390\n",
            "Epoch 7/20\n",
            "300/300 [==============================] - 4s 15ms/step - loss: 0.0899 - accuracy: 0.3361\n",
            "Epoch 8/20\n",
            "300/300 [==============================] - 5s 15ms/step - loss: 0.0899 - accuracy: 0.3417\n",
            "Epoch 9/20\n",
            "300/300 [==============================] - 4s 15ms/step - loss: 0.0899 - accuracy: 0.3432\n",
            "Epoch 10/20\n",
            "300/300 [==============================] - 5s 15ms/step - loss: 0.0899 - accuracy: 0.3421\n",
            "Epoch 11/20\n",
            "300/300 [==============================] - 5s 15ms/step - loss: 0.0899 - accuracy: 0.3440\n",
            "Epoch 12/20\n",
            "300/300 [==============================] - 4s 15ms/step - loss: 0.0899 - accuracy: 0.3437\n",
            "Epoch 13/20\n",
            "300/300 [==============================] - 5s 15ms/step - loss: 0.0899 - accuracy: 0.3471\n",
            "Epoch 14/20\n",
            "300/300 [==============================] - 4s 15ms/step - loss: 0.0899 - accuracy: 0.3484\n",
            "Epoch 15/20\n",
            "300/300 [==============================] - 4s 15ms/step - loss: 0.0899 - accuracy: 0.3535\n",
            "Epoch 16/20\n",
            "300/300 [==============================] - 4s 15ms/step - loss: 0.0899 - accuracy: 0.3496\n",
            "Epoch 17/20\n",
            "300/300 [==============================] - 5s 15ms/step - loss: 0.0899 - accuracy: 0.3573\n",
            "Epoch 18/20\n",
            "300/300 [==============================] - 5s 15ms/step - loss: 0.0899 - accuracy: 0.3541\n",
            "Epoch 19/20\n",
            "300/300 [==============================] - 5s 15ms/step - loss: 0.0899 - accuracy: 0.3539\n",
            "Epoch 20/20\n",
            "300/300 [==============================] - 5s 15ms/step - loss: 0.0899 - accuracy: 0.3591\n"
          ],
          "name": "stdout"
        },
        {
          "output_type": "execute_result",
          "data": {
            "text/plain": [
              "<tensorflow.python.keras.callbacks.History at 0x7f34f3a90860>"
            ]
          },
          "metadata": {
            "tags": []
          },
          "execution_count": 111
        }
      ]
    },
    {
      "cell_type": "markdown",
      "metadata": {
        "id": "4cORtUmlT173",
        "colab_type": "text"
      },
      "source": [
        "#####增加訓練次數"
      ]
    },
    {
      "cell_type": "code",
      "metadata": {
        "id": "4L3qYY-SS081",
        "colab_type": "code",
        "colab": {
          "base_uri": "https://localhost:8080/",
          "height": 1000
        },
        "outputId": "57e4f950-175b-4561-c384-151ea8026921"
      },
      "source": [
        "model.fit(x_train, y_train, batch_size=200, epochs=50)"
      ],
      "execution_count": 112,
      "outputs": [
        {
          "output_type": "stream",
          "text": [
            "Epoch 1/50\n",
            "300/300 [==============================] - 5s 15ms/step - loss: 0.0899 - accuracy: 0.3562\n",
            "Epoch 2/50\n",
            "300/300 [==============================] - 4s 15ms/step - loss: 0.0899 - accuracy: 0.3623\n",
            "Epoch 3/50\n",
            "300/300 [==============================] - 5s 15ms/step - loss: 0.0899 - accuracy: 0.3641\n",
            "Epoch 4/50\n",
            "300/300 [==============================] - 5s 15ms/step - loss: 0.0899 - accuracy: 0.3644\n",
            "Epoch 5/50\n",
            "300/300 [==============================] - 5s 15ms/step - loss: 0.0899 - accuracy: 0.3648\n",
            "Epoch 6/50\n",
            "300/300 [==============================] - 5s 15ms/step - loss: 0.0899 - accuracy: 0.3670\n",
            "Epoch 7/50\n",
            "300/300 [==============================] - 5s 15ms/step - loss: 0.0899 - accuracy: 0.3686\n",
            "Epoch 8/50\n",
            "300/300 [==============================] - 5s 15ms/step - loss: 0.0899 - accuracy: 0.3711\n",
            "Epoch 9/50\n",
            "300/300 [==============================] - 5s 15ms/step - loss: 0.0899 - accuracy: 0.3757\n",
            "Epoch 10/50\n",
            "300/300 [==============================] - 5s 15ms/step - loss: 0.0899 - accuracy: 0.3787\n",
            "Epoch 11/50\n",
            "300/300 [==============================] - 5s 15ms/step - loss: 0.0899 - accuracy: 0.3780\n",
            "Epoch 12/50\n",
            "300/300 [==============================] - 5s 15ms/step - loss: 0.0899 - accuracy: 0.3798\n",
            "Epoch 13/50\n",
            "300/300 [==============================] - 5s 15ms/step - loss: 0.0899 - accuracy: 0.3790\n",
            "Epoch 14/50\n",
            "300/300 [==============================] - 4s 15ms/step - loss: 0.0899 - accuracy: 0.3810\n",
            "Epoch 15/50\n",
            "300/300 [==============================] - 4s 15ms/step - loss: 0.0899 - accuracy: 0.3847\n",
            "Epoch 16/50\n",
            "300/300 [==============================] - 4s 15ms/step - loss: 0.0899 - accuracy: 0.3835\n",
            "Epoch 17/50\n",
            "300/300 [==============================] - 4s 15ms/step - loss: 0.0899 - accuracy: 0.3877\n",
            "Epoch 18/50\n",
            "300/300 [==============================] - 4s 15ms/step - loss: 0.0899 - accuracy: 0.3900\n",
            "Epoch 19/50\n",
            "300/300 [==============================] - 5s 15ms/step - loss: 0.0899 - accuracy: 0.3886\n",
            "Epoch 20/50\n",
            "300/300 [==============================] - 5s 15ms/step - loss: 0.0899 - accuracy: 0.3912\n",
            "Epoch 21/50\n",
            "300/300 [==============================] - 5s 15ms/step - loss: 0.0899 - accuracy: 0.3891\n",
            "Epoch 22/50\n",
            "300/300 [==============================] - 4s 15ms/step - loss: 0.0899 - accuracy: 0.3915\n",
            "Epoch 23/50\n",
            "300/300 [==============================] - 4s 15ms/step - loss: 0.0899 - accuracy: 0.3923\n",
            "Epoch 24/50\n",
            "300/300 [==============================] - 5s 15ms/step - loss: 0.0899 - accuracy: 0.3904\n",
            "Epoch 25/50\n",
            "300/300 [==============================] - 5s 15ms/step - loss: 0.0899 - accuracy: 0.3952\n",
            "Epoch 26/50\n",
            "300/300 [==============================] - 5s 15ms/step - loss: 0.0899 - accuracy: 0.3955\n",
            "Epoch 27/50\n",
            "300/300 [==============================] - 5s 15ms/step - loss: 0.0899 - accuracy: 0.3948\n",
            "Epoch 28/50\n",
            "300/300 [==============================] - 5s 15ms/step - loss: 0.0899 - accuracy: 0.3972\n",
            "Epoch 29/50\n",
            "300/300 [==============================] - 5s 15ms/step - loss: 0.0899 - accuracy: 0.3973\n",
            "Epoch 30/50\n",
            "300/300 [==============================] - 5s 15ms/step - loss: 0.0899 - accuracy: 0.3977\n",
            "Epoch 31/50\n",
            "300/300 [==============================] - 4s 15ms/step - loss: 0.0899 - accuracy: 0.3984\n",
            "Epoch 32/50\n",
            "300/300 [==============================] - 5s 15ms/step - loss: 0.0899 - accuracy: 0.4001\n",
            "Epoch 33/50\n",
            "300/300 [==============================] - 5s 15ms/step - loss: 0.0899 - accuracy: 0.4004\n",
            "Epoch 34/50\n",
            "300/300 [==============================] - 4s 15ms/step - loss: 0.0899 - accuracy: 0.4016\n",
            "Epoch 35/50\n",
            "300/300 [==============================] - 4s 15ms/step - loss: 0.0899 - accuracy: 0.4024\n",
            "Epoch 36/50\n",
            "300/300 [==============================] - 4s 15ms/step - loss: 0.0899 - accuracy: 0.4002\n",
            "Epoch 37/50\n",
            "300/300 [==============================] - 4s 15ms/step - loss: 0.0899 - accuracy: 0.4070\n",
            "Epoch 38/50\n",
            "300/300 [==============================] - 5s 15ms/step - loss: 0.0899 - accuracy: 0.4029\n",
            "Epoch 39/50\n",
            "300/300 [==============================] - 5s 18ms/step - loss: 0.0899 - accuracy: 0.4013\n",
            "Epoch 40/50\n",
            "300/300 [==============================] - 5s 16ms/step - loss: 0.0899 - accuracy: 0.4043\n",
            "Epoch 41/50\n",
            "300/300 [==============================] - 5s 16ms/step - loss: 0.0899 - accuracy: 0.4059\n",
            "Epoch 42/50\n",
            "300/300 [==============================] - 5s 16ms/step - loss: 0.0899 - accuracy: 0.4039\n",
            "Epoch 43/50\n",
            "300/300 [==============================] - 5s 16ms/step - loss: 0.0899 - accuracy: 0.4057\n",
            "Epoch 44/50\n",
            "300/300 [==============================] - 5s 16ms/step - loss: 0.0899 - accuracy: 0.4067\n",
            "Epoch 45/50\n",
            "300/300 [==============================] - 5s 16ms/step - loss: 0.0899 - accuracy: 0.4060\n",
            "Epoch 46/50\n",
            "300/300 [==============================] - 5s 15ms/step - loss: 0.0899 - accuracy: 0.4066\n",
            "Epoch 47/50\n",
            "300/300 [==============================] - 5s 16ms/step - loss: 0.0899 - accuracy: 0.4049\n",
            "Epoch 48/50\n",
            "300/300 [==============================] - 5s 15ms/step - loss: 0.0899 - accuracy: 0.4092\n",
            "Epoch 49/50\n",
            "300/300 [==============================] - 5s 16ms/step - loss: 0.0899 - accuracy: 0.4100\n",
            "Epoch 50/50\n",
            "300/300 [==============================] - 5s 15ms/step - loss: 0.0899 - accuracy: 0.4112\n"
          ],
          "name": "stdout"
        },
        {
          "output_type": "execute_result",
          "data": {
            "text/plain": [
              "<tensorflow.python.keras.callbacks.History at 0x7f3501c76630>"
            ]
          },
          "metadata": {
            "tags": []
          },
          "execution_count": 112
        }
      ]
    },
    {
      "cell_type": "markdown",
      "metadata": {
        "id": "p2Z8DCrSQY5t",
        "colab_type": "text"
      },
      "source": [
        "#### 訓練後的準確率有上升但仍不太高，嘗試調整learning rate"
      ]
    },
    {
      "cell_type": "code",
      "metadata": {
        "id": "pkdFl89JPJJc",
        "colab_type": "code",
        "colab": {}
      },
      "source": [
        "model.compile(loss='mse',optimizer=SGD(lr=0.09), metrics=['accuracy'])"
      ],
      "execution_count": 0,
      "outputs": []
    },
    {
      "cell_type": "code",
      "metadata": {
        "id": "f8WcU4PWPJR_",
        "colab_type": "code",
        "colab": {
          "base_uri": "https://localhost:8080/",
          "height": 728
        },
        "outputId": "7e9ec087-44d3-4bf4-a702-873ab3798c8d"
      },
      "source": [
        "model.fit(x_train, y_train, batch_size=200, epochs=20)"
      ],
      "execution_count": 114,
      "outputs": [
        {
          "output_type": "stream",
          "text": [
            "Epoch 1/20\n",
            "300/300 [==============================] - 5s 15ms/step - loss: 0.0899 - accuracy: 0.4022\n",
            "Epoch 2/20\n",
            "300/300 [==============================] - 5s 15ms/step - loss: 0.0899 - accuracy: 0.4063\n",
            "Epoch 3/20\n",
            "300/300 [==============================] - 5s 15ms/step - loss: 0.0899 - accuracy: 0.4211\n",
            "Epoch 4/20\n",
            "300/300 [==============================] - 5s 16ms/step - loss: 0.0899 - accuracy: 0.4243\n",
            "Epoch 5/20\n",
            "300/300 [==============================] - 5s 16ms/step - loss: 0.0899 - accuracy: 0.3768\n",
            "Epoch 6/20\n",
            "300/300 [==============================] - 5s 16ms/step - loss: 0.0899 - accuracy: 0.4214\n",
            "Epoch 7/20\n",
            "300/300 [==============================] - 5s 16ms/step - loss: 0.0899 - accuracy: 0.4439\n",
            "Epoch 8/20\n",
            "300/300 [==============================] - 5s 16ms/step - loss: 0.0899 - accuracy: 0.4247\n",
            "Epoch 9/20\n",
            "300/300 [==============================] - 5s 15ms/step - loss: 0.0899 - accuracy: 0.3815\n",
            "Epoch 10/20\n",
            "300/300 [==============================] - 5s 15ms/step - loss: 0.0899 - accuracy: 0.4178\n",
            "Epoch 11/20\n",
            "300/300 [==============================] - 5s 15ms/step - loss: 0.0899 - accuracy: 0.4015\n",
            "Epoch 12/20\n",
            "300/300 [==============================] - 5s 15ms/step - loss: 0.0899 - accuracy: 0.3854\n",
            "Epoch 13/20\n",
            "300/300 [==============================] - 5s 15ms/step - loss: 0.0899 - accuracy: 0.3611\n",
            "Epoch 14/20\n",
            "300/300 [==============================] - 5s 15ms/step - loss: 0.0899 - accuracy: 0.4325\n",
            "Epoch 15/20\n",
            "300/300 [==============================] - 5s 15ms/step - loss: 0.0899 - accuracy: 0.4491\n",
            "Epoch 16/20\n",
            "300/300 [==============================] - 5s 15ms/step - loss: 0.0899 - accuracy: 0.4207\n",
            "Epoch 17/20\n",
            "300/300 [==============================] - 5s 15ms/step - loss: 0.0899 - accuracy: 0.4237\n",
            "Epoch 18/20\n",
            "300/300 [==============================] - 5s 15ms/step - loss: 0.0899 - accuracy: 0.4438\n",
            "Epoch 19/20\n",
            "300/300 [==============================] - 5s 15ms/step - loss: 0.0899 - accuracy: 0.4378\n",
            "Epoch 20/20\n",
            "300/300 [==============================] - 5s 15ms/step - loss: 0.0899 - accuracy: 0.4231\n"
          ],
          "name": "stdout"
        },
        {
          "output_type": "execute_result",
          "data": {
            "text/plain": [
              "<tensorflow.python.keras.callbacks.History at 0x7f350078c5f8>"
            ]
          },
          "metadata": {
            "tags": []
          },
          "execution_count": 114
        }
      ]
    },
    {
      "cell_type": "code",
      "metadata": {
        "id": "2Ct_adK5PJOU",
        "colab_type": "code",
        "colab": {
          "base_uri": "https://localhost:8080/",
          "height": 728
        },
        "outputId": "50b9b450-c9a0-463a-f7c0-33b7ee52620e"
      },
      "source": [
        "model.fit(x_train, y_train, batch_size=200, epochs=20)"
      ],
      "execution_count": 115,
      "outputs": [
        {
          "output_type": "stream",
          "text": [
            "Epoch 1/20\n",
            "300/300 [==============================] - 5s 16ms/step - loss: 0.0899 - accuracy: 0.4582\n",
            "Epoch 2/20\n",
            "300/300 [==============================] - 6s 20ms/step - loss: 0.0899 - accuracy: 0.4107\n",
            "Epoch 3/20\n",
            "300/300 [==============================] - 5s 16ms/step - loss: 0.0899 - accuracy: 0.4249\n",
            "Epoch 4/20\n",
            "300/300 [==============================] - 5s 16ms/step - loss: 0.0899 - accuracy: 0.4268\n",
            "Epoch 5/20\n",
            "300/300 [==============================] - 5s 16ms/step - loss: 0.0899 - accuracy: 0.4165\n",
            "Epoch 6/20\n",
            "300/300 [==============================] - 5s 16ms/step - loss: 0.0899 - accuracy: 0.4355\n",
            "Epoch 7/20\n",
            "300/300 [==============================] - 5s 16ms/step - loss: 0.0899 - accuracy: 0.4155\n",
            "Epoch 8/20\n",
            "300/300 [==============================] - 5s 15ms/step - loss: 0.0899 - accuracy: 0.4554\n",
            "Epoch 9/20\n",
            "300/300 [==============================] - 5s 15ms/step - loss: 0.0899 - accuracy: 0.4194\n",
            "Epoch 10/20\n",
            "300/300 [==============================] - 5s 16ms/step - loss: 0.0899 - accuracy: 0.4338\n",
            "Epoch 11/20\n",
            "300/300 [==============================] - 5s 16ms/step - loss: 0.0899 - accuracy: 0.4109\n",
            "Epoch 12/20\n",
            "300/300 [==============================] - 5s 16ms/step - loss: 0.0899 - accuracy: 0.4547\n",
            "Epoch 13/20\n",
            "300/300 [==============================] - 5s 16ms/step - loss: 0.0899 - accuracy: 0.4471\n",
            "Epoch 14/20\n",
            "300/300 [==============================] - 5s 15ms/step - loss: 0.0899 - accuracy: 0.4489\n",
            "Epoch 15/20\n",
            "300/300 [==============================] - 5s 16ms/step - loss: 0.0899 - accuracy: 0.4184\n",
            "Epoch 16/20\n",
            "300/300 [==============================] - 5s 16ms/step - loss: 0.0899 - accuracy: 0.4300\n",
            "Epoch 17/20\n",
            "300/300 [==============================] - 5s 17ms/step - loss: 0.0899 - accuracy: 0.4650\n",
            "Epoch 18/20\n",
            "300/300 [==============================] - 5s 16ms/step - loss: 0.0899 - accuracy: 0.4184\n",
            "Epoch 19/20\n",
            "300/300 [==============================] - 5s 15ms/step - loss: 0.0899 - accuracy: 0.4481\n",
            "Epoch 20/20\n",
            "300/300 [==============================] - 5s 16ms/step - loss: 0.0899 - accuracy: 0.4535\n"
          ],
          "name": "stdout"
        },
        {
          "output_type": "execute_result",
          "data": {
            "text/plain": [
              "<tensorflow.python.keras.callbacks.History at 0x7f34f2947b00>"
            ]
          },
          "metadata": {
            "tags": []
          },
          "execution_count": 115
        }
      ]
    },
    {
      "cell_type": "markdown",
      "metadata": {
        "id": "Iz9dQ4i6mPZf",
        "colab_type": "text"
      },
      "source": [
        "#### 訓練後的準確率仍然不高"
      ]
    },
    {
      "cell_type": "markdown",
      "metadata": {
        "id": "qL3lywRFdYHw",
        "colab_type": "text"
      },
      "source": [
        "## **Model 訓練結果**"
      ]
    },
    {
      "cell_type": "code",
      "metadata": {
        "id": "gWOq7MgAbGIv",
        "colab_type": "code",
        "colab": {}
      },
      "source": [
        "result = model.predict_classes(x_test)"
      ],
      "execution_count": 0,
      "outputs": []
    },
    {
      "cell_type": "code",
      "metadata": {
        "id": "jw8feYlPbINP",
        "colab_type": "code",
        "colab": {
          "base_uri": "https://localhost:8080/",
          "height": 300
        },
        "outputId": "7a6dd87f-406f-4148-e7df-63ea4c10a71b"
      },
      "source": [
        "n = 1496\n",
        "\n",
        "print('神經網路預測是:', class_names[result[n]])\n",
        "plt.imshow(x_test[n].reshape(28,28), cmap='Greys')"
      ],
      "execution_count": 131,
      "outputs": [
        {
          "output_type": "stream",
          "text": [
            "神經網路預測是: Trouser\n"
          ],
          "name": "stdout"
        },
        {
          "output_type": "execute_result",
          "data": {
            "text/plain": [
              "<matplotlib.image.AxesImage at 0x7f3500089cf8>"
            ]
          },
          "metadata": {
            "tags": []
          },
          "execution_count": 131
        },
        {
          "output_type": "display_data",
          "data": {
            "image/png": "[encoded data removed]",
            "text/plain": [
              "<Figure size 432x288 with 1 Axes>"
            ]
          },
          "metadata": {
            "tags": []
          }
        }
      ]
    },
    {
      "cell_type": "code",
      "metadata": {
        "id": "EGXsRJ8ndL6R",
        "colab_type": "code",
        "colab": {
          "base_uri": "https://localhost:8080/",
          "height": 52
        },
        "outputId": "8c59af01-0e69-4bfd-ca8f-a28600aefc30"
      },
      "source": [
        "model.evaluate(x_test,y_test)"
      ],
      "execution_count": 118,
      "outputs": [
        {
          "output_type": "stream",
          "text": [
            "313/313 [==============================] - 1s 3ms/step - loss: 0.0899 - accuracy: 0.4468\n"
          ],
          "name": "stdout"
        },
        {
          "output_type": "execute_result",
          "data": {
            "text/plain": [
              "[0.08987486362457275, 0.44679999351501465]"
            ]
          },
          "metadata": {
            "tags": []
          },
          "execution_count": 118
        }
      ]
    },
    {
      "cell_type": "markdown",
      "metadata": {
        "id": "-oZkM2h7dQ5f",
        "colab_type": "text"
      },
      "source": [
        "#### 預測正確率僅有0.4468，從圖片看得出預測結果錯誤。>.<"
      ]
    },
    {
      "cell_type": "markdown",
      "metadata": {
        "id": "HLn_2R6Mfh_R",
        "colab_type": "text"
      },
      "source": [
        "#Model2 多加一層，並修改各層神經元數量"
      ]
    },
    {
      "cell_type": "code",
      "metadata": {
        "id": "JFKOeXppPvco",
        "colab_type": "code",
        "colab": {
          "base_uri": "https://localhost:8080/",
          "height": 295
        },
        "outputId": "ebb30ace-733a-4ff3-e9bc-23afb0a64933"
      },
      "source": [
        "model2 = Sequential()\n",
        "model2.add(Dense(350, input_dim=784, activation='relu'))\n",
        "model2.add(Dense(250, activation='relu'))\n",
        "model2.add(Dense(150, activation='relu'))\n",
        "model2.add(Dense(10, activation='softmax'))\n",
        "model2.summary()"
      ],
      "execution_count": 119,
      "outputs": [
        {
          "output_type": "stream",
          "text": [
            "Model: \"sequential_7\"\n",
            "_________________________________________________________________\n",
            "Layer (type)                 Output Shape              Param #   \n",
            "=================================================================\n",
            "dense_23 (Dense)             (None, 350)               274750    \n",
            "_________________________________________________________________\n",
            "dense_24 (Dense)             (None, 250)               87750     \n",
            "_________________________________________________________________\n",
            "dense_25 (Dense)             (None, 150)               37650     \n",
            "_________________________________________________________________\n",
            "dense_26 (Dense)             (None, 10)                1510      \n",
            "=================================================================\n",
            "Total params: 401,660\n",
            "Trainable params: 401,660\n",
            "Non-trainable params: 0\n",
            "_________________________________________________________________\n"
          ],
          "name": "stdout"
        }
      ]
    },
    {
      "cell_type": "code",
      "metadata": {
        "id": "WrKuHjAhW33Q",
        "colab_type": "code",
        "colab": {}
      },
      "source": [
        "model2.compile(loss='mse',optimizer=SGD(lr=0.09), metrics=['accuracy'])"
      ],
      "execution_count": 0,
      "outputs": []
    },
    {
      "cell_type": "code",
      "metadata": {
        "id": "SxtfPDmIW39D",
        "colab_type": "code",
        "colab": {
          "base_uri": "https://localhost:8080/",
          "height": 728
        },
        "outputId": "3d404649-504f-46ed-debc-e4c5b8890395"
      },
      "source": [
        "model2.fit(x_train, y_train, batch_size=200, epochs=20)"
      ],
      "execution_count": 121,
      "outputs": [
        {
          "output_type": "stream",
          "text": [
            "Epoch 1/20\n",
            "300/300 [==============================] - 4s 12ms/step - loss: 0.0900 - accuracy: 0.3361\n",
            "Epoch 2/20\n",
            "300/300 [==============================] - 4s 12ms/step - loss: 0.0899 - accuracy: 0.3573\n",
            "Epoch 3/20\n",
            "300/300 [==============================] - 4s 12ms/step - loss: 0.0899 - accuracy: 0.3528\n",
            "Epoch 4/20\n",
            "300/300 [==============================] - 4s 12ms/step - loss: 0.0899 - accuracy: 0.3302\n",
            "Epoch 5/20\n",
            "300/300 [==============================] - 4s 12ms/step - loss: 0.0899 - accuracy: 0.3705\n",
            "Epoch 6/20\n",
            "300/300 [==============================] - 4s 12ms/step - loss: 0.0899 - accuracy: 0.3725\n",
            "Epoch 7/20\n",
            "300/300 [==============================] - 4s 12ms/step - loss: 0.0899 - accuracy: 0.3624\n",
            "Epoch 8/20\n",
            "300/300 [==============================] - 4s 12ms/step - loss: 0.0899 - accuracy: 0.3873\n",
            "Epoch 9/20\n",
            "300/300 [==============================] - 4s 12ms/step - loss: 0.0899 - accuracy: 0.3981\n",
            "Epoch 10/20\n",
            "300/300 [==============================] - 3s 11ms/step - loss: 0.0899 - accuracy: 0.3728\n",
            "Epoch 11/20\n",
            "300/300 [==============================] - 3s 12ms/step - loss: 0.0899 - accuracy: 0.3842\n",
            "Epoch 12/20\n",
            "300/300 [==============================] - 3s 12ms/step - loss: 0.0899 - accuracy: 0.3763\n",
            "Epoch 13/20\n",
            "300/300 [==============================] - 4s 12ms/step - loss: 0.0899 - accuracy: 0.3911\n",
            "Epoch 14/20\n",
            "300/300 [==============================] - 4s 12ms/step - loss: 0.0899 - accuracy: 0.3904\n",
            "Epoch 15/20\n",
            "300/300 [==============================] - 4s 12ms/step - loss: 0.0899 - accuracy: 0.3510\n",
            "Epoch 16/20\n",
            "300/300 [==============================] - 3s 12ms/step - loss: 0.0899 - accuracy: 0.3811\n",
            "Epoch 17/20\n",
            "300/300 [==============================] - 4s 12ms/step - loss: 0.0899 - accuracy: 0.3722\n",
            "Epoch 18/20\n",
            "300/300 [==============================] - 4s 12ms/step - loss: 0.0899 - accuracy: 0.4067\n",
            "Epoch 19/20\n",
            "300/300 [==============================] - 3s 12ms/step - loss: 0.0899 - accuracy: 0.4024\n",
            "Epoch 20/20\n",
            "300/300 [==============================] - 4s 12ms/step - loss: 0.0899 - accuracy: 0.3448\n"
          ],
          "name": "stdout"
        },
        {
          "output_type": "execute_result",
          "data": {
            "text/plain": [
              "<tensorflow.python.keras.callbacks.History at 0x7f35003b8978>"
            ]
          },
          "metadata": {
            "tags": []
          },
          "execution_count": 121
        }
      ]
    },
    {
      "cell_type": "code",
      "metadata": {
        "id": "qqpDBMniW4BM",
        "colab_type": "code",
        "colab": {
          "base_uri": "https://localhost:8080/",
          "height": 1000
        },
        "outputId": "93909e20-af3f-426d-8a72-b55c953a9ae3"
      },
      "source": [
        "model2.fit(x_train, y_train, batch_size=200, epochs=40)"
      ],
      "execution_count": 122,
      "outputs": [
        {
          "output_type": "stream",
          "text": [
            "Epoch 1/40\n",
            "300/300 [==============================] - 4s 12ms/step - loss: 0.0899 - accuracy: 0.3658\n",
            "Epoch 2/40\n",
            "300/300 [==============================] - 4s 12ms/step - loss: 0.0899 - accuracy: 0.4134\n",
            "Epoch 3/40\n",
            "300/300 [==============================] - 4s 12ms/step - loss: 0.0899 - accuracy: 0.4036\n",
            "Epoch 4/40\n",
            "300/300 [==============================] - 4s 13ms/step - loss: 0.0899 - accuracy: 0.4030\n",
            "Epoch 5/40\n",
            "300/300 [==============================] - 4s 12ms/step - loss: 0.0899 - accuracy: 0.3798\n",
            "Epoch 6/40\n",
            "300/300 [==============================] - 4s 12ms/step - loss: 0.0899 - accuracy: 0.4098\n",
            "Epoch 7/40\n",
            "300/300 [==============================] - 4s 12ms/step - loss: 0.0899 - accuracy: 0.4257\n",
            "Epoch 8/40\n",
            "300/300 [==============================] - 4s 12ms/step - loss: 0.0899 - accuracy: 0.3767\n",
            "Epoch 9/40\n",
            "300/300 [==============================] - 4s 12ms/step - loss: 0.0899 - accuracy: 0.3649\n",
            "Epoch 10/40\n",
            "300/300 [==============================] - 4s 12ms/step - loss: 0.0899 - accuracy: 0.4052\n",
            "Epoch 11/40\n",
            "300/300 [==============================] - 4s 12ms/step - loss: 0.0899 - accuracy: 0.3793\n",
            "Epoch 12/40\n",
            "300/300 [==============================] - 4s 12ms/step - loss: 0.0899 - accuracy: 0.3824\n",
            "Epoch 13/40\n",
            "300/300 [==============================] - 4s 12ms/step - loss: 0.0899 - accuracy: 0.4146\n",
            "Epoch 14/40\n",
            "300/300 [==============================] - 4s 12ms/step - loss: 0.0899 - accuracy: 0.3802\n",
            "Epoch 15/40\n",
            "300/300 [==============================] - 4s 12ms/step - loss: 0.0899 - accuracy: 0.4107\n",
            "Epoch 16/40\n",
            "300/300 [==============================] - 4s 12ms/step - loss: 0.0899 - accuracy: 0.3386\n",
            "Epoch 17/40\n",
            "300/300 [==============================] - 4s 12ms/step - loss: 0.0899 - accuracy: 0.3844\n",
            "Epoch 18/40\n",
            "300/300 [==============================] - 4s 12ms/step - loss: 0.0899 - accuracy: 0.4218\n",
            "Epoch 19/40\n",
            "300/300 [==============================] - 4s 12ms/step - loss: 0.0899 - accuracy: 0.4084\n",
            "Epoch 20/40\n",
            "300/300 [==============================] - 4s 12ms/step - loss: 0.0899 - accuracy: 0.3869\n",
            "Epoch 21/40\n",
            "300/300 [==============================] - 4s 12ms/step - loss: 0.0899 - accuracy: 0.4067\n",
            "Epoch 22/40\n",
            "300/300 [==============================] - 4s 12ms/step - loss: 0.0899 - accuracy: 0.3839\n",
            "Epoch 23/40\n",
            "300/300 [==============================] - 4s 12ms/step - loss: 0.0899 - accuracy: 0.3860\n",
            "Epoch 24/40\n",
            "300/300 [==============================] - 3s 11ms/step - loss: 0.0899 - accuracy: 0.3884\n",
            "Epoch 25/40\n",
            "300/300 [==============================] - 3s 12ms/step - loss: 0.0899 - accuracy: 0.3755\n",
            "Epoch 26/40\n",
            "300/300 [==============================] - 4s 12ms/step - loss: 0.0899 - accuracy: 0.3701\n",
            "Epoch 27/40\n",
            "300/300 [==============================] - 4s 12ms/step - loss: 0.0899 - accuracy: 0.4035\n",
            "Epoch 28/40\n",
            "300/300 [==============================] - 4s 12ms/step - loss: 0.0899 - accuracy: 0.3950\n",
            "Epoch 29/40\n",
            "300/300 [==============================] - 4s 12ms/step - loss: 0.0899 - accuracy: 0.3661\n",
            "Epoch 30/40\n",
            "300/300 [==============================] - 4s 12ms/step - loss: 0.0899 - accuracy: 0.3952\n",
            "Epoch 31/40\n",
            "300/300 [==============================] - 4s 12ms/step - loss: 0.0899 - accuracy: 0.3805\n",
            "Epoch 32/40\n",
            "300/300 [==============================] - 3s 12ms/step - loss: 0.0899 - accuracy: 0.3862\n",
            "Epoch 33/40\n",
            "300/300 [==============================] - 4s 12ms/step - loss: 0.0899 - accuracy: 0.3770\n",
            "Epoch 34/40\n",
            "300/300 [==============================] - 4s 12ms/step - loss: 0.0899 - accuracy: 0.3702\n",
            "Epoch 35/40\n",
            "300/300 [==============================] - 4s 12ms/step - loss: 0.0899 - accuracy: 0.3754\n",
            "Epoch 36/40\n",
            "300/300 [==============================] - 4s 12ms/step - loss: 0.0899 - accuracy: 0.3950\n",
            "Epoch 37/40\n",
            "300/300 [==============================] - 3s 12ms/step - loss: 0.0899 - accuracy: 0.3786\n",
            "Epoch 38/40\n",
            "300/300 [==============================] - 4s 12ms/step - loss: 0.0899 - accuracy: 0.3643\n",
            "Epoch 39/40\n",
            "300/300 [==============================] - 3s 12ms/step - loss: 0.0899 - accuracy: 0.3475\n",
            "Epoch 40/40\n",
            "300/300 [==============================] - 4s 12ms/step - loss: 0.0899 - accuracy: 0.3997\n"
          ],
          "name": "stdout"
        },
        {
          "output_type": "execute_result",
          "data": {
            "text/plain": [
              "<tensorflow.python.keras.callbacks.History at 0x7f350078c6d8>"
            ]
          },
          "metadata": {
            "tags": []
          },
          "execution_count": 122
        }
      ]
    },
    {
      "cell_type": "markdown",
      "metadata": {
        "id": "6eLuaPY5modI",
        "colab_type": "text"
      },
      "source": [
        "從準確率看的話，Model2的訓練結果比Model來的差"
      ]
    },
    {
      "cell_type": "markdown",
      "metadata": {
        "id": "I5T3BkKBLN_d",
        "colab_type": "text"
      },
      "source": [
        "##  Model2 訓練結果"
      ]
    },
    {
      "cell_type": "code",
      "metadata": {
        "id": "YIioulMawZeE",
        "colab_type": "code",
        "colab": {}
      },
      "source": [
        "result2 = model2.predict_classes(x_test)"
      ],
      "execution_count": 0,
      "outputs": []
    },
    {
      "cell_type": "code",
      "metadata": {
        "id": "rWAi-KsnxrAj",
        "colab_type": "code",
        "outputId": "2fbf39af-96fe-40f7-fb8d-c3bcb9fef201",
        "colab": {
          "base_uri": "https://localhost:8080/",
          "height": 300
        }
      },
      "source": [
        "n = 3452\n",
        "print('神經網路預測是:', class_names[result[n]])\n",
        "plt.imshow(x_test[n].reshape(28,28), cmap='Greys')"
      ],
      "execution_count": 127,
      "outputs": [
        {
          "output_type": "stream",
          "text": [
            "神經網路預測是: Sneaker\n"
          ],
          "name": "stdout"
        },
        {
          "output_type": "execute_result",
          "data": {
            "text/plain": [
              "<matplotlib.image.AxesImage at 0x7f35001a7240>"
            ]
          },
          "metadata": {
            "tags": []
          },
          "execution_count": 127
        },
        {
          "output_type": "display_data",
          "data": {
            "image/png": "[encoded data removed]",
            "text/plain": [
              "<Figure size 432x288 with 1 Axes>"
            ]
          },
          "metadata": {
            "tags": []
          }
        }
      ]
    },
    {
      "cell_type": "code",
      "metadata": {
        "id": "RMOW8e_yy6kA",
        "colab_type": "code",
        "outputId": "4c2b7e39-942b-4ed7-e169-77af879eec98",
        "colab": {
          "base_uri": "https://localhost:8080/",
          "height": 52
        }
      },
      "source": [
        "model2.evaluate(x_test,y_test)"
      ],
      "execution_count": 129,
      "outputs": [
        {
          "output_type": "stream",
          "text": [
            "313/313 [==============================] - 1s 2ms/step - loss: 0.0898 - accuracy: 0.3678\n"
          ],
          "name": "stdout"
        },
        {
          "output_type": "execute_result",
          "data": {
            "text/plain": [
              "[0.08977332711219788, 0.3677999973297119]"
            ]
          },
          "metadata": {
            "tags": []
          },
          "execution_count": 129
        }
      ]
    },
    {
      "cell_type": "markdown",
      "metadata": {
        "id": "13VFq3bXnVdo",
        "colab_type": "text"
      },
      "source": [
        "###準確率只有0.3678，比Model來的低。"
      ]
    }
  ]
}