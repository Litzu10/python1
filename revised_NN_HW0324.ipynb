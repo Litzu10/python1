{
  "nbformat": 4,
  "nbformat_minor": 0,
  "metadata": {
    "colab": {
      "name": "revised_NN_HW0324.ipynb",
      "provenance": [],
      "collapsed_sections": [],
      "authorship_tag": "ABX9TyOnB+Rm9MOdKpB5PoH/A7Od",
      "include_colab_link": true
    },
    "kernelspec": {
      "name": "python3",
      "display_name": "Python 3"
    },
    "accelerator": "TPU"
  },
  "cells": [
    {
      "cell_type": "markdown",
      "metadata": {
        "id": "view-in-github",
        "colab_type": "text"
      },
      "source": [
        "<a href=\"https://colab.research.google.com/github/Litzu10/python1/blob/master/revised_NN_HW0324.ipynb\" target=\"_parent\"><img src=\"https://colab.research.google.com/assets/colab-badge.svg\" alt=\"Open In Colab\"/></a>"
      ]
    },
    {
      "cell_type": "code",
      "metadata": {
        "id": "z9hITebxKcRs",
        "colab_type": "code",
        "colab": {}
      },
      "source": [
        "%tensorflow_version 2.x"
      ],
      "execution_count": 0,
      "outputs": []
    },
    {
      "cell_type": "code",
      "metadata": {
        "id": "BNAWdFRJ77QK",
        "colab_type": "code",
        "colab": {}
      },
      "source": [
        "%matplotlib inline\n",
        "\n",
        "import numpy as np \n",
        "import matplotlib.pyplot as plt\n",
        "import tensorflow as tf"
      ],
      "execution_count": 0,
      "outputs": []
    },
    {
      "cell_type": "markdown",
      "metadata": {
        "id": "ptDNEBBJKl3O",
        "colab_type": "text"
      },
      "source": [
        "# **1. 讀入 Fashion MNSIT 數據集**"
      ]
    },
    {
      "cell_type": "code",
      "metadata": {
        "id": "43rFXni478bb",
        "colab_type": "code",
        "colab": {}
      },
      "source": [
        "from tensorflow.keras.datasets import fashion_mnist"
      ],
      "execution_count": 0,
      "outputs": []
    },
    {
      "cell_type": "code",
      "metadata": {
        "id": "57neGq1278e9",
        "colab_type": "code",
        "outputId": "41fe3a1b-8849-4d23-acec-91930657eba9",
        "colab": {
          "base_uri": "https://localhost:8080/",
          "height": 156
        }
      },
      "source": [
        "(x_train, y_train), (x_test, y_test) = fashion_mnist.load_data()"
      ],
      "execution_count": 6,
      "outputs": [
        {
          "output_type": "stream",
          "text": [
            "Downloading data from https://storage.googleapis.com/tensorflow/tf-keras-datasets/train-labels-idx1-ubyte.gz\n",
            "32768/29515 [=================================] - 0s 0us/step\n",
            "Downloading data from https://storage.googleapis.com/tensorflow/tf-keras-datasets/train-images-idx3-ubyte.gz\n",
            "26427392/26421880 [==============================] - 0s 0us/step\n",
            "Downloading data from https://storage.googleapis.com/tensorflow/tf-keras-datasets/t10k-labels-idx1-ubyte.gz\n",
            "8192/5148 [===============================================] - 0s 0us/step\n",
            "Downloading data from https://storage.googleapis.com/tensorflow/tf-keras-datasets/t10k-images-idx3-ubyte.gz\n",
            "4423680/4422102 [==============================] - 0s 0us/step\n"
          ],
          "name": "stdout"
        }
      ]
    },
    {
      "cell_type": "markdown",
      "metadata": {
        "id": "01EcgPktKqlw",
        "colab_type": "text"
      },
      "source": [
        "#**2. 欣賞數據集內容**"
      ]
    },
    {
      "cell_type": "code",
      "metadata": {
        "id": "ae4RM2Ro78Y7",
        "colab_type": "code",
        "colab": {}
      },
      "source": [
        "class_names = ['T-shirt/top', 'Trouser', 'Pullover', 'Dress', 'Coat',\n",
        "               'Sandal', 'Shirt', 'Sneaker', 'Bag', 'Ankle boot']"
      ],
      "execution_count": 0,
      "outputs": []
    },
    {
      "cell_type": "code",
      "metadata": {
        "id": "wYJEsLyF78W9",
        "colab_type": "code",
        "outputId": "d945c07d-4476-4a73-df8f-12cc6f0c7eb2",
        "colab": {
          "base_uri": "https://localhost:8080/",
          "height": 283
        }
      },
      "source": [
        "n = 1235\n",
        "print('這是', class_names[y_train[n]])\n",
        "plt.imshow(x_train[n], cmap='Greys');"
      ],
      "execution_count": 8,
      "outputs": [
        {
          "output_type": "stream",
          "text": [
            "這是 Sandal\n"
          ],
          "name": "stdout"
        },
        {
          "output_type": "display_data",
          "data": {
            "image/png": "[encoded data removed]",
            "text/plain": [
              "<Figure size 432x288 with 1 Axes>"
            ]
          },
          "metadata": {
            "tags": []
          }
        }
      ]
    },
    {
      "cell_type": "code",
      "metadata": {
        "id": "1tcr8d8c78U_",
        "colab_type": "code",
        "outputId": "1a30709a-355e-4a6f-cbe7-69048d93f86f",
        "colab": {
          "base_uri": "https://localhost:8080/",
          "height": 106
        }
      },
      "source": [
        "pick = np.random.choice(60000, 5, replace=False)\n",
        "\n",
        "for i in range(5):\n",
        "    n = pick[i]\n",
        "    ax = plt.subplot(151+i)\n",
        "    ax.set_xticks([])\n",
        "    ax.set_yticks([])\n",
        "    ax.set_title(class_names[y_train[n]], fontsize=10)\n",
        "    plt.imshow(x_train[n], cmap='Greys')  "
      ],
      "execution_count": 9,
      "outputs": [
        {
          "output_type": "display_data",
          "data": {
            "image/png": "[encoded data removed]",
            "text/plain": [
              "<Figure size 432x288 with 5 Axes>"
            ]
          },
          "metadata": {
            "tags": []
          }
        }
      ]
    },
    {
      "cell_type": "code",
      "metadata": {
        "id": "WJ6PLqLr78Sd",
        "colab_type": "code",
        "colab": {}
      },
      "source": [
        "x_train = x_train/255\n",
        "x_test = x_test/255"
      ],
      "execution_count": 0,
      "outputs": []
    },
    {
      "cell_type": "code",
      "metadata": {
        "id": "V_Jm-RkI78Pi",
        "colab_type": "code",
        "outputId": "a08ef653-d0aa-4889-d15f-a931f6375726",
        "colab": {
          "base_uri": "https://localhost:8080/",
          "height": 35
        }
      },
      "source": [
        "x_train.shape"
      ],
      "execution_count": 11,
      "outputs": [
        {
          "output_type": "execute_result",
          "data": {
            "text/plain": [
              "(60000, 28, 28)"
            ]
          },
          "metadata": {
            "tags": []
          },
          "execution_count": 11
        }
      ]
    },
    {
      "cell_type": "code",
      "metadata": {
        "id": "-4x2scljv3-Q",
        "colab_type": "code",
        "outputId": "137166a6-9aae-429a-be2c-67216c578e76",
        "colab": {
          "base_uri": "https://localhost:8080/",
          "height": 35
        }
      },
      "source": [
        "x_test.shape"
      ],
      "execution_count": 12,
      "outputs": [
        {
          "output_type": "execute_result",
          "data": {
            "text/plain": [
              "(10000, 28, 28)"
            ]
          },
          "metadata": {
            "tags": []
          },
          "execution_count": 12
        }
      ]
    },
    {
      "cell_type": "code",
      "metadata": {
        "id": "YZ9N47OQv4Aj",
        "colab_type": "code",
        "colab": {}
      },
      "source": [
        "x_train = x_train.reshape(60000,784)"
      ],
      "execution_count": 0,
      "outputs": []
    },
    {
      "cell_type": "code",
      "metadata": {
        "id": "BEWsYdaJv38F",
        "colab_type": "code",
        "colab": {}
      },
      "source": [
        "x_test = x_test.reshape(10000,784)"
      ],
      "execution_count": 0,
      "outputs": []
    },
    {
      "cell_type": "code",
      "metadata": {
        "id": "h9vGrrW2v331",
        "colab_type": "code",
        "colab": {}
      },
      "source": [
        "from tensorflow.keras.utils import to_categorical "
      ],
      "execution_count": 0,
      "outputs": []
    },
    {
      "cell_type": "code",
      "metadata": {
        "id": "Xpr0-Lq1wDxU",
        "colab_type": "code",
        "colab": {}
      },
      "source": [
        "y_train = to_categorical(y_train, 10)"
      ],
      "execution_count": 0,
      "outputs": []
    },
    {
      "cell_type": "code",
      "metadata": {
        "id": "23P47hZgwEAF",
        "colab_type": "code",
        "colab": {}
      },
      "source": [
        "y_test = to_categorical(y_test, 10)"
      ],
      "execution_count": 0,
      "outputs": []
    },
    {
      "cell_type": "markdown",
      "metadata": {
        "id": "rZvJYK9lK-mF",
        "colab_type": "text"
      },
      "source": [
        "#**3. 打造神經網路**"
      ]
    },
    {
      "cell_type": "code",
      "metadata": {
        "id": "YbafZvpzwLwa",
        "colab_type": "code",
        "colab": {}
      },
      "source": [
        "from tensorflow.keras.models import Sequential\n",
        "from tensorflow.keras.layers import Dense\n",
        "from tensorflow.keras.optimizers import SGD"
      ],
      "execution_count": 0,
      "outputs": []
    },
    {
      "cell_type": "markdown",
      "metadata": {
        "id": "rA3ARaVaP3Wr",
        "colab_type": "text"
      },
      "source": [
        "####更改神經元數量及learning rate"
      ]
    },
    {
      "cell_type": "code",
      "metadata": {
        "id": "uXNctH8wwL8m",
        "colab_type": "code",
        "colab": {}
      },
      "source": [
        "model = Sequential()\n",
        "model.add(Dense(780, input_dim=784, activation='relu'))\n",
        "model.add(Dense(78, activation='relu'))\n",
        "model.add(Dense(10, activation='softmax'))"
      ],
      "execution_count": 0,
      "outputs": []
    },
    {
      "cell_type": "code",
      "metadata": {
        "id": "lp1ifJoOwMDb",
        "colab_type": "code",
        "colab": {}
      },
      "source": [
        "model.compile(loss='mse',optimizer=SGD(lr=0.009), metrics=['accuracy'])"
      ],
      "execution_count": 0,
      "outputs": []
    },
    {
      "cell_type": "code",
      "metadata": {
        "id": "ANU1p4xwwMLD",
        "colab_type": "code",
        "outputId": "35bf7fbc-6f0b-42a6-f120-1a354376d4d5",
        "colab": {
          "base_uri": "https://localhost:8080/",
          "height": 260
        }
      },
      "source": [
        "model.summary()"
      ],
      "execution_count": 21,
      "outputs": [
        {
          "output_type": "stream",
          "text": [
            "Model: \"sequential\"\n",
            "_________________________________________________________________\n",
            "Layer (type)                 Output Shape              Param #   \n",
            "=================================================================\n",
            "dense (Dense)                (None, 780)               612300    \n",
            "_________________________________________________________________\n",
            "dense_1 (Dense)              (None, 78)                60918     \n",
            "_________________________________________________________________\n",
            "dense_2 (Dense)              (None, 10)                790       \n",
            "=================================================================\n",
            "Total params: 674,008\n",
            "Trainable params: 674,008\n",
            "Non-trainable params: 0\n",
            "_________________________________________________________________\n"
          ],
          "name": "stdout"
        }
      ]
    },
    {
      "cell_type": "markdown",
      "metadata": {
        "id": "n0fkrlOrLZwd",
        "colab_type": "text"
      },
      "source": [
        "# **4. 訓練**"
      ]
    },
    {
      "cell_type": "code",
      "metadata": {
        "id": "baba0bD9wZSS",
        "colab_type": "code",
        "outputId": "3b517ecf-840e-4a96-903b-add2bc73531d",
        "colab": {
          "base_uri": "https://localhost:8080/",
          "height": 728
        }
      },
      "source": [
        "model.fit(x_train, y_train, batch_size=200, epochs=20)"
      ],
      "execution_count": 22,
      "outputs": [
        {
          "output_type": "stream",
          "text": [
            "Epoch 1/20\n",
            "300/300 [==============================] - 5s 15ms/step - loss: 0.0886 - accuracy: 0.1689\n",
            "Epoch 2/20\n",
            "300/300 [==============================] - 5s 15ms/step - loss: 0.0853 - accuracy: 0.3338\n",
            "Epoch 3/20\n",
            "300/300 [==============================] - 5s 15ms/step - loss: 0.0820 - accuracy: 0.4297\n",
            "Epoch 4/20\n",
            "300/300 [==============================] - 5s 15ms/step - loss: 0.0782 - accuracy: 0.4463\n",
            "Epoch 5/20\n",
            "300/300 [==============================] - 4s 15ms/step - loss: 0.0740 - accuracy: 0.4756\n",
            "Epoch 6/20\n",
            "300/300 [==============================] - 4s 15ms/step - loss: 0.0698 - accuracy: 0.5232\n",
            "Epoch 7/20\n",
            "300/300 [==============================] - 4s 15ms/step - loss: 0.0659 - accuracy: 0.5707\n",
            "Epoch 8/20\n",
            "300/300 [==============================] - 4s 15ms/step - loss: 0.0625 - accuracy: 0.6121\n",
            "Epoch 9/20\n",
            "300/300 [==============================] - 4s 15ms/step - loss: 0.0595 - accuracy: 0.6361\n",
            "Epoch 10/20\n",
            "300/300 [==============================] - 4s 15ms/step - loss: 0.0568 - accuracy: 0.6482\n",
            "Epoch 11/20\n",
            "300/300 [==============================] - 4s 15ms/step - loss: 0.0545 - accuracy: 0.6539\n",
            "Epoch 12/20\n",
            "300/300 [==============================] - 4s 15ms/step - loss: 0.0525 - accuracy: 0.6583\n",
            "Epoch 13/20\n",
            "300/300 [==============================] - 4s 15ms/step - loss: 0.0508 - accuracy: 0.6613\n",
            "Epoch 14/20\n",
            "300/300 [==============================] - 4s 15ms/step - loss: 0.0494 - accuracy: 0.6640\n",
            "Epoch 15/20\n",
            "300/300 [==============================] - 4s 15ms/step - loss: 0.0482 - accuracy: 0.6672\n",
            "Epoch 16/20\n",
            "300/300 [==============================] - 4s 15ms/step - loss: 0.0471 - accuracy: 0.6691\n",
            "Epoch 17/20\n",
            "300/300 [==============================] - 5s 15ms/step - loss: 0.0461 - accuracy: 0.6717\n",
            "Epoch 18/20\n",
            "300/300 [==============================] - 4s 15ms/step - loss: 0.0453 - accuracy: 0.6745\n",
            "Epoch 19/20\n",
            "300/300 [==============================] - 5s 15ms/step - loss: 0.0445 - accuracy: 0.6784\n",
            "Epoch 20/20\n",
            "300/300 [==============================] - 5s 15ms/step - loss: 0.0438 - accuracy: 0.6829\n"
          ],
          "name": "stdout"
        },
        {
          "output_type": "execute_result",
          "data": {
            "text/plain": [
              "<tensorflow.python.keras.callbacks.History at 0x7f819977e908>"
            ]
          },
          "metadata": {
            "tags": []
          },
          "execution_count": 22
        }
      ]
    },
    {
      "cell_type": "code",
      "metadata": {
        "id": "Lw95VgvzMqJe",
        "colab_type": "code",
        "outputId": "ae48276c-50fd-4444-8825-c89a494db0de",
        "colab": {
          "base_uri": "https://localhost:8080/",
          "height": 728
        }
      },
      "source": [
        "model.fit(x_train, y_train, batch_size=200, epochs=20)"
      ],
      "execution_count": 23,
      "outputs": [
        {
          "output_type": "stream",
          "text": [
            "Epoch 1/20\n",
            "300/300 [==============================] - 5s 16ms/step - loss: 0.0431 - accuracy: 0.6884\n",
            "Epoch 2/20\n",
            "300/300 [==============================] - 5s 15ms/step - loss: 0.0425 - accuracy: 0.6948\n",
            "Epoch 3/20\n",
            "300/300 [==============================] - 5s 15ms/step - loss: 0.0419 - accuracy: 0.7031\n",
            "Epoch 4/20\n",
            "300/300 [==============================] - 5s 15ms/step - loss: 0.0413 - accuracy: 0.7110\n",
            "Epoch 5/20\n",
            "300/300 [==============================] - 5s 15ms/step - loss: 0.0408 - accuracy: 0.7180\n",
            "Epoch 6/20\n",
            "300/300 [==============================] - 5s 15ms/step - loss: 0.0403 - accuracy: 0.7263\n",
            "Epoch 7/20\n",
            "300/300 [==============================] - 5s 15ms/step - loss: 0.0398 - accuracy: 0.7331\n",
            "Epoch 8/20\n",
            "300/300 [==============================] - 5s 15ms/step - loss: 0.0393 - accuracy: 0.7393\n",
            "Epoch 9/20\n",
            "300/300 [==============================] - 5s 15ms/step - loss: 0.0388 - accuracy: 0.7450\n",
            "Epoch 10/20\n",
            "300/300 [==============================] - 5s 15ms/step - loss: 0.0384 - accuracy: 0.7499\n",
            "Epoch 11/20\n",
            "300/300 [==============================] - 5s 15ms/step - loss: 0.0379 - accuracy: 0.7549\n",
            "Epoch 12/20\n",
            "300/300 [==============================] - 5s 15ms/step - loss: 0.0375 - accuracy: 0.7582\n",
            "Epoch 13/20\n",
            "300/300 [==============================] - 5s 15ms/step - loss: 0.0371 - accuracy: 0.7632\n",
            "Epoch 14/20\n",
            "300/300 [==============================] - 5s 15ms/step - loss: 0.0366 - accuracy: 0.7660\n",
            "Epoch 15/20\n",
            "300/300 [==============================] - 5s 15ms/step - loss: 0.0363 - accuracy: 0.7688\n",
            "Epoch 16/20\n",
            "300/300 [==============================] - 5s 15ms/step - loss: 0.0359 - accuracy: 0.7723\n",
            "Epoch 17/20\n",
            "300/300 [==============================] - 4s 15ms/step - loss: 0.0355 - accuracy: 0.7747\n",
            "Epoch 18/20\n",
            "300/300 [==============================] - 4s 15ms/step - loss: 0.0352 - accuracy: 0.7772\n",
            "Epoch 19/20\n",
            "300/300 [==============================] - 4s 15ms/step - loss: 0.0348 - accuracy: 0.7797\n",
            "Epoch 20/20\n",
            "300/300 [==============================] - 4s 15ms/step - loss: 0.0345 - accuracy: 0.7826\n"
          ],
          "name": "stdout"
        },
        {
          "output_type": "execute_result",
          "data": {
            "text/plain": [
              "<tensorflow.python.keras.callbacks.History at 0x7f8196943a90>"
            ]
          },
          "metadata": {
            "tags": []
          },
          "execution_count": 23
        }
      ]
    },
    {
      "cell_type": "markdown",
      "metadata": {
        "id": "4cORtUmlT173",
        "colab_type": "text"
      },
      "source": [
        "#####增加訓練次數"
      ]
    },
    {
      "cell_type": "code",
      "metadata": {
        "id": "4L3qYY-SS081",
        "colab_type": "code",
        "outputId": "7059e4ad-771c-4821-b838-a674f3e6ae37",
        "colab": {
          "base_uri": "https://localhost:8080/",
          "height": 1000
        }
      },
      "source": [
        "model.fit(x_train, y_train, batch_size=200, epochs=50)"
      ],
      "execution_count": 24,
      "outputs": [
        {
          "output_type": "stream",
          "text": [
            "Epoch 1/50\n",
            "300/300 [==============================] - 5s 15ms/step - loss: 0.0342 - accuracy: 0.7848\n",
            "Epoch 2/50\n",
            "300/300 [==============================] - 5s 15ms/step - loss: 0.0339 - accuracy: 0.7865\n",
            "Epoch 3/50\n",
            "300/300 [==============================] - 5s 15ms/step - loss: 0.0336 - accuracy: 0.7886\n",
            "Epoch 4/50\n",
            "300/300 [==============================] - 5s 15ms/step - loss: 0.0333 - accuracy: 0.7900\n",
            "Epoch 5/50\n",
            "300/300 [==============================] - 4s 15ms/step - loss: 0.0330 - accuracy: 0.7919\n",
            "Epoch 6/50\n",
            "300/300 [==============================] - 4s 15ms/step - loss: 0.0328 - accuracy: 0.7936\n",
            "Epoch 7/50\n",
            "300/300 [==============================] - 4s 15ms/step - loss: 0.0325 - accuracy: 0.7954\n",
            "Epoch 8/50\n",
            "300/300 [==============================] - 5s 15ms/step - loss: 0.0322 - accuracy: 0.7968\n",
            "Epoch 9/50\n",
            "300/300 [==============================] - 4s 15ms/step - loss: 0.0320 - accuracy: 0.7983\n",
            "Epoch 10/50\n",
            "300/300 [==============================] - 5s 15ms/step - loss: 0.0318 - accuracy: 0.7998\n",
            "Epoch 11/50\n",
            "300/300 [==============================] - 5s 15ms/step - loss: 0.0316 - accuracy: 0.8012\n",
            "Epoch 12/50\n",
            "300/300 [==============================] - 4s 15ms/step - loss: 0.0313 - accuracy: 0.8022\n",
            "Epoch 13/50\n",
            "300/300 [==============================] - 4s 15ms/step - loss: 0.0311 - accuracy: 0.8040\n",
            "Epoch 14/50\n",
            "300/300 [==============================] - 4s 15ms/step - loss: 0.0309 - accuracy: 0.8045\n",
            "Epoch 15/50\n",
            "300/300 [==============================] - 5s 15ms/step - loss: 0.0307 - accuracy: 0.8062\n",
            "Epoch 16/50\n",
            "300/300 [==============================] - 4s 15ms/step - loss: 0.0305 - accuracy: 0.8071\n",
            "Epoch 17/50\n",
            "300/300 [==============================] - 4s 15ms/step - loss: 0.0304 - accuracy: 0.8082\n",
            "Epoch 18/50\n",
            "300/300 [==============================] - 5s 15ms/step - loss: 0.0302 - accuracy: 0.8087\n",
            "Epoch 19/50\n",
            "300/300 [==============================] - 5s 15ms/step - loss: 0.0300 - accuracy: 0.8095\n",
            "Epoch 20/50\n",
            "300/300 [==============================] - 4s 15ms/step - loss: 0.0298 - accuracy: 0.8104\n",
            "Epoch 21/50\n",
            "300/300 [==============================] - 4s 15ms/step - loss: 0.0297 - accuracy: 0.8117\n",
            "Epoch 22/50\n",
            "300/300 [==============================] - 4s 15ms/step - loss: 0.0295 - accuracy: 0.8125\n",
            "Epoch 23/50\n",
            "300/300 [==============================] - 4s 15ms/step - loss: 0.0294 - accuracy: 0.8133\n",
            "Epoch 24/50\n",
            "300/300 [==============================] - 4s 15ms/step - loss: 0.0292 - accuracy: 0.8138\n",
            "Epoch 25/50\n",
            "300/300 [==============================] - 4s 15ms/step - loss: 0.0291 - accuracy: 0.8145\n",
            "Epoch 26/50\n",
            "300/300 [==============================] - 4s 15ms/step - loss: 0.0289 - accuracy: 0.8152\n",
            "Epoch 27/50\n",
            "300/300 [==============================] - 4s 15ms/step - loss: 0.0288 - accuracy: 0.8162\n",
            "Epoch 28/50\n",
            "300/300 [==============================] - 5s 15ms/step - loss: 0.0287 - accuracy: 0.8167\n",
            "Epoch 29/50\n",
            "300/300 [==============================] - 4s 15ms/step - loss: 0.0285 - accuracy: 0.8172\n",
            "Epoch 30/50\n",
            "300/300 [==============================] - 5s 15ms/step - loss: 0.0284 - accuracy: 0.8181\n",
            "Epoch 31/50\n",
            "300/300 [==============================] - 5s 15ms/step - loss: 0.0283 - accuracy: 0.8182\n",
            "Epoch 32/50\n",
            "300/300 [==============================] - 5s 15ms/step - loss: 0.0282 - accuracy: 0.8190\n",
            "Epoch 33/50\n",
            "300/300 [==============================] - 5s 15ms/step - loss: 0.0281 - accuracy: 0.8198\n",
            "Epoch 34/50\n",
            "300/300 [==============================] - 5s 15ms/step - loss: 0.0279 - accuracy: 0.8202\n",
            "Epoch 35/50\n",
            "300/300 [==============================] - 5s 15ms/step - loss: 0.0278 - accuracy: 0.8212\n",
            "Epoch 36/50\n",
            "300/300 [==============================] - 5s 15ms/step - loss: 0.0277 - accuracy: 0.8215\n",
            "Epoch 37/50\n",
            "300/300 [==============================] - 5s 15ms/step - loss: 0.0276 - accuracy: 0.8221\n",
            "Epoch 38/50\n",
            "300/300 [==============================] - 5s 15ms/step - loss: 0.0275 - accuracy: 0.8229\n",
            "Epoch 39/50\n",
            "300/300 [==============================] - 4s 15ms/step - loss: 0.0274 - accuracy: 0.8233\n",
            "Epoch 40/50\n",
            "300/300 [==============================] - 4s 15ms/step - loss: 0.0273 - accuracy: 0.8231\n",
            "Epoch 41/50\n",
            "300/300 [==============================] - 5s 15ms/step - loss: 0.0272 - accuracy: 0.8238\n",
            "Epoch 42/50\n",
            "300/300 [==============================] - 4s 15ms/step - loss: 0.0271 - accuracy: 0.8241\n",
            "Epoch 43/50\n",
            "300/300 [==============================] - 5s 15ms/step - loss: 0.0270 - accuracy: 0.8248\n",
            "Epoch 44/50\n",
            "300/300 [==============================] - 5s 15ms/step - loss: 0.0269 - accuracy: 0.8255\n",
            "Epoch 45/50\n",
            "300/300 [==============================] - 5s 15ms/step - loss: 0.0269 - accuracy: 0.8259\n",
            "Epoch 46/50\n",
            "300/300 [==============================] - 4s 15ms/step - loss: 0.0268 - accuracy: 0.8264\n",
            "Epoch 47/50\n",
            "300/300 [==============================] - 5s 15ms/step - loss: 0.0267 - accuracy: 0.8268\n",
            "Epoch 48/50\n",
            "300/300 [==============================] - 4s 15ms/step - loss: 0.0266 - accuracy: 0.8270\n",
            "Epoch 49/50\n",
            "300/300 [==============================] - 5s 15ms/step - loss: 0.0265 - accuracy: 0.8277\n",
            "Epoch 50/50\n",
            "300/300 [==============================] - 5s 15ms/step - loss: 0.0264 - accuracy: 0.8281\n"
          ],
          "name": "stdout"
        },
        {
          "output_type": "execute_result",
          "data": {
            "text/plain": [
              "<tensorflow.python.keras.callbacks.History at 0x7f8196966860>"
            ]
          },
          "metadata": {
            "tags": []
          },
          "execution_count": 24
        }
      ]
    },
    {
      "cell_type": "markdown",
      "metadata": {
        "id": "p2Z8DCrSQY5t",
        "colab_type": "text"
      },
      "source": [
        "#### 訓練後的準確率有逐漸上升，嘗試調整learning rate看會不會更快到達高準確率。\n"
      ]
    },
    {
      "cell_type": "code",
      "metadata": {
        "id": "pkdFl89JPJJc",
        "colab_type": "code",
        "colab": {}
      },
      "source": [
        "model.compile(loss='mse',optimizer=SGD(lr=0.09), metrics=['accuracy'])"
      ],
      "execution_count": 0,
      "outputs": []
    },
    {
      "cell_type": "code",
      "metadata": {
        "id": "f8WcU4PWPJR_",
        "colab_type": "code",
        "outputId": "efe1a63d-402f-4d68-aff9-f8b9432f7574",
        "colab": {
          "base_uri": "https://localhost:8080/",
          "height": 728
        }
      },
      "source": [
        "model.fit(x_train, y_train, batch_size=200, epochs=20)"
      ],
      "execution_count": 26,
      "outputs": [
        {
          "output_type": "stream",
          "text": [
            "Epoch 1/20\n",
            "300/300 [==============================] - 5s 15ms/step - loss: 0.0261 - accuracy: 0.8294\n",
            "Epoch 2/20\n",
            "300/300 [==============================] - 4s 15ms/step - loss: 0.0255 - accuracy: 0.8324\n",
            "Epoch 3/20\n",
            "300/300 [==============================] - 5s 15ms/step - loss: 0.0250 - accuracy: 0.8347\n",
            "Epoch 4/20\n",
            "300/300 [==============================] - 5s 15ms/step - loss: 0.0245 - accuracy: 0.8376\n",
            "Epoch 5/20\n",
            "300/300 [==============================] - 4s 15ms/step - loss: 0.0241 - accuracy: 0.8401\n",
            "Epoch 6/20\n",
            "300/300 [==============================] - 4s 15ms/step - loss: 0.0237 - accuracy: 0.8419\n",
            "Epoch 7/20\n",
            "300/300 [==============================] - 4s 15ms/step - loss: 0.0234 - accuracy: 0.8441\n",
            "Epoch 8/20\n",
            "300/300 [==============================] - 5s 15ms/step - loss: 0.0231 - accuracy: 0.8456\n",
            "Epoch 9/20\n",
            "300/300 [==============================] - 4s 15ms/step - loss: 0.0228 - accuracy: 0.8476\n",
            "Epoch 10/20\n",
            "300/300 [==============================] - 4s 15ms/step - loss: 0.0226 - accuracy: 0.8494\n",
            "Epoch 11/20\n",
            "300/300 [==============================] - 5s 15ms/step - loss: 0.0223 - accuracy: 0.8514\n",
            "Epoch 12/20\n",
            "300/300 [==============================] - 5s 15ms/step - loss: 0.0221 - accuracy: 0.8532\n",
            "Epoch 13/20\n",
            "300/300 [==============================] - 5s 15ms/step - loss: 0.0219 - accuracy: 0.8543\n",
            "Epoch 14/20\n",
            "300/300 [==============================] - 4s 15ms/step - loss: 0.0217 - accuracy: 0.8548\n",
            "Epoch 15/20\n",
            "300/300 [==============================] - 4s 15ms/step - loss: 0.0215 - accuracy: 0.8561\n",
            "Epoch 16/20\n",
            "300/300 [==============================] - 4s 15ms/step - loss: 0.0214 - accuracy: 0.8576\n",
            "Epoch 17/20\n",
            "300/300 [==============================] - 4s 15ms/step - loss: 0.0212 - accuracy: 0.8583\n",
            "Epoch 18/20\n",
            "300/300 [==============================] - 5s 15ms/step - loss: 0.0210 - accuracy: 0.8592\n",
            "Epoch 19/20\n",
            "300/300 [==============================] - 5s 15ms/step - loss: 0.0209 - accuracy: 0.8603\n",
            "Epoch 20/20\n",
            "300/300 [==============================] - 5s 15ms/step - loss: 0.0208 - accuracy: 0.8615\n"
          ],
          "name": "stdout"
        },
        {
          "output_type": "execute_result",
          "data": {
            "text/plain": [
              "<tensorflow.python.keras.callbacks.History at 0x7f81969078d0>"
            ]
          },
          "metadata": {
            "tags": []
          },
          "execution_count": 26
        }
      ]
    },
    {
      "cell_type": "code",
      "metadata": {
        "id": "2Ct_adK5PJOU",
        "colab_type": "code",
        "outputId": "c29ab70b-3441-4ab3-a87d-d52e2e2c29e8",
        "colab": {
          "base_uri": "https://localhost:8080/",
          "height": 728
        }
      },
      "source": [
        "model.fit(x_train, y_train, batch_size=200, epochs=20)"
      ],
      "execution_count": 27,
      "outputs": [
        {
          "output_type": "stream",
          "text": [
            "Epoch 1/20\n",
            "300/300 [==============================] - 5s 15ms/step - loss: 0.0207 - accuracy: 0.8611\n",
            "Epoch 2/20\n",
            "300/300 [==============================] - 5s 15ms/step - loss: 0.0205 - accuracy: 0.8628\n",
            "Epoch 3/20\n",
            "300/300 [==============================] - 5s 15ms/step - loss: 0.0204 - accuracy: 0.8641\n",
            "Epoch 4/20\n",
            "300/300 [==============================] - 5s 15ms/step - loss: 0.0202 - accuracy: 0.8648\n",
            "Epoch 5/20\n",
            "300/300 [==============================] - 5s 15ms/step - loss: 0.0201 - accuracy: 0.8655\n",
            "Epoch 6/20\n",
            "300/300 [==============================] - 5s 15ms/step - loss: 0.0200 - accuracy: 0.8665\n",
            "Epoch 7/20\n",
            "300/300 [==============================] - 5s 15ms/step - loss: 0.0199 - accuracy: 0.8668\n",
            "Epoch 8/20\n",
            "300/300 [==============================] - 5s 15ms/step - loss: 0.0198 - accuracy: 0.8679\n",
            "Epoch 9/20\n",
            "300/300 [==============================] - 5s 15ms/step - loss: 0.0197 - accuracy: 0.8685\n",
            "Epoch 10/20\n",
            "300/300 [==============================] - 4s 15ms/step - loss: 0.0196 - accuracy: 0.8698\n",
            "Epoch 11/20\n",
            "300/300 [==============================] - 4s 15ms/step - loss: 0.0195 - accuracy: 0.8692\n",
            "Epoch 12/20\n",
            "300/300 [==============================] - 5s 15ms/step - loss: 0.0194 - accuracy: 0.8701\n",
            "Epoch 13/20\n",
            "300/300 [==============================] - 5s 15ms/step - loss: 0.0193 - accuracy: 0.8710\n",
            "Epoch 14/20\n",
            "300/300 [==============================] - 5s 15ms/step - loss: 0.0192 - accuracy: 0.8716\n",
            "Epoch 15/20\n",
            "300/300 [==============================] - 5s 15ms/step - loss: 0.0191 - accuracy: 0.8726\n",
            "Epoch 16/20\n",
            "300/300 [==============================] - 4s 15ms/step - loss: 0.0190 - accuracy: 0.8732\n",
            "Epoch 17/20\n",
            "300/300 [==============================] - 4s 15ms/step - loss: 0.0189 - accuracy: 0.8739\n",
            "Epoch 18/20\n",
            "300/300 [==============================] - 5s 15ms/step - loss: 0.0189 - accuracy: 0.8746\n",
            "Epoch 19/20\n",
            "300/300 [==============================] - 4s 15ms/step - loss: 0.0188 - accuracy: 0.8743\n",
            "Epoch 20/20\n",
            "300/300 [==============================] - 5s 15ms/step - loss: 0.0187 - accuracy: 0.8752\n"
          ],
          "name": "stdout"
        },
        {
          "output_type": "execute_result",
          "data": {
            "text/plain": [
              "<tensorflow.python.keras.callbacks.History at 0x7f819683f2e8>"
            ]
          },
          "metadata": {
            "tags": []
          },
          "execution_count": 27
        }
      ]
    },
    {
      "cell_type": "code",
      "metadata": {
        "id": "zKLMMcROo5fS",
        "colab_type": "code",
        "outputId": "69a05b18-734e-476b-8b51-e8656109a55b",
        "colab": {
          "base_uri": "https://localhost:8080/",
          "height": 1000
        }
      },
      "source": [
        "model.fit(x_train, y_train, batch_size=200, epochs=50)"
      ],
      "execution_count": 28,
      "outputs": [
        {
          "output_type": "stream",
          "text": [
            "Epoch 1/50\n",
            "300/300 [==============================] - 5s 15ms/step - loss: 0.0186 - accuracy: 0.8755\n",
            "Epoch 2/50\n",
            "300/300 [==============================] - 5s 15ms/step - loss: 0.0185 - accuracy: 0.8758\n",
            "Epoch 3/50\n",
            "300/300 [==============================] - 5s 15ms/step - loss: 0.0185 - accuracy: 0.8770\n",
            "Epoch 4/50\n",
            "300/300 [==============================] - 5s 15ms/step - loss: 0.0184 - accuracy: 0.8776\n",
            "Epoch 5/50\n",
            "300/300 [==============================] - 5s 15ms/step - loss: 0.0183 - accuracy: 0.8777\n",
            "Epoch 6/50\n",
            "300/300 [==============================] - 5s 15ms/step - loss: 0.0182 - accuracy: 0.8786\n",
            "Epoch 7/50\n",
            "300/300 [==============================] - 5s 15ms/step - loss: 0.0181 - accuracy: 0.8797\n",
            "Epoch 8/50\n",
            "300/300 [==============================] - 5s 15ms/step - loss: 0.0181 - accuracy: 0.8790\n",
            "Epoch 9/50\n",
            "300/300 [==============================] - 5s 15ms/step - loss: 0.0180 - accuracy: 0.8797\n",
            "Epoch 10/50\n",
            "300/300 [==============================] - 5s 15ms/step - loss: 0.0179 - accuracy: 0.8805\n",
            "Epoch 11/50\n",
            "300/300 [==============================] - 5s 16ms/step - loss: 0.0179 - accuracy: 0.8813\n",
            "Epoch 12/50\n",
            "300/300 [==============================] - 5s 15ms/step - loss: 0.0178 - accuracy: 0.8807\n",
            "Epoch 13/50\n",
            "300/300 [==============================] - 4s 15ms/step - loss: 0.0178 - accuracy: 0.8806\n",
            "Epoch 14/50\n",
            "300/300 [==============================] - 5s 15ms/step - loss: 0.0177 - accuracy: 0.8825\n",
            "Epoch 15/50\n",
            "300/300 [==============================] - 5s 15ms/step - loss: 0.0176 - accuracy: 0.8829\n",
            "Epoch 16/50\n",
            "300/300 [==============================] - 4s 15ms/step - loss: 0.0176 - accuracy: 0.8831\n",
            "Epoch 17/50\n",
            "300/300 [==============================] - 5s 15ms/step - loss: 0.0175 - accuracy: 0.8845\n",
            "Epoch 18/50\n",
            "300/300 [==============================] - 4s 15ms/step - loss: 0.0174 - accuracy: 0.8848\n",
            "Epoch 19/50\n",
            "300/300 [==============================] - 4s 15ms/step - loss: 0.0174 - accuracy: 0.8844\n",
            "Epoch 20/50\n",
            "300/300 [==============================] - 4s 15ms/step - loss: 0.0173 - accuracy: 0.8847\n",
            "Epoch 21/50\n",
            "300/300 [==============================] - 4s 14ms/step - loss: 0.0173 - accuracy: 0.8850\n",
            "Epoch 22/50\n",
            "300/300 [==============================] - 4s 14ms/step - loss: 0.0172 - accuracy: 0.8863\n",
            "Epoch 23/50\n",
            "300/300 [==============================] - 4s 14ms/step - loss: 0.0172 - accuracy: 0.8864\n",
            "Epoch 24/50\n",
            "300/300 [==============================] - 4s 14ms/step - loss: 0.0171 - accuracy: 0.8862\n",
            "Epoch 25/50\n",
            "300/300 [==============================] - 4s 14ms/step - loss: 0.0170 - accuracy: 0.8869\n",
            "Epoch 26/50\n",
            "300/300 [==============================] - 4s 14ms/step - loss: 0.0170 - accuracy: 0.8872\n",
            "Epoch 27/50\n",
            "300/300 [==============================] - 4s 14ms/step - loss: 0.0169 - accuracy: 0.8877\n",
            "Epoch 28/50\n",
            "300/300 [==============================] - 4s 14ms/step - loss: 0.0169 - accuracy: 0.8876\n",
            "Epoch 29/50\n",
            "300/300 [==============================] - 4s 14ms/step - loss: 0.0168 - accuracy: 0.8884\n",
            "Epoch 30/50\n",
            "300/300 [==============================] - 4s 14ms/step - loss: 0.0168 - accuracy: 0.8885\n",
            "Epoch 31/50\n",
            "300/300 [==============================] - 4s 14ms/step - loss: 0.0167 - accuracy: 0.8893\n",
            "Epoch 32/50\n",
            "300/300 [==============================] - 4s 14ms/step - loss: 0.0167 - accuracy: 0.8890\n",
            "Epoch 33/50\n",
            "300/300 [==============================] - 4s 14ms/step - loss: 0.0166 - accuracy: 0.8895\n",
            "Epoch 34/50\n",
            "300/300 [==============================] - 4s 14ms/step - loss: 0.0166 - accuracy: 0.8903\n",
            "Epoch 35/50\n",
            "300/300 [==============================] - 4s 14ms/step - loss: 0.0165 - accuracy: 0.8906\n",
            "Epoch 36/50\n",
            "300/300 [==============================] - 4s 14ms/step - loss: 0.0165 - accuracy: 0.8914\n",
            "Epoch 37/50\n",
            "300/300 [==============================] - 4s 14ms/step - loss: 0.0165 - accuracy: 0.8913\n",
            "Epoch 38/50\n",
            "300/300 [==============================] - 4s 14ms/step - loss: 0.0164 - accuracy: 0.8914\n",
            "Epoch 39/50\n",
            "300/300 [==============================] - 4s 14ms/step - loss: 0.0163 - accuracy: 0.8918\n",
            "Epoch 40/50\n",
            "300/300 [==============================] - 4s 14ms/step - loss: 0.0163 - accuracy: 0.8917\n",
            "Epoch 41/50\n",
            "300/300 [==============================] - 4s 14ms/step - loss: 0.0163 - accuracy: 0.8928\n",
            "Epoch 42/50\n",
            "300/300 [==============================] - 4s 14ms/step - loss: 0.0162 - accuracy: 0.8933\n",
            "Epoch 43/50\n",
            "300/300 [==============================] - 4s 14ms/step - loss: 0.0162 - accuracy: 0.8938\n",
            "Epoch 44/50\n",
            "300/300 [==============================] - 4s 14ms/step - loss: 0.0161 - accuracy: 0.8931\n",
            "Epoch 45/50\n",
            "300/300 [==============================] - 4s 14ms/step - loss: 0.0161 - accuracy: 0.8932\n",
            "Epoch 46/50\n",
            "300/300 [==============================] - 4s 14ms/step - loss: 0.0160 - accuracy: 0.8943\n",
            "Epoch 47/50\n",
            "300/300 [==============================] - 4s 14ms/step - loss: 0.0160 - accuracy: 0.8950\n",
            "Epoch 48/50\n",
            "300/300 [==============================] - 4s 14ms/step - loss: 0.0159 - accuracy: 0.8953\n",
            "Epoch 49/50\n",
            "300/300 [==============================] - 4s 14ms/step - loss: 0.0159 - accuracy: 0.8954\n",
            "Epoch 50/50\n",
            "300/300 [==============================] - 4s 14ms/step - loss: 0.0159 - accuracy: 0.8954\n"
          ],
          "name": "stdout"
        },
        {
          "output_type": "execute_result",
          "data": {
            "text/plain": [
              "<tensorflow.python.keras.callbacks.History at 0x7f819690ee48>"
            ]
          },
          "metadata": {
            "tags": []
          },
          "execution_count": 28
        }
      ]
    },
    {
      "cell_type": "markdown",
      "metadata": {
        "id": "qL3lywRFdYHw",
        "colab_type": "text"
      },
      "source": [
        "## **Model 訓練結果**"
      ]
    },
    {
      "cell_type": "code",
      "metadata": {
        "id": "gWOq7MgAbGIv",
        "colab_type": "code",
        "outputId": "6e1e16e2-79a9-40bf-a186-9da4e34a9a09",
        "colab": {
          "base_uri": "https://localhost:8080/",
          "height": 89
        }
      },
      "source": [
        "result = model.predict_classes(x_test)"
      ],
      "execution_count": 29,
      "outputs": [
        {
          "output_type": "stream",
          "text": [
            "WARNING:tensorflow:From <ipython-input-29-63af5bb2f9b6>:1: Sequential.predict_classes (from tensorflow.python.keras.engine.sequential) is deprecated and will be removed after 2021-01-01.\n",
            "Instructions for updating:\n",
            "Please use instead:* `np.argmax(model.predict(x), axis=-1)`,   if your model does multi-class classification   (e.g. if it uses a `softmax` last-layer activation).* `(model.predict(x) > 0.5).astype(\"int32\")`,   if your model does binary classification   (e.g. if it uses a `sigmoid` last-layer activation).\n"
          ],
          "name": "stdout"
        }
      ]
    },
    {
      "cell_type": "code",
      "metadata": {
        "id": "jw8feYlPbINP",
        "colab_type": "code",
        "outputId": "a42e9e87-2847-427b-83be-5b05e5dcceef",
        "colab": {
          "base_uri": "https://localhost:8080/",
          "height": 300
        }
      },
      "source": [
        "n = 1496\n",
        "\n",
        "print('神經網路預測是:', class_names[result[n]])\n",
        "plt.imshow(x_test[n].reshape(28,28), cmap='Greys')"
      ],
      "execution_count": 30,
      "outputs": [
        {
          "output_type": "stream",
          "text": [
            "神經網路預測是: Pullover\n"
          ],
          "name": "stdout"
        },
        {
          "output_type": "execute_result",
          "data": {
            "text/plain": [
              "<matplotlib.image.AxesImage at 0x7f819974dc50>"
            ]
          },
          "metadata": {
            "tags": []
          },
          "execution_count": 30
        },
        {
          "output_type": "display_data",
          "data": {
            "image/png": "[encoded data removed]",
            "text/plain": [
              "<Figure size 432x288 with 1 Axes>"
            ]
          },
          "metadata": {
            "tags": []
          }
        }
      ]
    },
    {
      "cell_type": "code",
      "metadata": {
        "id": "EGXsRJ8ndL6R",
        "colab_type": "code",
        "outputId": "50650943-46cb-42c0-8bf9-f37ba64899ae",
        "colab": {
          "base_uri": "https://localhost:8080/",
          "height": 52
        }
      },
      "source": [
        "model.evaluate(x_test,y_test)"
      ],
      "execution_count": 31,
      "outputs": [
        {
          "output_type": "stream",
          "text": [
            "313/313 [==============================] - 1s 3ms/step - loss: 0.0190 - accuracy: 0.8745\n"
          ],
          "name": "stdout"
        },
        {
          "output_type": "execute_result",
          "data": {
            "text/plain": [
              "[0.01901630312204361, 0.8744999766349792]"
            ]
          },
          "metadata": {
            "tags": []
          },
          "execution_count": 31
        }
      ]
    },
    {
      "cell_type": "markdown",
      "metadata": {
        "id": "-oZkM2h7dQ5f",
        "colab_type": "text"
      },
      "source": [
        "#### 預測正確率有0.8745，從圖片看得出預測結果正確。"
      ]
    },
    {
      "cell_type": "markdown",
      "metadata": {
        "id": "HLn_2R6Mfh_R",
        "colab_type": "text"
      },
      "source": [
        "#Model2 多加一層，並修改各層神經元數量"
      ]
    },
    {
      "cell_type": "code",
      "metadata": {
        "id": "JFKOeXppPvco",
        "colab_type": "code",
        "outputId": "47b7d375-4519-4f85-99e3-7697e9751afa",
        "colab": {
          "base_uri": "https://localhost:8080/",
          "height": 295
        }
      },
      "source": [
        "model2 = Sequential()\n",
        "model2.add(Dense(350, input_dim=784, activation='relu'))\n",
        "model2.add(Dense(250, activation='relu'))\n",
        "model2.add(Dense(150, activation='relu'))\n",
        "model2.add(Dense(10, activation='softmax'))\n",
        "model2.summary()"
      ],
      "execution_count": 32,
      "outputs": [
        {
          "output_type": "stream",
          "text": [
            "Model: \"sequential_1\"\n",
            "_________________________________________________________________\n",
            "Layer (type)                 Output Shape              Param #   \n",
            "=================================================================\n",
            "dense_3 (Dense)              (None, 350)               274750    \n",
            "_________________________________________________________________\n",
            "dense_4 (Dense)              (None, 250)               87750     \n",
            "_________________________________________________________________\n",
            "dense_5 (Dense)              (None, 150)               37650     \n",
            "_________________________________________________________________\n",
            "dense_6 (Dense)              (None, 10)                1510      \n",
            "=================================================================\n",
            "Total params: 401,660\n",
            "Trainable params: 401,660\n",
            "Non-trainable params: 0\n",
            "_________________________________________________________________\n"
          ],
          "name": "stdout"
        }
      ]
    },
    {
      "cell_type": "code",
      "metadata": {
        "id": "WrKuHjAhW33Q",
        "colab_type": "code",
        "colab": {}
      },
      "source": [
        "model2.compile(loss='mse',optimizer=SGD(lr=0.09), metrics=['accuracy'])"
      ],
      "execution_count": 0,
      "outputs": []
    },
    {
      "cell_type": "code",
      "metadata": {
        "id": "SxtfPDmIW39D",
        "colab_type": "code",
        "outputId": "9bd8d8b0-5119-4ddb-a133-aec1b653d1d2",
        "colab": {
          "base_uri": "https://localhost:8080/",
          "height": 728
        }
      },
      "source": [
        "model2.fit(x_train, y_train, batch_size=200, epochs=20)"
      ],
      "execution_count": 34,
      "outputs": [
        {
          "output_type": "stream",
          "text": [
            "Epoch 1/20\n",
            "300/300 [==============================] - 3s 12ms/step - loss: 0.0804 - accuracy: 0.3361\n",
            "Epoch 2/20\n",
            "300/300 [==============================] - 4s 12ms/step - loss: 0.0560 - accuracy: 0.6332\n",
            "Epoch 3/20\n",
            "300/300 [==============================] - 4s 12ms/step - loss: 0.0440 - accuracy: 0.6867\n",
            "Epoch 4/20\n",
            "300/300 [==============================] - 4s 12ms/step - loss: 0.0386 - accuracy: 0.7430\n",
            "Epoch 5/20\n",
            "300/300 [==============================] - 4s 12ms/step - loss: 0.0349 - accuracy: 0.7780\n",
            "Epoch 6/20\n",
            "300/300 [==============================] - 3s 12ms/step - loss: 0.0320 - accuracy: 0.7969\n",
            "Epoch 7/20\n",
            "300/300 [==============================] - 3s 11ms/step - loss: 0.0300 - accuracy: 0.8075\n",
            "Epoch 8/20\n",
            "300/300 [==============================] - 3s 11ms/step - loss: 0.0285 - accuracy: 0.8149\n",
            "Epoch 9/20\n",
            "300/300 [==============================] - 4s 12ms/step - loss: 0.0273 - accuracy: 0.8218\n",
            "Epoch 10/20\n",
            "300/300 [==============================] - 3s 12ms/step - loss: 0.0264 - accuracy: 0.8267\n",
            "Epoch 11/20\n",
            "300/300 [==============================] - 3s 11ms/step - loss: 0.0256 - accuracy: 0.8304\n",
            "Epoch 12/20\n",
            "300/300 [==============================] - 3s 11ms/step - loss: 0.0250 - accuracy: 0.8341\n",
            "Epoch 13/20\n",
            "300/300 [==============================] - 3s 11ms/step - loss: 0.0245 - accuracy: 0.8365\n",
            "Epoch 14/20\n",
            "300/300 [==============================] - 3s 11ms/step - loss: 0.0240 - accuracy: 0.8390\n",
            "Epoch 15/20\n",
            "300/300 [==============================] - 3s 11ms/step - loss: 0.0236 - accuracy: 0.8421\n",
            "Epoch 16/20\n",
            "300/300 [==============================] - 3s 11ms/step - loss: 0.0233 - accuracy: 0.8425\n",
            "Epoch 17/20\n",
            "300/300 [==============================] - 3s 11ms/step - loss: 0.0229 - accuracy: 0.8454\n",
            "Epoch 18/20\n",
            "300/300 [==============================] - 3s 11ms/step - loss: 0.0226 - accuracy: 0.8474\n",
            "Epoch 19/20\n",
            "300/300 [==============================] - 3s 11ms/step - loss: 0.0224 - accuracy: 0.8500\n",
            "Epoch 20/20\n",
            "300/300 [==============================] - 3s 11ms/step - loss: 0.0221 - accuracy: 0.8520\n"
          ],
          "name": "stdout"
        },
        {
          "output_type": "execute_result",
          "data": {
            "text/plain": [
              "<tensorflow.python.keras.callbacks.History at 0x7f8195776828>"
            ]
          },
          "metadata": {
            "tags": []
          },
          "execution_count": 34
        }
      ]
    },
    {
      "cell_type": "code",
      "metadata": {
        "id": "qqpDBMniW4BM",
        "colab_type": "code",
        "outputId": "e1f34c26-3a2a-46bb-f7dc-fcabfbea6f84",
        "colab": {
          "base_uri": "https://localhost:8080/",
          "height": 728
        }
      },
      "source": [
        "model2.fit(x_train, y_train, batch_size=200, epochs=20)"
      ],
      "execution_count": 35,
      "outputs": [
        {
          "output_type": "stream",
          "text": [
            "Epoch 1/20\n",
            "300/300 [==============================] - 3s 11ms/step - loss: 0.0218 - accuracy: 0.8528\n",
            "Epoch 2/20\n",
            "300/300 [==============================] - 3s 11ms/step - loss: 0.0216 - accuracy: 0.8543\n",
            "Epoch 3/20\n",
            "300/300 [==============================] - 3s 11ms/step - loss: 0.0214 - accuracy: 0.8558\n",
            "Epoch 4/20\n",
            "300/300 [==============================] - 3s 11ms/step - loss: 0.0212 - accuracy: 0.8569\n",
            "Epoch 5/20\n",
            "300/300 [==============================] - 3s 11ms/step - loss: 0.0211 - accuracy: 0.8579\n",
            "Epoch 6/20\n",
            "300/300 [==============================] - 3s 11ms/step - loss: 0.0209 - accuracy: 0.8593\n",
            "Epoch 7/20\n",
            "300/300 [==============================] - 3s 11ms/step - loss: 0.0207 - accuracy: 0.8606\n",
            "Epoch 8/20\n",
            "300/300 [==============================] - 3s 11ms/step - loss: 0.0205 - accuracy: 0.8626\n",
            "Epoch 9/20\n",
            "300/300 [==============================] - 3s 11ms/step - loss: 0.0204 - accuracy: 0.8628\n",
            "Epoch 10/20\n",
            "300/300 [==============================] - 3s 11ms/step - loss: 0.0203 - accuracy: 0.8631\n",
            "Epoch 11/20\n",
            "300/300 [==============================] - 3s 11ms/step - loss: 0.0201 - accuracy: 0.8651\n",
            "Epoch 12/20\n",
            "300/300 [==============================] - 3s 11ms/step - loss: 0.0200 - accuracy: 0.8668\n",
            "Epoch 13/20\n",
            "300/300 [==============================] - 3s 12ms/step - loss: 0.0198 - accuracy: 0.8664\n",
            "Epoch 14/20\n",
            "300/300 [==============================] - 4s 12ms/step - loss: 0.0197 - accuracy: 0.8665\n",
            "Epoch 15/20\n",
            "300/300 [==============================] - 3s 11ms/step - loss: 0.0196 - accuracy: 0.8676\n",
            "Epoch 16/20\n",
            "300/300 [==============================] - 3s 11ms/step - loss: 0.0195 - accuracy: 0.8689\n",
            "Epoch 17/20\n",
            "300/300 [==============================] - 3s 12ms/step - loss: 0.0194 - accuracy: 0.8701\n",
            "Epoch 18/20\n",
            "300/300 [==============================] - 3s 11ms/step - loss: 0.0192 - accuracy: 0.8699\n",
            "Epoch 19/20\n",
            "300/300 [==============================] - 3s 12ms/step - loss: 0.0191 - accuracy: 0.8716\n",
            "Epoch 20/20\n",
            "300/300 [==============================] - 3s 12ms/step - loss: 0.0190 - accuracy: 0.8721\n"
          ],
          "name": "stdout"
        },
        {
          "output_type": "execute_result",
          "data": {
            "text/plain": [
              "<tensorflow.python.keras.callbacks.History at 0x7f81957101d0>"
            ]
          },
          "metadata": {
            "tags": []
          },
          "execution_count": 35
        }
      ]
    },
    {
      "cell_type": "code",
      "metadata": {
        "id": "4hlUz77EpQT1",
        "colab_type": "code",
        "colab": {
          "base_uri": "https://localhost:8080/",
          "height": 1000
        },
        "outputId": "75de282d-90ac-4d78-a56e-9995e9559229"
      },
      "source": [
        "model.fit(x_train, y_train, batch_size=200, epochs=50)"
      ],
      "execution_count": 36,
      "outputs": [
        {
          "output_type": "stream",
          "text": [
            "Epoch 1/50\n",
            "300/300 [==============================] - 4s 15ms/step - loss: 0.0159 - accuracy: 0.8950\n",
            "Epoch 2/50\n",
            "300/300 [==============================] - 4s 15ms/step - loss: 0.0158 - accuracy: 0.8964\n",
            "Epoch 3/50\n",
            "300/300 [==============================] - 4s 14ms/step - loss: 0.0157 - accuracy: 0.8957\n",
            "Epoch 4/50\n",
            "300/300 [==============================] - 4s 14ms/step - loss: 0.0157 - accuracy: 0.8961\n",
            "Epoch 5/50\n",
            "300/300 [==============================] - 4s 14ms/step - loss: 0.0157 - accuracy: 0.8969\n",
            "Epoch 6/50\n",
            "300/300 [==============================] - 4s 14ms/step - loss: 0.0156 - accuracy: 0.8984\n",
            "Epoch 7/50\n",
            "300/300 [==============================] - 4s 14ms/step - loss: 0.0155 - accuracy: 0.8983\n",
            "Epoch 8/50\n",
            "300/300 [==============================] - 4s 15ms/step - loss: 0.0155 - accuracy: 0.8982\n",
            "Epoch 9/50\n",
            "300/300 [==============================] - 4s 15ms/step - loss: 0.0155 - accuracy: 0.8980\n",
            "Epoch 10/50\n",
            "300/300 [==============================] - 4s 15ms/step - loss: 0.0154 - accuracy: 0.8992\n",
            "Epoch 11/50\n",
            "300/300 [==============================] - 4s 14ms/step - loss: 0.0154 - accuracy: 0.8990\n",
            "Epoch 12/50\n",
            "300/300 [==============================] - 4s 14ms/step - loss: 0.0153 - accuracy: 0.9005\n",
            "Epoch 13/50\n",
            "300/300 [==============================] - 4s 14ms/step - loss: 0.0153 - accuracy: 0.8996\n",
            "Epoch 14/50\n",
            "300/300 [==============================] - 4s 14ms/step - loss: 0.0153 - accuracy: 0.8988\n",
            "Epoch 15/50\n",
            "300/300 [==============================] - 4s 15ms/step - loss: 0.0153 - accuracy: 0.9004\n",
            "Epoch 16/50\n",
            "300/300 [==============================] - 4s 14ms/step - loss: 0.0152 - accuracy: 0.9014\n",
            "Epoch 17/50\n",
            "300/300 [==============================] - 4s 14ms/step - loss: 0.0152 - accuracy: 0.9007\n",
            "Epoch 18/50\n",
            "300/300 [==============================] - 4s 15ms/step - loss: 0.0151 - accuracy: 0.9010\n",
            "Epoch 19/50\n",
            "300/300 [==============================] - 4s 15ms/step - loss: 0.0151 - accuracy: 0.9006\n",
            "Epoch 20/50\n",
            "300/300 [==============================] - 4s 14ms/step - loss: 0.0151 - accuracy: 0.9009\n",
            "Epoch 21/50\n",
            "300/300 [==============================] - 4s 14ms/step - loss: 0.0150 - accuracy: 0.9014\n",
            "Epoch 22/50\n",
            "300/300 [==============================] - 4s 15ms/step - loss: 0.0150 - accuracy: 0.9022\n",
            "Epoch 23/50\n",
            "300/300 [==============================] - 4s 15ms/step - loss: 0.0149 - accuracy: 0.9026\n",
            "Epoch 24/50\n",
            "300/300 [==============================] - 4s 15ms/step - loss: 0.0149 - accuracy: 0.9032\n",
            "Epoch 25/50\n",
            "300/300 [==============================] - 4s 14ms/step - loss: 0.0148 - accuracy: 0.9033\n",
            "Epoch 26/50\n",
            "300/300 [==============================] - 4s 14ms/step - loss: 0.0148 - accuracy: 0.9032\n",
            "Epoch 27/50\n",
            "300/300 [==============================] - 4s 14ms/step - loss: 0.0148 - accuracy: 0.9038\n",
            "Epoch 28/50\n",
            "300/300 [==============================] - 4s 14ms/step - loss: 0.0148 - accuracy: 0.9033\n",
            "Epoch 29/50\n",
            "300/300 [==============================] - 4s 14ms/step - loss: 0.0147 - accuracy: 0.9046\n",
            "Epoch 30/50\n",
            "300/300 [==============================] - 4s 14ms/step - loss: 0.0147 - accuracy: 0.9039\n",
            "Epoch 31/50\n",
            "300/300 [==============================] - 4s 14ms/step - loss: 0.0146 - accuracy: 0.9046\n",
            "Epoch 32/50\n",
            "300/300 [==============================] - 4s 14ms/step - loss: 0.0146 - accuracy: 0.9052\n",
            "Epoch 33/50\n",
            "300/300 [==============================] - 4s 14ms/step - loss: 0.0146 - accuracy: 0.9055\n",
            "Epoch 34/50\n",
            "300/300 [==============================] - 4s 14ms/step - loss: 0.0145 - accuracy: 0.9048\n",
            "Epoch 35/50\n",
            "300/300 [==============================] - 4s 14ms/step - loss: 0.0145 - accuracy: 0.9061\n",
            "Epoch 36/50\n",
            "300/300 [==============================] - 4s 14ms/step - loss: 0.0145 - accuracy: 0.9057\n",
            "Epoch 37/50\n",
            "300/300 [==============================] - 4s 15ms/step - loss: 0.0144 - accuracy: 0.9070\n",
            "Epoch 38/50\n",
            "300/300 [==============================] - 4s 15ms/step - loss: 0.0144 - accuracy: 0.9058\n",
            "Epoch 39/50\n",
            "300/300 [==============================] - 4s 14ms/step - loss: 0.0143 - accuracy: 0.9071\n",
            "Epoch 40/50\n",
            "300/300 [==============================] - 4s 14ms/step - loss: 0.0143 - accuracy: 0.9072\n",
            "Epoch 41/50\n",
            "300/300 [==============================] - 4s 15ms/step - loss: 0.0143 - accuracy: 0.9071\n",
            "Epoch 42/50\n",
            "300/300 [==============================] - 4s 14ms/step - loss: 0.0143 - accuracy: 0.9072\n",
            "Epoch 43/50\n",
            "300/300 [==============================] - 4s 15ms/step - loss: 0.0142 - accuracy: 0.9075\n",
            "Epoch 44/50\n",
            "300/300 [==============================] - 4s 15ms/step - loss: 0.0142 - accuracy: 0.9079\n",
            "Epoch 45/50\n",
            "300/300 [==============================] - 4s 14ms/step - loss: 0.0142 - accuracy: 0.9076\n",
            "Epoch 46/50\n",
            "300/300 [==============================] - 4s 14ms/step - loss: 0.0141 - accuracy: 0.9091\n",
            "Epoch 47/50\n",
            "300/300 [==============================] - 4s 14ms/step - loss: 0.0141 - accuracy: 0.9085\n",
            "Epoch 48/50\n",
            "300/300 [==============================] - 4s 14ms/step - loss: 0.0140 - accuracy: 0.9089\n",
            "Epoch 49/50\n",
            "300/300 [==============================] - 4s 14ms/step - loss: 0.0140 - accuracy: 0.9096\n",
            "Epoch 50/50\n",
            "300/300 [==============================] - 4s 15ms/step - loss: 0.0140 - accuracy: 0.9098\n"
          ],
          "name": "stdout"
        },
        {
          "output_type": "execute_result",
          "data": {
            "text/plain": [
              "<tensorflow.python.keras.callbacks.History at 0x7f8195730c50>"
            ]
          },
          "metadata": {
            "tags": []
          },
          "execution_count": 36
        }
      ]
    },
    {
      "cell_type": "markdown",
      "metadata": {
        "id": "6eLuaPY5modI",
        "colab_type": "text"
      },
      "source": [
        "從準確率看的話，Model2的訓練結果比Model來的好。\n"
      ]
    },
    {
      "cell_type": "markdown",
      "metadata": {
        "id": "I5T3BkKBLN_d",
        "colab_type": "text"
      },
      "source": [
        "##  Model2 訓練結果"
      ]
    },
    {
      "cell_type": "code",
      "metadata": {
        "id": "YIioulMawZeE",
        "colab_type": "code",
        "colab": {}
      },
      "source": [
        "result2 = model2.predict_classes(x_test)"
      ],
      "execution_count": 0,
      "outputs": []
    },
    {
      "cell_type": "code",
      "metadata": {
        "id": "rWAi-KsnxrAj",
        "colab_type": "code",
        "colab": {
          "base_uri": "https://localhost:8080/",
          "height": 300
        },
        "outputId": "b5a2f167-b2e0-4249-e744-9391120b2cc9"
      },
      "source": [
        "n = 3452\n",
        "print('神經網路預測是:', class_names[result[n]])\n",
        "plt.imshow(x_test[n].reshape(28,28), cmap='Greys')"
      ],
      "execution_count": 38,
      "outputs": [
        {
          "output_type": "stream",
          "text": [
            "神經網路預測是: Sneaker\n"
          ],
          "name": "stdout"
        },
        {
          "output_type": "execute_result",
          "data": {
            "text/plain": [
              "<matplotlib.image.AxesImage at 0x7f8194ea8240>"
            ]
          },
          "metadata": {
            "tags": []
          },
          "execution_count": 38
        },
        {
          "output_type": "display_data",
          "data": {
            "image/png": "[encoded data removed]",
            "text/plain": [
              "<Figure size 432x288 with 1 Axes>"
            ]
          },
          "metadata": {
            "tags": []
          }
        }
      ]
    },
    {
      "cell_type": "code",
      "metadata": {
        "id": "RMOW8e_yy6kA",
        "colab_type": "code",
        "colab": {
          "base_uri": "https://localhost:8080/",
          "height": 52
        },
        "outputId": "8e6ced56-d03f-428e-d6b6-50f934332f91"
      },
      "source": [
        "model2.evaluate(x_test,y_test)"
      ],
      "execution_count": 39,
      "outputs": [
        {
          "output_type": "stream",
          "text": [
            "313/313 [==============================] - 1s 2ms/step - loss: 0.0211 - accuracy: 0.8559\n"
          ],
          "name": "stdout"
        },
        {
          "output_type": "execute_result",
          "data": {
            "text/plain": [
              "[0.02108820714056492, 0.85589998960495]"
            ]
          },
          "metadata": {
            "tags": []
          },
          "execution_count": 39
        }
      ]
    },
    {
      "cell_type": "markdown",
      "metadata": {
        "id": "13VFq3bXnVdo",
        "colab_type": "text"
      },
      "source": [
        "###準確率只有0.8559，比Model低一點點。"
      ]
    }
  ]
}